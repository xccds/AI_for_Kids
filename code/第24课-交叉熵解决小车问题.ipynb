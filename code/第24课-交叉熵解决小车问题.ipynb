{
 "cells": [
  {
   "cell_type": "code",
   "execution_count": 1,
   "metadata": {},
   "outputs": [],
   "source": [
    "import gym\n",
    "from collections import namedtuple\n",
    "import numpy as np\n",
    "#from tensorboardX import SummaryWriter\n",
    "\n",
    "import torch\n",
    "import torch.nn as nn\n",
    "import torch.optim as optim\n"
   ]
  },
  {
   "cell_type": "code",
   "execution_count": 2,
   "metadata": {},
   "outputs": [],
   "source": [
    "HIDDEN_SIZE = 128\n",
    "BATCH_SIZE = 16\n",
    "PERCENTILE = 70\n"
   ]
  },
  {
   "cell_type": "code",
   "execution_count": 3,
   "metadata": {},
   "outputs": [],
   "source": [
    "class Net(nn.Module):\n",
    "    def __init__(self, obs_size, hidden_size, n_actions):\n",
    "        super(Net, self).__init__()\n",
    "        self.net = nn.Sequential(\n",
    "            nn.Linear(obs_size, hidden_size),\n",
    "            nn.ReLU(),\n",
    "            nn.Linear(hidden_size, n_actions)\n",
    "        )\n",
    "\n",
    "    def forward(self, x):\n",
    "        return self.net(x)\n"
   ]
  },
  {
   "cell_type": "code",
   "execution_count": 4,
   "metadata": {},
   "outputs": [],
   "source": [
    "Episode = namedtuple('Episode', field_names=['reward', 'steps'])\n",
    "EpisodeStep = namedtuple('EpisodeStep', field_names=['observation', 'action'])\n"
   ]
  },
  {
   "cell_type": "code",
   "execution_count": 5,
   "metadata": {},
   "outputs": [],
   "source": [
    "def iterate_batches(env, net, batch_size):\n",
    "    batch = []\n",
    "    episode_reward = 0.0\n",
    "    episode_steps = []\n",
    "    obs = env.reset()\n",
    "    sm = nn.Softmax(dim=1)\n",
    "    while True:\n",
    "        obs_v = torch.FloatTensor([obs])\n",
    "        act_probs_v = sm(net(obs_v))\n",
    "        act_probs = act_probs_v.data.numpy()[0]\n",
    "        action = np.random.choice(len(act_probs), p=act_probs)\n",
    "        next_obs, reward, is_done, _ = env.step(action)\n",
    "        episode_reward += reward\n",
    "        episode_steps.append(EpisodeStep(observation=obs, action=action))\n",
    "        if is_done:\n",
    "            batch.append(Episode(reward=episode_reward, steps=episode_steps))\n",
    "            episode_reward = 0.0\n",
    "            episode_steps = []\n",
    "            next_obs = env.reset()\n",
    "            if len(batch) == batch_size:\n",
    "                yield batch\n",
    "                batch = []\n",
    "        obs = next_obs\n",
    "\n"
   ]
  },
  {
   "cell_type": "code",
   "execution_count": 6,
   "metadata": {},
   "outputs": [],
   "source": [
    "def filter_batch(batch, percentile):\n",
    "    rewards = list(map(lambda s: s.reward, batch))\n",
    "    reward_bound = np.percentile(rewards, percentile)\n",
    "    reward_mean = float(np.mean(rewards))\n",
    "\n",
    "    train_obs = []\n",
    "    train_act = []\n",
    "    for example in batch:\n",
    "        if example.reward < reward_bound:\n",
    "            continue\n",
    "        train_obs.extend(map(lambda step: step.observation, example.steps))\n",
    "        train_act.extend(map(lambda step: step.action, example.steps))\n",
    "\n",
    "    train_obs_v = torch.FloatTensor(train_obs)\n",
    "    train_act_v = torch.LongTensor(train_act)\n",
    "    return train_obs_v, train_act_v, reward_bound, reward_mean\n",
    "\n"
   ]
  },
  {
   "cell_type": "code",
   "execution_count": 7,
   "metadata": {
    "scrolled": true
   },
   "outputs": [
    {
     "name": "stdout",
     "output_type": "stream",
     "text": [
      "0: loss=0.682, reward_mean=31.9, reward_bound=34.5\n",
      "1: loss=0.670, reward_mean=38.1, reward_bound=45.5\n",
      "2: loss=0.658, reward_mean=30.8, reward_bound=33.5\n",
      "3: loss=0.646, reward_mean=32.1, reward_bound=32.5\n",
      "4: loss=0.649, reward_mean=36.4, reward_bound=42.0\n",
      "5: loss=0.631, reward_mean=43.0, reward_bound=45.0\n",
      "6: loss=0.615, reward_mean=43.2, reward_bound=49.5\n",
      "7: loss=0.606, reward_mean=52.4, reward_bound=63.0\n",
      "8: loss=0.606, reward_mean=66.8, reward_bound=78.5\n",
      "9: loss=0.577, reward_mean=51.0, reward_bound=52.0\n",
      "10: loss=0.581, reward_mean=45.2, reward_bound=46.0\n",
      "11: loss=0.593, reward_mean=58.8, reward_bound=63.5\n",
      "12: loss=0.575, reward_mean=53.7, reward_bound=67.5\n",
      "13: loss=0.554, reward_mean=53.7, reward_bound=60.5\n",
      "14: loss=0.569, reward_mean=60.8, reward_bound=76.5\n",
      "15: loss=0.556, reward_mean=66.0, reward_bound=73.0\n",
      "16: loss=0.541, reward_mean=64.2, reward_bound=65.5\n",
      "17: loss=0.549, reward_mean=57.8, reward_bound=59.0\n",
      "18: loss=0.536, reward_mean=64.8, reward_bound=62.5\n",
      "19: loss=0.537, reward_mean=72.1, reward_bound=94.5\n",
      "20: loss=0.535, reward_mean=58.2, reward_bound=64.0\n",
      "21: loss=0.557, reward_mean=66.5, reward_bound=70.0\n",
      "22: loss=0.546, reward_mean=83.8, reward_bound=106.5\n",
      "23: loss=0.511, reward_mean=71.1, reward_bound=81.0\n",
      "24: loss=0.517, reward_mean=64.7, reward_bound=74.5\n",
      "25: loss=0.506, reward_mean=78.3, reward_bound=88.0\n",
      "26: loss=0.534, reward_mean=71.2, reward_bound=77.0\n",
      "27: loss=0.513, reward_mean=84.3, reward_bound=84.0\n",
      "28: loss=0.508, reward_mean=94.2, reward_bound=118.0\n",
      "29: loss=0.474, reward_mean=80.6, reward_bound=88.5\n",
      "30: loss=0.480, reward_mean=80.1, reward_bound=86.5\n",
      "31: loss=0.515, reward_mean=73.3, reward_bound=75.0\n",
      "32: loss=0.501, reward_mean=68.9, reward_bound=74.5\n",
      "33: loss=0.545, reward_mean=75.8, reward_bound=74.0\n",
      "34: loss=0.496, reward_mean=74.9, reward_bound=83.0\n",
      "35: loss=0.487, reward_mean=67.6, reward_bound=69.0\n",
      "36: loss=0.479, reward_mean=88.6, reward_bound=99.5\n",
      "37: loss=0.484, reward_mean=84.8, reward_bound=102.0\n",
      "38: loss=0.471, reward_mean=110.8, reward_bound=135.0\n",
      "39: loss=0.491, reward_mean=112.2, reward_bound=128.0\n",
      "40: loss=0.476, reward_mean=137.1, reward_bound=157.0\n",
      "41: loss=0.492, reward_mean=134.2, reward_bound=154.5\n",
      "42: loss=0.480, reward_mean=132.6, reward_bound=142.0\n",
      "43: loss=0.474, reward_mean=135.9, reward_bound=159.0\n",
      "44: loss=0.463, reward_mean=124.8, reward_bound=148.0\n",
      "45: loss=0.489, reward_mean=104.9, reward_bound=105.5\n",
      "46: loss=0.463, reward_mean=128.9, reward_bound=154.0\n",
      "47: loss=0.457, reward_mean=130.8, reward_bound=146.5\n",
      "48: loss=0.473, reward_mean=137.0, reward_bound=167.0\n",
      "49: loss=0.447, reward_mean=145.9, reward_bound=171.5\n",
      "50: loss=0.443, reward_mean=146.1, reward_bound=180.0\n",
      "51: loss=0.453, reward_mean=159.4, reward_bound=200.0\n",
      "52: loss=0.446, reward_mean=179.1, reward_bound=200.0\n",
      "53: loss=0.452, reward_mean=182.9, reward_bound=200.0\n",
      "54: loss=0.461, reward_mean=198.6, reward_bound=200.0\n",
      "55: loss=0.457, reward_mean=186.8, reward_bound=200.0\n",
      "56: loss=0.450, reward_mean=188.0, reward_bound=200.0\n",
      "57: loss=0.443, reward_mean=193.9, reward_bound=200.0\n",
      "58: loss=0.461, reward_mean=194.1, reward_bound=200.0\n",
      "59: loss=0.447, reward_mean=193.6, reward_bound=200.0\n",
      "60: loss=0.440, reward_mean=195.6, reward_bound=200.0\n",
      "61: loss=0.452, reward_mean=192.7, reward_bound=200.0\n",
      "62: loss=0.446, reward_mean=195.8, reward_bound=200.0\n",
      "63: loss=0.456, reward_mean=195.2, reward_bound=200.0\n",
      "64: loss=0.444, reward_mean=200.0, reward_bound=200.0\n",
      "Solved!\n"
     ]
    }
   ],
   "source": [
    "env = gym.make(\"CartPole-v0\")\n",
    "# env = gym.wrappers.Monitor(env, directory=\"mon\", force=True)\n",
    "obs_size = env.observation_space.shape[0]\n",
    "n_actions = env.action_space.n\n",
    "\n",
    "net = Net(obs_size, HIDDEN_SIZE, n_actions)\n",
    "objective = nn.CrossEntropyLoss()\n",
    "optimizer = optim.Adam(params=net.parameters(), lr=0.01)\n",
    "# writer = SummaryWriter(comment=\"-cartpole\")\n",
    "\n",
    "for iter_no, batch in enumerate(iterate_batches(env, net, BATCH_SIZE)):\n",
    "    obs_v, acts_v, reward_b, reward_m = filter_batch(batch, PERCENTILE)\n",
    "    optimizer.zero_grad()\n",
    "    action_scores_v = net(obs_v)\n",
    "    loss_v = objective(action_scores_v, acts_v)\n",
    "    loss_v.backward()\n",
    "    optimizer.step()\n",
    "    print(\"%d: loss=%.3f, reward_mean=%.1f, reward_bound=%.1f\" % (\n",
    "        iter_no, loss_v.item(), reward_m, reward_b))\n",
    "    # writer.add_scalar(\"loss\", loss_v.item(), iter_no)\n",
    "    # writer.add_scalar(\"reward_bound\", reward_b, iter_no)\n",
    "    # writer.add_scalar(\"reward_mean\", reward_m, iter_no)\n",
    "    if reward_m > 199:\n",
    "        print(\"Solved!\")\n",
    "        break\n"
   ]
  },
  {
   "cell_type": "code",
   "execution_count": null,
   "metadata": {},
   "outputs": [],
   "source": []
  },
  {
   "cell_type": "code",
   "execution_count": null,
   "metadata": {},
   "outputs": [],
   "source": []
  }
 ],
 "metadata": {
  "kernelspec": {
   "display_name": "Python 3",
   "language": "python",
   "name": "python3"
  },
  "language_info": {
   "codemirror_mode": {
    "name": "ipython",
    "version": 3
   },
   "file_extension": ".py",
   "mimetype": "text/x-python",
   "name": "python",
   "nbconvert_exporter": "python",
   "pygments_lexer": "ipython3",
   "version": "3.6.5"
  }
 },
 "nbformat": 4,
 "nbformat_minor": 2
}
