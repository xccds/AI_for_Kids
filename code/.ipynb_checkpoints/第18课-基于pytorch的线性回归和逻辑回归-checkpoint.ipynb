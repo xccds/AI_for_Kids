{
 "cells": [
  {
   "cell_type": "markdown",
   "metadata": {},
   "source": [
    "### 本课提纲\n",
    "- 基于pytorch的线性回归\n",
    "- 基于pytorch的逻辑回归\n",
    "- 练习"
   ]
  },
  {
   "cell_type": "markdown",
   "metadata": {},
   "source": [
    "pytorch是机器学习乃至人工智能的重要工具，所以为了熟练的掌握它，我们会利用它来实现线性回归和逻辑回归。线性回归在第15课学习过，逻辑回归在第14课学习过，重复是学习的根本方法，通过不同的工具来学习，也可以更好的掌握这两种最为基本的算法，从而为后续神经网络的学习打好扎实的基础。"
   ]
  },
  {
   "cell_type": "markdown",
   "metadata": {},
   "source": [
    "### 1. 基于pytorch的线性回归"
   ]
  },
  {
   "cell_type": "markdown",
   "metadata": {},
   "source": [
    "下面我们来使用Pytorch来解决线性回归的问题，线性回归的数据例子我们在第15课是一样的，在15课里我们是使用了自己实现的算法来解决的。在本课里我们来尝试使用torch自带的函数来处理。这就好比以前我们爬山是自己双腿爬上去的，很辛苦但是很锻炼，这次呢我们是坐缆车上山，方便很多。"
   ]
  },
  {
   "cell_type": "markdown",
   "metadata": {},
   "source": [
    "首先加载torch，np，matplotlib等几个需要的模块，其中torch.nn是重要的一个子模块，我们会调用其中的函数来构造线性组合。"
   ]
  },
  {
   "cell_type": "code",
   "execution_count": 1,
   "metadata": {},
   "outputs": [],
   "source": [
    "import torch\n",
    "import torch.nn as nn\n",
    "import numpy as np\n",
    "import matplotlib.pyplot as plt\n"
   ]
  },
  {
   "cell_type": "markdown",
   "metadata": {},
   "source": [
    "然后定义几个超参数，要解决的问题是一个输入变量x和一个输出变量y，所以input_size和output_size都是1，如果像iris数据那样有四个输入，input_size可以设置为4。另外我们先定义好整体的迭代次数是30次，学习率是0.1"
   ]
  },
  {
   "cell_type": "code",
   "execution_count": 47,
   "metadata": {},
   "outputs": [],
   "source": [
    "# Hyper-parameters\n",
    "input_size = 1\n",
    "output_size = 1\n",
    "num_epochs = 30\n",
    "learning_rate = 0.1\n"
   ]
  },
  {
   "cell_type": "markdown",
   "metadata": {},
   "source": [
    "再定义我们的数据集，这里的数据和第15课完全一样，reshape之后，我们得到的x_train是10行1列的矩阵形式。"
   ]
  },
  {
   "cell_type": "code",
   "execution_count": 48,
   "metadata": {},
   "outputs": [],
   "source": [
    "# Toy dataset\n",
    "x_train = np.array([0.1, 0.2, 0.3, \n",
    "              0.4, 0.5, 0.6, \n",
    "              0.7, 0.8, 0.9, 1], dtype=np.float32).reshape(-1,1)\n",
    "\n",
    "y_train = np.array([0.05,0.08,0.1,\n",
    "             0.09,0.13,0.14,\n",
    "             0.17,0.21,0.28,0.27], dtype=np.float32).reshape(-1,1)"
   ]
  },
  {
   "cell_type": "markdown",
   "metadata": {},
   "source": [
    "然后来定义我们的模型形式，也就说输入变量是如何计算的，和15课讲的一样，我们对输入的每个变量乘上一个系数w再加上一个b，这就是所谓的线性组合的形式。所以这是一个线性模型，模型有两个重要的参数，就是斜率系数w和截距b，它们的的初始值都赋值为1，然后数据形状是1乘1的矩阵格式。同时设置requires_grad为真，以方便后续进行梯度的计算和调整。"
   ]
  },
  {
   "cell_type": "code",
   "execution_count": 49,
   "metadata": {},
   "outputs": [],
   "source": [
    "w = torch.ones([1,1],requires_grad=True)\n",
    "b = torch.ones([1,1],requires_grad=True)"
   ]
  },
  {
   "cell_type": "markdown",
   "metadata": {},
   "source": [
    "定义一个model函数来计算这个线性模型的输出。"
   ]
  },
  {
   "cell_type": "code",
   "execution_count": 50,
   "metadata": {},
   "outputs": [],
   "source": [
    "def model(x):\n",
    "    return torch.matmul(x,w) + b"
   ]
  },
  {
   "cell_type": "markdown",
   "metadata": {},
   "source": [
    "让我们来试试这个model函数，输入一个常数1，经过model的计算得到结果2."
   ]
  },
  {
   "cell_type": "code",
   "execution_count": 51,
   "metadata": {
    "scrolled": true
   },
   "outputs": [
    {
     "data": {
      "text/plain": [
       "tensor([[2.]], grad_fn=<AddBackward0>)"
      ]
     },
     "execution_count": 51,
     "metadata": {},
     "output_type": "execute_result"
    }
   ],
   "source": [
    "model(torch.tensor([1.0]))"
   ]
  },
  {
   "cell_type": "markdown",
   "metadata": {},
   "source": [
    "还需要一个函数来计算真实值和预测值之间的差距，我们一般称之为loss，这个损失函数就是差值的平方后再求平均。diff是保存了两个tensor的差值，它也是一个tensor。"
   ]
  },
  {
   "cell_type": "code",
   "execution_count": 52,
   "metadata": {},
   "outputs": [],
   "source": [
    "def mse(t1, t2):\n",
    "    diff = t1 - t2\n",
    "    return torch.mean(diff * diff) "
   ]
  },
  {
   "cell_type": "markdown",
   "metadata": {},
   "source": [
    "然后定义一个优化器，优化器中需要设置优化的参数是w和b这两个参数，同时设置了学习率。"
   ]
  },
  {
   "cell_type": "code",
   "execution_count": 53,
   "metadata": {},
   "outputs": [],
   "source": [
    "optimizer = torch.optim.SGD([w,b], lr=learning_rate)  "
   ]
  },
  {
   "cell_type": "markdown",
   "metadata": {},
   "source": [
    "最后用一个迭代来循环来训练模型，也就是找到合适的w，使得loss最小。首先是将x_train和y_train转换为torch的tensor数据格式，然后用之前定义好的model函数对inputs进行计算，得到预测值，使用定义好的mse函数来计算loss，再用loss.backward计算以loss为目标的所有参数的梯度。然后optimizer.step的目的是进行单步的参数更新，修正w和b。因为参数的梯度会累积保存，所以在迭代中需要对梯度进行清零，也就是zero_grad的目的。"
   ]
  },
  {
   "cell_type": "code",
   "execution_count": 54,
   "metadata": {},
   "outputs": [
    {
     "name": "stdout",
     "output_type": "stream",
     "text": [
      "Epoch [10/30], Loss: 0.0093\n",
      "Epoch [20/30], Loss: 0.0012\n",
      "Epoch [30/30], Loss: 0.0010\n"
     ]
    }
   ],
   "source": [
    "# Train the model\n",
    "for epoch in range(num_epochs):\n",
    "    # Convert numpy arrays to torch tensors\n",
    "    inputs = torch.from_numpy(x_train)\n",
    "    targets = torch.from_numpy(y_train)\n",
    "\n",
    "    # Forward pass\n",
    "    outputs = model(inputs)\n",
    "    loss = mse(outputs, targets)\n",
    "    \n",
    "    # Backward and optimize\n",
    "    optimizer.zero_grad()\n",
    "    loss.backward()\n",
    "    optimizer.step()\n",
    "    \n",
    "    if (epoch+1) % 10 == 0:\n",
    "        print ('Epoch [{}/{}], Loss: {:.4f}'.format(epoch+1, num_epochs, loss.item()))\n"
   ]
  },
  {
   "cell_type": "markdown",
   "metadata": {},
   "source": [
    "从打印的日志可以看到，我们的Loss是逐渐在减小的，这也是我们希望看到的，我们看一下最终训练到的w和b的参数值是多少。"
   ]
  },
  {
   "cell_type": "code",
   "execution_count": 55,
   "metadata": {},
   "outputs": [
    {
     "name": "stdout",
     "output_type": "stream",
     "text": [
      "tensor([[0.3389]], requires_grad=True)\n",
      "tensor([[-0.0374]], requires_grad=True)\n"
     ]
    }
   ],
   "source": [
    "print(w)\n",
    "print(b)"
   ]
  },
  {
   "cell_type": "markdown",
   "metadata": {},
   "source": [
    "然后我们可以显示真实值和模型预测值之间的图"
   ]
  },
  {
   "cell_type": "code",
   "execution_count": 56,
   "metadata": {},
   "outputs": [
    {
     "data": {
      "image/png": "[encoded data removed]",
      "text/plain": [
       "<Figure size 432x288 with 1 Axes>"
      ]
     },
     "metadata": {},
     "output_type": "display_data"
    }
   ],
   "source": [
    "# Plot the graph\n",
    "predicted = model(torch.from_numpy(x_train)).detach().numpy()\n",
    "plt.plot(x_train, y_train, 'ro', label='Original data')\n",
    "plt.plot(x_train, predicted, label='Fitted line')\n",
    "plt.legend()\n",
    "plt.show()\n"
   ]
  },
  {
   "cell_type": "markdown",
   "metadata": {},
   "source": [
    "之前我们是使用了自己定义的模型和损失函数，torch也提供了一些定义好的模型和函数，我们可以直接使用。例如nn.Linear函数，可以代替我们自定义的model函数，MSELoss可以代替我们自定义的mse函数。其它的部分基本一样。"
   ]
  },
  {
   "cell_type": "code",
   "execution_count": 59,
   "metadata": {},
   "outputs": [],
   "source": [
    "# Hyper-parameters\n",
    "input_size = 1\n",
    "output_size = 1\n",
    "num_epochs = 30\n",
    "learning_rate = 0.1\n",
    "# Toy dataset\n",
    "x_train = np.array([0.1, 0.2, 0.3, \n",
    "              0.4, 0.5, 0.6, \n",
    "              0.7, 0.8, 0.9, 1], dtype=np.float32).reshape(-1,1)\n",
    "\n",
    "y_train = np.array([0.05,0.08,0.1,\n",
    "             0.09,0.13,0.14,\n",
    "             0.17,0.21,0.28,0.27], dtype=np.float32).reshape(-1,1)\n",
    "model = nn.Linear(input_size, output_size)\n",
    "# Loss and optimizer\n",
    "criterion = nn.MSELoss()\n",
    "optimizer = torch.optim.SGD(model.parameters(), lr=learning_rate)  "
   ]
  },
  {
   "cell_type": "code",
   "execution_count": 60,
   "metadata": {},
   "outputs": [
    {
     "name": "stdout",
     "output_type": "stream",
     "text": [
      "Epoch [10/30], Loss: 0.0057\n",
      "Epoch [20/30], Loss: 0.0013\n",
      "Epoch [30/30], Loss: 0.0011\n"
     ]
    }
   ],
   "source": [
    "# Train the model\n",
    "for epoch in range(num_epochs):\n",
    "    # Convert numpy arrays to torch tensors\n",
    "    inputs = torch.from_numpy(x_train)\n",
    "    targets = torch.from_numpy(y_train)\n",
    "\n",
    "    # Forward pass\n",
    "    outputs = model(inputs)\n",
    "    loss = criterion(outputs, targets)\n",
    "    \n",
    "    # Backward and optimize\n",
    "    optimizer.zero_grad()\n",
    "    loss.backward()\n",
    "    optimizer.step()\n",
    "    \n",
    "    if (epoch+1) % 10 == 0:\n",
    "        print ('Epoch [{}/{}], Loss: {:.4f}'.format(epoch+1, num_epochs, loss.item()))\n",
    "\n"
   ]
  },
  {
   "cell_type": "markdown",
   "metadata": {},
   "source": [
    "### 2. 基于pytorch的逻辑回归"
   ]
  },
  {
   "cell_type": "markdown",
   "metadata": {},
   "source": [
    "我们在第14课的时候学习过了逻辑回归，它和线性回归类似，都是对输入变量进行了加权汇总计算，再进行转换输出。我们同样再次使用iris数据集来进行建模，先首读入数据"
   ]
  },
  {
   "cell_type": "code",
   "execution_count": 1,
   "metadata": {},
   "outputs": [
    {
     "data": {
      "text/html": [
       "<div>\n",
       "<style scoped>\n",
       "    .dataframe tbody tr th:only-of-type {\n",
       "        vertical-align: middle;\n",
       "    }\n",
       "\n",
       "    .dataframe tbody tr th {\n",
       "        vertical-align: top;\n",
       "    }\n",
       "\n",
       "    .dataframe thead th {\n",
       "        text-align: right;\n",
       "    }\n",
       "</style>\n",
       "<table border=\"1\" class=\"dataframe\">\n",
       "  <thead>\n",
       "    <tr style=\"text-align: right;\">\n",
       "      <th></th>\n",
       "      <th>sepal_length</th>\n",
       "      <th>sepal_width</th>\n",
       "      <th>petal_length</th>\n",
       "      <th>petal_width</th>\n",
       "      <th>species</th>\n",
       "    </tr>\n",
       "  </thead>\n",
       "  <tbody>\n",
       "    <tr>\n",
       "      <th>0</th>\n",
       "      <td>5.1</td>\n",
       "      <td>3.5</td>\n",
       "      <td>1.4</td>\n",
       "      <td>0.2</td>\n",
       "      <td>Setosa</td>\n",
       "    </tr>\n",
       "    <tr>\n",
       "      <th>1</th>\n",
       "      <td>4.9</td>\n",
       "      <td>3.0</td>\n",
       "      <td>1.4</td>\n",
       "      <td>0.2</td>\n",
       "      <td>Setosa</td>\n",
       "    </tr>\n",
       "    <tr>\n",
       "      <th>2</th>\n",
       "      <td>4.7</td>\n",
       "      <td>3.2</td>\n",
       "      <td>1.3</td>\n",
       "      <td>0.2</td>\n",
       "      <td>Setosa</td>\n",
       "    </tr>\n",
       "    <tr>\n",
       "      <th>3</th>\n",
       "      <td>4.6</td>\n",
       "      <td>3.1</td>\n",
       "      <td>1.5</td>\n",
       "      <td>0.2</td>\n",
       "      <td>Setosa</td>\n",
       "    </tr>\n",
       "    <tr>\n",
       "      <th>4</th>\n",
       "      <td>5.0</td>\n",
       "      <td>3.6</td>\n",
       "      <td>1.4</td>\n",
       "      <td>0.2</td>\n",
       "      <td>Setosa</td>\n",
       "    </tr>\n",
       "  </tbody>\n",
       "</table>\n",
       "</div>"
      ],
      "text/plain": [
       "   sepal_length  sepal_width  petal_length  petal_width species\n",
       "0           5.1          3.5           1.4          0.2  Setosa\n",
       "1           4.9          3.0           1.4          0.2  Setosa\n",
       "2           4.7          3.2           1.3          0.2  Setosa\n",
       "3           4.6          3.1           1.5          0.2  Setosa\n",
       "4           5.0          3.6           1.4          0.2  Setosa"
      ]
     },
     "execution_count": 1,
     "metadata": {},
     "output_type": "execute_result"
    }
   ],
   "source": [
    "import pandas as pd\n",
    "\n",
    "df = pd.read_csv('../data/iris.csv')\n",
    "df.head()"
   ]
  },
  {
   "cell_type": "markdown",
   "metadata": {},
   "source": [
    "和第14课的类似，只取出两个种类的花，做一个简化的二分类建模任务。"
   ]
  },
  {
   "cell_type": "code",
   "execution_count": 62,
   "metadata": {},
   "outputs": [],
   "source": [
    "y = df.iloc[0:100, 4].values\n",
    "y = np.where(y == 'Setosa', 0, 1)\n",
    "\n",
    "# extract sepal length and petal length\n",
    "X = df.iloc[0:100, [0, 2]].values"
   ]
  },
  {
   "cell_type": "markdown",
   "metadata": {},
   "source": [
    "然后再做数据的标准化"
   ]
  },
  {
   "cell_type": "code",
   "execution_count": 63,
   "metadata": {},
   "outputs": [],
   "source": [
    "X_std = np.copy(X)\n",
    "X_std[:,0] = (X[:,0] - X[:,0].mean()) / X[:,0].std()\n",
    "X_std[:,1] = (X[:,1] - X[:,1].mean()) / X[:,1].std()"
   ]
  },
  {
   "cell_type": "markdown",
   "metadata": {},
   "source": [
    "确定超参数，这里有两个变量输入，所以input_size设为2，其它的迭代次数设为300，学习率设置为0.1"
   ]
  },
  {
   "cell_type": "code",
   "execution_count": 99,
   "metadata": {},
   "outputs": [],
   "source": [
    "# Hyper-parameters\n",
    "input_size = 2\n",
    "output_size = 1\n",
    "num_epochs = 300\n",
    "learning_rate = 0.1"
   ]
  },
  {
   "cell_type": "markdown",
   "metadata": {},
   "source": [
    "使用nn.Linear函数，以方便后面对输入进行线性组合。使用nn.BCELoss损失函数，这里就相当于14课中我们自定义的_logit_cost函数。然后再定义一个优化器。"
   ]
  },
  {
   "cell_type": "code",
   "execution_count": 114,
   "metadata": {},
   "outputs": [],
   "source": [
    "model_lr = nn.Linear(input_size, output_size)\n",
    "# Loss and optimizer\n",
    "criterion = torch.nn.BCELoss()\n",
    "#criterion = nn.CrossEntropyLoss()  \n",
    "optimizer = torch.optim.SGD(model_lr.parameters(), lr=learning_rate)  "
   ]
  },
  {
   "cell_type": "markdown",
   "metadata": {},
   "source": [
    "然后我们用一个循环来训练，每次循环中将数据转换为torch的tensor格式，用定义好的model_lr将输入数据进行线性组合，再通过sigmoid函数进行激活，将预测值outputs和真实的标签targets计算损失函数，后面类似的是计算以loss为目标的各个参数的梯度，同时进行梯度修正。"
   ]
  },
  {
   "cell_type": "code",
   "execution_count": 115,
   "metadata": {},
   "outputs": [
    {
     "name": "stdout",
     "output_type": "stream",
     "text": [
      "Epoch [50/300], Loss: 0.1952\n",
      "Epoch [100/300], Loss: 0.1254\n",
      "Epoch [150/300], Loss: 0.0967\n",
      "Epoch [200/300], Loss: 0.0802\n",
      "Epoch [250/300], Loss: 0.0692\n",
      "Epoch [300/300], Loss: 0.0611\n"
     ]
    }
   ],
   "source": [
    "loss_list = []\n",
    "# Train the model\n",
    "for epoch in range(num_epochs):\n",
    "    # Convert numpy arrays to torch tensors\n",
    "    inputs = torch.tensor(X_std,dtype=torch.float)\n",
    "    targets = torch.tensor(y.reshape(-1,1),dtype=torch.float)\n",
    "\n",
    "    # Forward pass\n",
    "    outputs = torch.sigmoid(model_lr(inputs))\n",
    "    loss = criterion(outputs, targets)\n",
    "    loss_list.append(loss.tolist())\n",
    "    # Backward and optimize\n",
    "    optimizer.zero_grad()\n",
    "    loss.backward()\n",
    "    optimizer.step()\n",
    "    \n",
    "    if (epoch+1) % 50 == 0:\n",
    "        print ('Epoch [{}/{}], Loss: {:.4f}'.format(epoch+1, num_epochs, loss.item()))\n",
    "\n"
   ]
  },
  {
   "cell_type": "markdown",
   "metadata": {},
   "source": [
    "模型训练好的参数保存在model_lr中，我们可以看到对应的数值。"
   ]
  },
  {
   "cell_type": "code",
   "execution_count": 116,
   "metadata": {},
   "outputs": [
    {
     "name": "stdout",
     "output_type": "stream",
     "text": [
      "Parameter containing:\n",
      "tensor([[1.1953, 2.8516]], requires_grad=True)\n",
      "Parameter containing:\n",
      "tensor([0.3582], requires_grad=True)\n"
     ]
    }
   ],
   "source": [
    "print(model_lr.weight)\n",
    "print(model_lr.bias)"
   ]
  },
  {
   "cell_type": "markdown",
   "metadata": {},
   "source": [
    "和第14课的方法类似，我们将这个参数转换成图上的决策边界，绘制出来。"
   ]
  },
  {
   "cell_type": "code",
   "execution_count": 117,
   "metadata": {},
   "outputs": [],
   "source": [
    "w1,w2 = model_lr.weight.tolist()[0]\n",
    "b = model_lr.bias.tolist()[0]\n",
    "a = -w1/w2\n",
    "line_x = np.linspace(-2,2,100)\n",
    "line_y = line_x*a - b"
   ]
  },
  {
   "cell_type": "code",
   "execution_count": 118,
   "metadata": {},
   "outputs": [
    {
     "data": {
      "image/png": "[encoded data removed]",
      "text/plain": [
       "<Figure size 432x288 with 1 Axes>"
      ]
     },
     "metadata": {},
     "output_type": "display_data"
    }
   ],
   "source": [
    "plt.scatter(X_std[:50, 0], X_std[:50, 1],\n",
    "            color='red', marker='o', label='setosa')\n",
    "plt.scatter(X_std[50:100, 0], X_std[50:100, 1],\n",
    "            color='blue', marker='x', label='versicolor')\n",
    "plt.plot(line_x,line_y)\n",
    "plt.xlabel('petal length [cm]')\n",
    "plt.ylabel('sepal length [cm]')\n",
    "plt.legend(loc='upper left')\n",
    "plt.tight_layout()"
   ]
  },
  {
   "cell_type": "markdown",
   "metadata": {},
   "source": [
    "同时，我们可以将损失函数的下降效果画在图上。"
   ]
  },
  {
   "cell_type": "code",
   "execution_count": 121,
   "metadata": {},
   "outputs": [
    {
     "data": {
      "image/png": "[encoded data removed]",
      "text/plain": [
       "<Figure size 432x288 with 1 Axes>"
      ]
     },
     "metadata": {},
     "output_type": "display_data"
    }
   ],
   "source": [
    "\n",
    "plt.plot(range(1, len(loss_list) + 1), loss_list)\n",
    "plt.xlabel('Epochs')\n",
    "plt.ylabel('Cost')\n",
    "plt.title('Logistic Regression - Learning rate 0.02')\n",
    "\n",
    "plt.tight_layout()"
   ]
  },
  {
   "cell_type": "markdown",
   "metadata": {},
   "source": [
    "### 练习："
   ]
  },
  {
   "cell_type": "markdown",
   "metadata": {},
   "source": [
    "仍然使用iris数据集，但是这次我们使用所有4个变量来建立模型。"
   ]
  },
  {
   "cell_type": "code",
   "execution_count": 122,
   "metadata": {},
   "outputs": [],
   "source": [
    "y = df.iloc[0:100, 4].values\n",
    "y = np.where(y == 'Setosa', 0, 1)\n",
    "\n",
    "# extract sepal length and petal length\n",
    "X = df.iloc[0:100, [0,1,2,3]].values"
   ]
  },
  {
   "cell_type": "code",
   "execution_count": 123,
   "metadata": {},
   "outputs": [],
   "source": [
    "X_std = np.copy(X)\n",
    "X_std[:,0] = (X[:,0] - X[:,0].mean()) / X[:,0].std()\n",
    "X_std[:,1] = (X[:,1] - X[:,1].mean()) / X[:,1].std()"
   ]
  },
  {
   "cell_type": "code",
   "execution_count": 124,
   "metadata": {},
   "outputs": [],
   "source": [
    "# Hyper-parameters\n",
    "input_size = 4\n",
    "output_size = 1\n",
    "num_epochs = 300\n",
    "learning_rate = 0.1"
   ]
  },
  {
   "cell_type": "code",
   "execution_count": 125,
   "metadata": {},
   "outputs": [],
   "source": [
    "model_lr = nn.Linear(input_size, output_size)\n",
    "# Loss and optimizer\n",
    "criterion = torch.nn.BCELoss()\n",
    "#criterion = nn.CrossEntropyLoss()  \n",
    "optimizer = torch.optim.SGD(model_lr.parameters(), lr=learning_rate)  "
   ]
  },
  {
   "cell_type": "code",
   "execution_count": 126,
   "metadata": {},
   "outputs": [
    {
     "name": "stdout",
     "output_type": "stream",
     "text": [
      "Epoch [50/300], Loss: 0.1569\n",
      "Epoch [100/300], Loss: 0.1015\n",
      "Epoch [150/300], Loss: 0.0762\n",
      "Epoch [200/300], Loss: 0.0616\n",
      "Epoch [250/300], Loss: 0.0521\n",
      "Epoch [300/300], Loss: 0.0453\n"
     ]
    }
   ],
   "source": [
    "loss_list = []\n",
    "# Train the model\n",
    "for epoch in range(num_epochs):\n",
    "    # Convert numpy arrays to torch tensors\n",
    "    inputs = torch.tensor(X_std,dtype=torch.float)\n",
    "    targets = torch.tensor(y.reshape(-1,1),dtype=torch.float)\n",
    "\n",
    "    # Forward pass\n",
    "    outputs = torch.sigmoid(model_lr(inputs))\n",
    "    loss = criterion(outputs, targets)\n",
    "    loss_list.append(loss.tolist())\n",
    "    # Backward and optimize\n",
    "    optimizer.zero_grad()\n",
    "    loss.backward()\n",
    "    optimizer.step()\n",
    "    \n",
    "    if (epoch+1) % 50 == 0:\n",
    "        print ('Epoch [{}/{}], Loss: {:.4f}'.format(epoch+1, num_epochs, loss.item()))\n",
    "\n"
   ]
  },
  {
   "cell_type": "code",
   "execution_count": 127,
   "metadata": {},
   "outputs": [
    {
     "data": {
      "image/png": "[encoded data removed]",
      "text/plain": [
       "<Figure size 432x288 with 1 Axes>"
      ]
     },
     "metadata": {},
     "output_type": "display_data"
    }
   ],
   "source": [
    "\n",
    "plt.plot(range(1, len(loss_list) + 1), loss_list)\n",
    "plt.xlabel('Epochs')\n",
    "plt.ylabel('Cost')\n",
    "plt.title('Logistic Regression - Learning rate 0.02')\n",
    "\n",
    "plt.tight_layout()"
   ]
  },
  {
   "cell_type": "markdown",
   "metadata": {},
   "source": [
    "可以对比看到，变量越多，损失函数下降的越迅速，也就是说模型学习的越快。"
   ]
  },
  {
   "cell_type": "markdown",
   "metadata": {},
   "source": [
    "### 本课小结：\n",
    "- pytorch来训练基本需要有四个步骤：定义参数、定义模型、定义损失函数、训练模型。\n",
    "- 使用pytorch来训练建模的好处是，有很多现成的模块和函数可以直接使用，我们只需要关注重要的部分即可。"
   ]
  }
 ],
 "metadata": {
  "kernelspec": {
   "display_name": "Python 3",
   "language": "python",
   "name": "python3"
  },
  "language_info": {
   "codemirror_mode": {
    "name": "ipython",
    "version": 3
   },
   "file_extension": ".py",
   "mimetype": "text/x-python",
   "name": "python",
   "nbconvert_exporter": "python",
   "pygments_lexer": "ipython3",
   "version": "3.6.5"
  }
 },
 "nbformat": 4,
 "nbformat_minor": 2
}
