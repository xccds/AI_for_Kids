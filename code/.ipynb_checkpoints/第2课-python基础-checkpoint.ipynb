{
 "cells": [
  {
   "cell_type": "markdown",
   "metadata": {},
   "source": [
    "### 本课提纲\n",
    "- 掌握第一个命令print\n",
    "- 数学运算\n",
    "- 变量\n",
    "- 数据类型，字符型和数值型\n",
    "- 函数\n",
    "- 类\n",
    "- 练习\n"
   ]
  },
  {
   "cell_type": "markdown",
   "metadata": {},
   "source": [
    "### 1. 掌握第一个命令print"
   ]
  },
  {
   "cell_type": "markdown",
   "metadata": {},
   "source": [
    "启动jupyter notebook之后，我们就可以在空白的地方开始输入代码了。让我们先动手试一下吧，试着输入第一条命令。输入完成后，点击工具栏上的“Run”按键就可以看到对应的命令输出结果了。"
   ]
  },
  {
   "cell_type": "code",
   "execution_count": 2,
   "metadata": {},
   "outputs": [
    {
     "name": "stdout",
     "output_type": "stream",
     "text": [
      "hello\n"
     ]
    }
   ],
   "source": [
    "print(\"hello\")"
   ]
  },
  {
   "cell_type": "markdown",
   "metadata": {},
   "source": [
    "如果我们把hello更换一下，会有什么样的结果呢，让我们再继续试一下吧。只需要将hello改成中文的“你好”，其它地方不要改变。"
   ]
  },
  {
   "cell_type": "code",
   "execution_count": 3,
   "metadata": {},
   "outputs": [
    {
     "name": "stdout",
     "output_type": "stream",
     "text": [
      "你好\n"
     ]
    }
   ],
   "source": [
    "print(\"你好\")"
   ]
  },
  {
   "cell_type": "markdown",
   "metadata": {},
   "source": [
    "计算机可以处理字符串，还可以处理其它种类的信息，那如果不是字符串，我们换成其它内容，看看print能够处理吗。"
   ]
  },
  {
   "cell_type": "code",
   "execution_count": 4,
   "metadata": {},
   "outputs": [
    {
     "name": "stdout",
     "output_type": "stream",
     "text": [
      "42\n"
     ]
    }
   ],
   "source": [
    "print(42)"
   ]
  },
  {
   "cell_type": "code",
   "execution_count": 5,
   "metadata": {},
   "outputs": [
    {
     "name": "stdout",
     "output_type": "stream",
     "text": [
      "42\n"
     ]
    }
   ],
   "source": [
    "print(40+2)"
   ]
  },
  {
   "cell_type": "code",
   "execution_count": 6,
   "metadata": {},
   "outputs": [
    {
     "name": "stdout",
     "output_type": "stream",
     "text": [
      "40+2\n"
     ]
    }
   ],
   "source": [
    "print(\"40+2\")"
   ]
  },
  {
   "cell_type": "markdown",
   "metadata": {},
   "source": [
    "之前我们在print里面放进去了不同的输入，这些输入都是一个个的，我们也可以把这些放在一起作为print的输入，就像下面这样。"
   ]
  },
  {
   "cell_type": "code",
   "execution_count": 7,
   "metadata": {},
   "outputs": [
    {
     "name": "stdout",
     "output_type": "stream",
     "text": [
      "40+2 = 42\n"
     ]
    }
   ],
   "source": [
    "print(\"40+2\",\"=\",40+2)"
   ]
  },
  {
   "cell_type": "markdown",
   "metadata": {},
   "source": [
    "### 2. 数学运算"
   ]
  },
  {
   "cell_type": "markdown",
   "metadata": {},
   "source": [
    "在前面我们通过print运算了简单的加法，现在我们来试试其它的数学运算吧。例如说，我们想算这样一个式子， $(4+3)^2 + (4+3)\\times5/2 - 7$"
   ]
  },
  {
   "cell_type": "code",
   "execution_count": 8,
   "metadata": {},
   "outputs": [
    {
     "data": {
      "text/plain": [
       "59.5"
      ]
     },
     "execution_count": 8,
     "metadata": {},
     "output_type": "execute_result"
    }
   ],
   "source": [
    "(4+3)**2 + (4+3)*5/2-7"
   ]
  },
  {
   "cell_type": "markdown",
   "metadata": {},
   "source": [
    "类似于 \\*、+、-、/ 这些符号，都称之为操作符，它们会计算操作符号两边的数值，得到计算结果。"
   ]
  },
  {
   "cell_type": "markdown",
   "metadata": {},
   "source": [
    "做这些数学运算的时候，需要注意一下运算优先级顺序，基本上和你在数学课上学到的运算顺序是一致的，幂运算优于乘除运算，乘除运算优于加减运算，括号内的运算是最优先的。"
   ]
  },
  {
   "cell_type": "markdown",
   "metadata": {},
   "source": [
    "如果想做开方运算，可以直接用前面见过的幂运算操作符来做。"
   ]
  },
  {
   "cell_type": "code",
   "execution_count": 9,
   "metadata": {},
   "outputs": [
    {
     "data": {
      "text/plain": [
       "3.0"
      ]
     },
     "execution_count": 9,
     "metadata": {},
     "output_type": "execute_result"
    }
   ],
   "source": [
    "9**(1/2)"
   ]
  },
  {
   "cell_type": "markdown",
   "metadata": {},
   "source": [
    "要特别提一点的是除法，一个数字除以另一个数字得不一定可以整除，所以一种情况是我们希望除法得到商和余数，一种情况是直接得到带小数点的答案。"
   ]
  },
  {
   "cell_type": "code",
   "execution_count": 10,
   "metadata": {},
   "outputs": [
    {
     "data": {
      "text/plain": [
       "3.5"
      ]
     },
     "execution_count": 10,
     "metadata": {},
     "output_type": "execute_result"
    }
   ],
   "source": [
    "7/2"
   ]
  },
  {
   "cell_type": "code",
   "execution_count": 11,
   "metadata": {},
   "outputs": [
    {
     "data": {
      "text/plain": [
       "3"
      ]
     },
     "execution_count": 11,
     "metadata": {},
     "output_type": "execute_result"
    }
   ],
   "source": [
    "7//2"
   ]
  },
  {
   "cell_type": "code",
   "execution_count": 12,
   "metadata": {},
   "outputs": [
    {
     "data": {
      "text/plain": [
       "1"
      ]
     },
     "execution_count": 12,
     "metadata": {},
     "output_type": "execute_result"
    }
   ],
   "source": [
    "7%2"
   ]
  },
  {
   "cell_type": "markdown",
   "metadata": {},
   "source": [
    "计算机可以处理很大的数字，在程序中我们一般用科学记数法来输入，例如有时候你在书上见过这种写法 $1.3\\times10^7$，在python里手工输入这么多0是很麻烦的事情，我们可以用简便的方法来输入。"
   ]
  },
  {
   "cell_type": "code",
   "execution_count": 13,
   "metadata": {},
   "outputs": [
    {
     "data": {
      "text/plain": [
       "13000000.0"
      ]
     },
     "execution_count": 13,
     "metadata": {},
     "output_type": "execute_result"
    }
   ],
   "source": [
    "1.3e7"
   ]
  },
  {
   "cell_type": "markdown",
   "metadata": {},
   "source": [
    "### 3. 变量"
   ]
  },
  {
   "cell_type": "markdown",
   "metadata": {},
   "source": [
    "在上一节里我们计算那个四则运算时，是直接输入整个式子，我们也可以换个方式来做。"
   ]
  },
  {
   "cell_type": "code",
   "execution_count": 14,
   "metadata": {},
   "outputs": [
    {
     "name": "stdout",
     "output_type": "stream",
     "text": [
      "59.5\n"
     ]
    }
   ],
   "source": [
    "a = 4+3\n",
    "b = 5/2\n",
    "c = a**2 + b*a -7\n",
    "print(c)"
   ]
  },
  {
   "cell_type": "markdown",
   "metadata": {},
   "source": [
    "这个例子里我们尝试了多行的命令，多行的命令的结果就是顺序执行，如果你反复使用了同一个变量名来保存不同的东西，后面的值会覆盖前面的值。"
   ]
  },
  {
   "cell_type": "code",
   "execution_count": 15,
   "metadata": {},
   "outputs": [
    {
     "name": "stdout",
     "output_type": "stream",
     "text": [
      "4\n",
      "7\n"
     ]
    }
   ],
   "source": [
    "a = 4\n",
    "print(a)\n",
    "a = 7\n",
    "print(a)"
   ]
  },
  {
   "cell_type": "code",
   "execution_count": 16,
   "metadata": {},
   "outputs": [
    {
     "name": "stdout",
     "output_type": "stream",
     "text": [
      "2.0\n"
     ]
    }
   ],
   "source": [
    "distance = 100\n",
    "speed = 50\n",
    "time = distance/speed\n",
    "print(time)"
   ]
  },
  {
   "cell_type": "code",
   "execution_count": 17,
   "metadata": {},
   "outputs": [
    {
     "name": "stdout",
     "output_type": "stream",
     "text": [
      "100\n",
      "90\n"
     ]
    }
   ],
   "source": [
    "distance = 100\n",
    "print(distance)\n",
    "distance = distance - 10\n",
    "print(distance)"
   ]
  },
  {
   "cell_type": "markdown",
   "metadata": {},
   "source": [
    "可以用中文做变量名，但不推荐这样做"
   ]
  },
  {
   "cell_type": "code",
   "execution_count": 18,
   "metadata": {},
   "outputs": [
    {
     "name": "stdout",
     "output_type": "stream",
     "text": [
      "2.0\n"
     ]
    }
   ],
   "source": [
    "距离 = 100\n",
    "速度 = 50\n",
    "时间 = 距离/速度\n",
    "print(时间)"
   ]
  },
  {
   "cell_type": "markdown",
   "metadata": {},
   "source": [
    "下面让我们用之前学到的，变量赋值和数学运算，来处理一个有实际意义的问题，例如圆的面积。回忆一下圆面积的公式是 $\\pi\\times r^2 $，假设我们要计算的某个圆的半径是1.5，那么可以这么计算"
   ]
  },
  {
   "cell_type": "code",
   "execution_count": 19,
   "metadata": {},
   "outputs": [
    {
     "name": "stdout",
     "output_type": "stream",
     "text": [
      "7.065\n"
     ]
    }
   ],
   "source": [
    "pi = 3.14\n",
    "r = 1.5\n",
    "area = pi * r**2\n",
    "print(area)"
   ]
  },
  {
   "cell_type": "markdown",
   "metadata": {},
   "source": [
    "### 4. 数据类型：字符串和数值"
   ]
  },
  {
   "cell_type": "markdown",
   "metadata": {},
   "source": [
    "当一个变量赋值完成之后，我们可能忘记了它之前存的是什么类型的数据，这个时候你可以打印出来观察。"
   ]
  },
  {
   "cell_type": "code",
   "execution_count": 20,
   "metadata": {},
   "outputs": [
    {
     "name": "stdout",
     "output_type": "stream",
     "text": [
      "100\n",
      "100\n"
     ]
    }
   ],
   "source": [
    "x1 = \"100\"\n",
    "print(x1)\n",
    "x2 = 100\n",
    "print(x2)"
   ]
  },
  {
   "cell_type": "code",
   "execution_count": 21,
   "metadata": {},
   "outputs": [
    {
     "data": {
      "text/plain": [
       "str"
      ]
     },
     "execution_count": 21,
     "metadata": {},
     "output_type": "execute_result"
    }
   ],
   "source": [
    "type(x1)"
   ]
  },
  {
   "cell_type": "code",
   "execution_count": 22,
   "metadata": {},
   "outputs": [
    {
     "data": {
      "text/plain": [
       "int"
      ]
     },
     "execution_count": 22,
     "metadata": {},
     "output_type": "execute_result"
    }
   ],
   "source": [
    "type(x2)"
   ]
  },
  {
   "cell_type": "markdown",
   "metadata": {},
   "source": [
    "还可以将某个类型的数据转换成其它类型的数据，例如把一个str转成int，使用什么命令呢？自然就是int命令啦。"
   ]
  },
  {
   "cell_type": "code",
   "execution_count": 23,
   "metadata": {},
   "outputs": [
    {
     "data": {
      "text/plain": [
       "int"
      ]
     },
     "execution_count": 23,
     "metadata": {},
     "output_type": "execute_result"
    }
   ],
   "source": [
    "x3 = int(x1)\n",
    "type(x3)"
   ]
  },
  {
   "cell_type": "markdown",
   "metadata": {},
   "source": [
    "使用str命令就可以反过来，把一个数值转成字符串。"
   ]
  },
  {
   "cell_type": "code",
   "execution_count": 24,
   "metadata": {},
   "outputs": [
    {
     "data": {
      "text/plain": [
       "str"
      ]
     },
     "execution_count": 24,
     "metadata": {},
     "output_type": "execute_result"
    }
   ],
   "source": [
    "x4 = str(x2)\n",
    "type(x4)"
   ]
  },
  {
   "cell_type": "markdown",
   "metadata": {},
   "source": [
    "要注意的是，如果你往int里面输入的内容不是一个可以识别的数字，它就会报错，毕竟，一个英文字母是不能被转换成一个数字的。"
   ]
  },
  {
   "cell_type": "code",
   "execution_count": 25,
   "metadata": {},
   "outputs": [
    {
     "ename": "ValueError",
     "evalue": "invalid literal for int() with base 10: 'abc'",
     "output_type": "error",
     "traceback": [
      "\u001b[0;31m---------------------------------------------------------------------------\u001b[0m",
      "\u001b[0;31mValueError\u001b[0m                                Traceback (most recent call last)",
      "\u001b[0;32m<ipython-input-25-1e11daa61250>\u001b[0m in \u001b[0;36m<module>\u001b[0;34m\u001b[0m\n\u001b[0;32m----> 1\u001b[0;31m \u001b[0mint\u001b[0m\u001b[0;34m(\u001b[0m\u001b[0;34m'abc'\u001b[0m\u001b[0;34m)\u001b[0m\u001b[0;34m\u001b[0m\u001b[0;34m\u001b[0m\u001b[0m\n\u001b[0m",
      "\u001b[0;31mValueError\u001b[0m: invalid literal for int() with base 10: 'abc'"
     ]
    }
   ],
   "source": [
    "int('abc')"
   ]
  },
  {
   "cell_type": "markdown",
   "metadata": {},
   "source": [
    "整数和浮点数据之间也可以相互转换，例如"
   ]
  },
  {
   "cell_type": "code",
   "execution_count": 26,
   "metadata": {},
   "outputs": [
    {
     "data": {
      "text/plain": [
       "12"
      ]
     },
     "execution_count": 26,
     "metadata": {},
     "output_type": "execute_result"
    }
   ],
   "source": [
    "int(12.10)"
   ]
  },
  {
   "cell_type": "code",
   "execution_count": 27,
   "metadata": {},
   "outputs": [
    {
     "data": {
      "text/plain": [
       "12.0"
      ]
     },
     "execution_count": 27,
     "metadata": {},
     "output_type": "execute_result"
    }
   ],
   "source": [
    "float(12)"
   ]
  },
  {
   "cell_type": "markdown",
   "metadata": {},
   "source": [
    "再说明一下整数和浮点数的区别，整数是不带小数点的，而浮点数是带有小数点的。int会把小数部分给截断掉。"
   ]
  },
  {
   "cell_type": "markdown",
   "metadata": {},
   "source": [
    "前面我们学到的操作运算符“+”，可以用来对两个数值进行求和，如果是两个字符串的话，加号可以把它们拼接起来。"
   ]
  },
  {
   "cell_type": "code",
   "execution_count": 28,
   "metadata": {},
   "outputs": [
    {
     "name": "stdout",
     "output_type": "stream",
     "text": [
      "你好\n"
     ]
    }
   ],
   "source": [
    "output = \"你\"+\"好\"\n",
    "print(output)"
   ]
  },
  {
   "cell_type": "markdown",
   "metadata": {},
   "source": [
    "字符串还可以做一些替换操作，下例中引号中的有一个{x}，表示这是一个占位符，输出时并不真正显示{x}，真正显示的是format里面的那个42。"
   ]
  },
  {
   "cell_type": "code",
   "execution_count": 29,
   "metadata": {},
   "outputs": [
    {
     "name": "stdout",
     "output_type": "stream",
     "text": [
      "X等于: 42\n"
     ]
    }
   ],
   "source": [
    "output = 'X等于: {x}'.format(x=42)\n",
    "print(output)"
   ]
  },
  {
   "cell_type": "code",
   "execution_count": 30,
   "metadata": {},
   "outputs": [
    {
     "name": "stdout",
     "output_type": "stream",
     "text": [
      "坐标: 37.24N, -115.81W\n"
     ]
    }
   ],
   "source": [
    "output = '坐标: {latitude}, {longitude}'.format(latitude='37.24N', longitude='-115.81W')\n",
    "print(output)"
   ]
  },
  {
   "cell_type": "markdown",
   "metadata": {},
   "source": [
    "这种处理有利于更灵活的输出显示，这种操作叫做字符串格式化。"
   ]
  },
  {
   "cell_type": "markdown",
   "metadata": {},
   "source": [
    "### 5. 函数"
   ]
  },
  {
   "cell_type": "markdown",
   "metadata": {},
   "source": [
    "在第3小节里面，我们编写了计算圆面积的代码，这几行代码对于我们计算面积很有用处，如果我们想反复利用这段代码的话，可以将它打个包，变成一个函数，听起来很复杂，其实很简单。"
   ]
  },
  {
   "cell_type": "code",
   "execution_count": 31,
   "metadata": {},
   "outputs": [],
   "source": [
    "def circle_area(r):\n",
    "    pi = 3.14\n",
    "    area = pi * r**2\n",
    "    return area"
   ]
  },
  {
   "cell_type": "code",
   "execution_count": 32,
   "metadata": {},
   "outputs": [
    {
     "data": {
      "text/plain": [
       "7.065"
      ]
     },
     "execution_count": 32,
     "metadata": {},
     "output_type": "execute_result"
    }
   ],
   "source": [
    "circle_area(1.5)"
   ]
  },
  {
   "cell_type": "code",
   "execution_count": 33,
   "metadata": {},
   "outputs": [
    {
     "data": {
      "text/plain": [
       "19.625"
      ]
     },
     "execution_count": 33,
     "metadata": {},
     "output_type": "execute_result"
    }
   ],
   "source": [
    "circle_area(2.5)"
   ]
  },
  {
   "cell_type": "markdown",
   "metadata": {},
   "source": [
    "这个函数在使用起来和print、type那些命令一样，首先是写之前定义好的函数名字，再是括号和输入，函数在处理后就会输出面积。写函数的好处就是可以反复利用某一段代码。"
   ]
  },
  {
   "cell_type": "markdown",
   "metadata": {},
   "source": [
    "关于写函数我们要注意几个地方\n",
    "1. 定义函数需要用到def这个三个字母特定的关键词作为开头，表示后面的代码是在写一个函数\n",
    "2. def后面跟着函数名，函数名是自己定义的，上例中就是circle_area\n",
    "3. 函数名后面跟一个括号，括号里是输入的变量，也就是未来在使用这个函数时的输入内容，这里的输入是半径\n",
    "4. 然后后面跟一个分号，表示函数具体的代码会在下一行开始了\n",
    "5. 分号后面具体的代码需要有一个缩进，就类似于中文写作文起一个段落一样，这种缩进一般是四个空格\n",
    "6. 最后的输出结果需要用return来特别指出\n"
   ]
  },
  {
   "cell_type": "markdown",
   "metadata": {},
   "source": [
    "下面我们再来写一个函数，计算一个圆柱体的表面积，回忆一下圆柱体的表面积是由底面积和侧面积两部分构成，具体公式是：$2\\pi r^2 + 2\\pi h$"
   ]
  },
  {
   "cell_type": "code",
   "execution_count": 34,
   "metadata": {},
   "outputs": [],
   "source": [
    "def cylinder_area(r,h):\n",
    "    area_a = circle_area(r)\n",
    "    area_b = 2*3.14*h\n",
    "    total_area = area_a*2 + area_b\n",
    "    return total_area"
   ]
  },
  {
   "cell_type": "code",
   "execution_count": 35,
   "metadata": {},
   "outputs": [
    {
     "data": {
      "text/plain": [
       "39.25"
      ]
     },
     "execution_count": 35,
     "metadata": {},
     "output_type": "execute_result"
    }
   ],
   "source": [
    "cylinder_area(1.5,4)"
   ]
  },
  {
   "cell_type": "markdown",
   "metadata": {},
   "source": [
    "### 6. 类"
   ]
  },
  {
   "cell_type": "markdown",
   "metadata": {},
   "source": [
    "类（class）是一种数据结构,我们可以用它来定义对象，将同属于某个对象的功能和属性归集放在一起。类是现实世界的抽象对象。实例是这些对象的具体化。类可以看作是一种图纸,用来产生真实的物体(实例)。我们来看一个具体的例子，比如来构造一个狗的类别。"
   ]
  },
  {
   "cell_type": "markdown",
   "metadata": {},
   "source": [
    "类的定义语句从class关键词开始，后面的DOG是类名，然后需要一个init来初始化，这里初始化的内容是将名字保存进来，然后定义了一个功能，就是greet函数，它可以打招呼。"
   ]
  },
  {
   "cell_type": "code",
   "execution_count": 36,
   "metadata": {},
   "outputs": [],
   "source": [
    "class DOG:\n",
    "\n",
    "    # Constructor\n",
    "    def __init__(self, name):\n",
    "        self.name = name  # 初始化构造器\n",
    "\n",
    "    # 构造greet这种方法\n",
    "    def greet(self):\n",
    "        print ('Hello, my name is %s'% self.name)\n",
    "\n"
   ]
  },
  {
   "cell_type": "code",
   "execution_count": 37,
   "metadata": {},
   "outputs": [
    {
     "name": "stdout",
     "output_type": "stream",
     "text": [
      "Hello, my name is 小狗\n"
     ]
    },
    {
     "data": {
      "text/plain": [
       "'小狗'"
      ]
     },
     "execution_count": 37,
     "metadata": {},
     "output_type": "execute_result"
    }
   ],
   "source": [
    "small_dog = DOG('小狗')  # Construct an instance of the Greeter class\n",
    "small_dog.greet()            # Call an instance method; prints \"Hello, Fred\"\n",
    "small_dog.name"
   ]
  },
  {
   "cell_type": "code",
   "execution_count": 38,
   "metadata": {},
   "outputs": [
    {
     "name": "stdout",
     "output_type": "stream",
     "text": [
      "Hello, my name is 大狗\n"
     ]
    },
    {
     "data": {
      "text/plain": [
       "'大狗'"
      ]
     },
     "execution_count": 38,
     "metadata": {},
     "output_type": "execute_result"
    }
   ],
   "source": [
    "big_dog = DOG('大狗')  # Construct an instance of the Greeter class\n",
    "big_dog.greet()            # Call an instance method; prints \"Hello, Fred\"\n",
    "big_dog.name"
   ]
  },
  {
   "cell_type": "markdown",
   "metadata": {},
   "source": [
    "###  练习"
   ]
  },
  {
   "cell_type": "markdown",
   "metadata": {},
   "source": [
    "鸡兔同笼问题：已知鸡和兔的总数量为n，它们一起的腿的总数量为m，编写一个函数，以求出鸡有多少只，兔有多少只？"
   ]
  },
  {
   "cell_type": "markdown",
   "metadata": {},
   "source": [
    "设鸡有x只，兔有y只，根据关系公式：$x+y=n, 2x+4y=m$\n",
    "联立解可得：$x=(4n-m)/2, y = n-x$"
   ]
  },
  {
   "cell_type": "code",
   "execution_count": 39,
   "metadata": {},
   "outputs": [],
   "source": [
    "def chicken_rabbit(n,m):\n",
    "    x = (4*n-m)/2\n",
    "    y = n-x\n",
    "    return x,y"
   ]
  },
  {
   "cell_type": "code",
   "execution_count": 40,
   "metadata": {},
   "outputs": [
    {
     "data": {
      "text/plain": [
       "(12.0, 13.0)"
      ]
     },
     "execution_count": 40,
     "metadata": {},
     "output_type": "execute_result"
    }
   ],
   "source": [
    "chicken_rabbit(25,76)"
   ]
  },
  {
   "cell_type": "markdown",
   "metadata": {},
   "source": [
    "从功能上来看，这个函数已经完成了，不过输出显示看起来不是很人性化，我们利用前面学到的东西把输出修改一下。"
   ]
  },
  {
   "cell_type": "code",
   "execution_count": 41,
   "metadata": {},
   "outputs": [],
   "source": [
    "def chicken_rabbit(n,m):\n",
    "    x = (4*n-m)/2\n",
    "    y = n-x\n",
    "    output = \"鸡：\"+str(int(x))+\",\"+\"兔：\"+str(int(y))\n",
    "    return output"
   ]
  },
  {
   "cell_type": "code",
   "execution_count": 42,
   "metadata": {},
   "outputs": [
    {
     "data": {
      "text/plain": [
       "'鸡：12,兔：13'"
      ]
     },
     "execution_count": 42,
     "metadata": {},
     "output_type": "execute_result"
    }
   ],
   "source": [
    "chicken_rabbit(25,76)"
   ]
  },
  {
   "cell_type": "markdown",
   "metadata": {},
   "source": [
    "或者使用字符串格式化来做输出的修改"
   ]
  },
  {
   "cell_type": "code",
   "execution_count": 43,
   "metadata": {},
   "outputs": [],
   "source": [
    "def chicken_rabbit(n,m):\n",
    "    x = int((4*n-m)/2)\n",
    "    y = int(n-x)\n",
    "    output = \"鸡：{x}, 兔：{y}\".format(x=int(x), y=y)\n",
    "    return output"
   ]
  },
  {
   "cell_type": "code",
   "execution_count": 44,
   "metadata": {},
   "outputs": [
    {
     "data": {
      "text/plain": [
       "'鸡：12, 兔：13'"
      ]
     },
     "execution_count": 44,
     "metadata": {},
     "output_type": "execute_result"
    }
   ],
   "source": [
    "chicken_rabbit(25,76)"
   ]
  },
  {
   "cell_type": "markdown",
   "metadata": {},
   "source": [
    "### 本课小结：\n",
    "- print可以让我们输入一些内容，例如一些字符串或数值，然后处理后将内容输出到计算机屏幕上\n",
    "- 变量可以用来存放字符串或数值\n",
    "- 函数可以将一些代码整合起来重复使用，函数的特点是有输入，有处理，有输出，print其实也是一个函数。"
   ]
  }
 ],
 "metadata": {
  "kernelspec": {
   "display_name": "Python 3",
   "language": "python",
   "name": "python3"
  },
  "language_info": {
   "codemirror_mode": {
    "name": "ipython",
    "version": 3
   },
   "file_extension": ".py",
   "mimetype": "text/x-python",
   "name": "python",
   "nbconvert_exporter": "python",
   "pygments_lexer": "ipython3",
   "version": "3.8.5"
  }
 },
 "nbformat": 4,
 "nbformat_minor": 2
}
