{
 "cells": [
  {
   "cell_type": "markdown",
   "metadata": {},
   "source": [
    "### 本课提纲：\n",
    "- 再谈列表\n",
    "- 选择排序\n",
    "- 递归算法\n",
    "- 快速排序\n",
    "- 练习"
   ]
  },
  {
   "cell_type": "markdown",
   "metadata": {},
   "source": [
    "### 1. 再谈列表"
   ]
  },
  {
   "cell_type": "code",
   "execution_count": 144,
   "metadata": {},
   "outputs": [
    {
     "name": "stdout",
     "output_type": "stream",
     "text": [
      "['语文', '数学', '英语', '历史', '体育', '音乐']\n"
     ]
    }
   ],
   "source": [
    "course = ['语文','数学','英语','历史','体育','音乐']\n",
    "print(course)"
   ]
  },
  {
   "cell_type": "code",
   "execution_count": 145,
   "metadata": {},
   "outputs": [
    {
     "data": {
      "text/plain": [
       "6"
      ]
     },
     "execution_count": 145,
     "metadata": {},
     "output_type": "execute_result"
    }
   ],
   "source": [
    "len(course)"
   ]
  },
  {
   "cell_type": "code",
   "execution_count": 146,
   "metadata": {},
   "outputs": [
    {
     "data": {
      "text/plain": [
       "'语文'"
      ]
     },
     "execution_count": 146,
     "metadata": {},
     "output_type": "execute_result"
    }
   ],
   "source": [
    "course[0]  #选择第一门课"
   ]
  },
  {
   "cell_type": "code",
   "execution_count": 147,
   "metadata": {},
   "outputs": [],
   "source": [
    "course[1] = '语文'  #将第二门数学课修改为语文"
   ]
  },
  {
   "cell_type": "code",
   "execution_count": 148,
   "metadata": {},
   "outputs": [],
   "source": [
    "course.append('自习') #增加一个自习课"
   ]
  },
  {
   "cell_type": "markdown",
   "metadata": {},
   "source": [
    "做修改后课程就变成下面的样子了。"
   ]
  },
  {
   "cell_type": "code",
   "execution_count": 149,
   "metadata": {},
   "outputs": [
    {
     "name": "stdout",
     "output_type": "stream",
     "text": [
      "['语文', '语文', '英语', '历史', '体育', '音乐', '自习']\n"
     ]
    }
   ],
   "source": [
    "print(course)"
   ]
  },
  {
   "cell_type": "code",
   "execution_count": 150,
   "metadata": {},
   "outputs": [],
   "source": [
    "del course[0]"
   ]
  },
  {
   "cell_type": "markdown",
   "metadata": {},
   "source": [
    "del命令可用于删除列表中任一个位置的元素。上例中是删除了第一个。"
   ]
  },
  {
   "cell_type": "code",
   "execution_count": 151,
   "metadata": {},
   "outputs": [
    {
     "data": {
      "text/plain": [
       "'自习'"
      ]
     },
     "execution_count": 151,
     "metadata": {},
     "output_type": "execute_result"
    }
   ],
   "source": [
    "course.pop()"
   ]
  },
  {
   "cell_type": "markdown",
   "metadata": {},
   "source": [
    "pop则是默认删除列表中最后一个位置中的元素，同时将这个元素返回出来。"
   ]
  },
  {
   "cell_type": "code",
   "execution_count": 152,
   "metadata": {},
   "outputs": [
    {
     "data": {
      "text/plain": [
       "['语文', '英语', '历史', '体育', '音乐']"
      ]
     },
     "execution_count": 152,
     "metadata": {},
     "output_type": "execute_result"
    }
   ],
   "source": [
    "course"
   ]
  },
  {
   "cell_type": "code",
   "execution_count": 153,
   "metadata": {},
   "outputs": [
    {
     "data": {
      "text/plain": [
       "['语文', '英语', '历史', '体育', '音乐']"
      ]
     },
     "execution_count": 153,
     "metadata": {},
     "output_type": "execute_result"
    }
   ],
   "source": [
    "['语文', '英语', '历史'] + ['体育', '音乐']"
   ]
  },
  {
   "cell_type": "markdown",
   "metadata": {},
   "source": [
    "选择列表中的元素的时候，不仅可以选择某个元素，还可以选择某一些元素，例如我们选出上午四门课。"
   ]
  },
  {
   "cell_type": "code",
   "execution_count": 154,
   "metadata": {},
   "outputs": [
    {
     "data": {
      "text/plain": [
       "['语文', '数学', '英语', '历史']"
      ]
     },
     "execution_count": 154,
     "metadata": {},
     "output_type": "execute_result"
    }
   ],
   "source": [
    "course = ['语文','数学','英语','历史','体育','音乐','自习']\n",
    "course[0:4]"
   ]
  },
  {
   "cell_type": "code",
   "execution_count": 155,
   "metadata": {},
   "outputs": [
    {
     "data": {
      "text/plain": [
       "['语文', '数学', '英语', '历史']"
      ]
     },
     "execution_count": 155,
     "metadata": {},
     "output_type": "execute_result"
    }
   ],
   "source": [
    "course[:4] "
   ]
  },
  {
   "cell_type": "code",
   "execution_count": 156,
   "metadata": {},
   "outputs": [
    {
     "data": {
      "text/plain": [
       "['体育', '音乐', '自习']"
      ]
     },
     "execution_count": 156,
     "metadata": {},
     "output_type": "execute_result"
    }
   ],
   "source": [
    "course[4:] "
   ]
  },
  {
   "cell_type": "code",
   "execution_count": 157,
   "metadata": {},
   "outputs": [
    {
     "data": {
      "text/plain": [
       "['体育', '音乐', '自习']"
      ]
     },
     "execution_count": 157,
     "metadata": {},
     "output_type": "execute_result"
    }
   ],
   "source": [
    "course[-3:]"
   ]
  },
  {
   "cell_type": "markdown",
   "metadata": {},
   "source": [
    "上一课我们见到了，可以通过循环来处理列表中的每一个元素，例如找到20以内的偶数。"
   ]
  },
  {
   "cell_type": "code",
   "execution_count": 158,
   "metadata": {},
   "outputs": [
    {
     "name": "stdout",
     "output_type": "stream",
     "text": [
      "[0, 2, 4, 6, 8, 10, 12, 14, 16, 18]\n"
     ]
    }
   ],
   "source": [
    "numbers_even = []\n",
    "for x in range(20):\n",
    "    if  x%2==0:\n",
    "        numbers_even.append(x)\n",
    "print(numbers_even)"
   ]
  },
  {
   "cell_type": "markdown",
   "metadata": {},
   "source": [
    "有一种更简洁的循环写法，称为列表解析，列表解析的写法和循环非常相似"
   ]
  },
  {
   "cell_type": "code",
   "execution_count": 159,
   "metadata": {},
   "outputs": [
    {
     "data": {
      "text/plain": [
       "[0, 2, 4, 6, 8, 10, 12, 14, 16, 18]"
      ]
     },
     "execution_count": 159,
     "metadata": {},
     "output_type": "execute_result"
    }
   ],
   "source": [
    "[x for x in range(20) if x%2==0]"
   ]
  },
  {
   "cell_type": "code",
   "execution_count": 160,
   "metadata": {},
   "outputs": [
    {
     "data": {
      "text/plain": [
       "['语文', '数学', '英语', '历史', '体育', '音乐']"
      ]
     },
     "execution_count": 160,
     "metadata": {},
     "output_type": "execute_result"
    }
   ],
   "source": [
    "[x for x in course if x!='自习']"
   ]
  },
  {
   "cell_type": "code",
   "execution_count": 161,
   "metadata": {},
   "outputs": [
    {
     "data": {
      "text/plain": [
       "['语文', '数学', '英语', '历史', '体育']"
      ]
     },
     "execution_count": 161,
     "metadata": {},
     "output_type": "execute_result"
    }
   ],
   "source": [
    "[x for x in course if x not in ['自习','音乐']]"
   ]
  },
  {
   "cell_type": "markdown",
   "metadata": {},
   "source": [
    "列表可以整合成一个大的字符串，一个大的字符串也可以分拆成一个列表，让我们看一个例子。"
   ]
  },
  {
   "cell_type": "code",
   "execution_count": 162,
   "metadata": {},
   "outputs": [
    {
     "name": "stdout",
     "output_type": "stream",
     "text": [
      "语文_数学_英语_历史_体育_音乐_自习\n"
     ]
    },
    {
     "data": {
      "text/plain": [
       "str"
      ]
     },
     "execution_count": 162,
     "metadata": {},
     "output_type": "execute_result"
    }
   ],
   "source": [
    "cource_str = '_'.join(course)\n",
    "print(cource_str)\n",
    "type(cource_str)"
   ]
  },
  {
   "cell_type": "markdown",
   "metadata": {},
   "source": [
    "列表通过一个下划线符号进行连接，整体成为一个字符串，下例再逆反回去，用split函数，再将这个大的字符串分拆成一个列表。"
   ]
  },
  {
   "cell_type": "code",
   "execution_count": 163,
   "metadata": {},
   "outputs": [
    {
     "data": {
      "text/plain": [
       "['语文', '数学', '英语', '历史', '体育', '音乐', '自习']"
      ]
     },
     "execution_count": 163,
     "metadata": {},
     "output_type": "execute_result"
    }
   ],
   "source": [
    "cource_str.split('_')"
   ]
  },
  {
   "cell_type": "markdown",
   "metadata": {},
   "source": [
    "列表不仅可以保存数值和字符串，它还可以保存列表"
   ]
  },
  {
   "cell_type": "code",
   "execution_count": 164,
   "metadata": {},
   "outputs": [],
   "source": [
    "course = [['语文',85],['数学',90],['英语',94],['历史',87],['体育',85],['音乐',98]]"
   ]
  },
  {
   "cell_type": "code",
   "execution_count": 165,
   "metadata": {},
   "outputs": [
    {
     "data": {
      "text/plain": [
       "['英语', '音乐']"
      ]
     },
     "execution_count": 165,
     "metadata": {},
     "output_type": "execute_result"
    }
   ],
   "source": [
    "[c[0] for c in course if c[1]>90]"
   ]
  },
  {
   "cell_type": "markdown",
   "metadata": {},
   "source": [
    "再来计算下这几门课的平均分数"
   ]
  },
  {
   "cell_type": "code",
   "execution_count": 166,
   "metadata": {},
   "outputs": [
    {
     "name": "stdout",
     "output_type": "stream",
     "text": [
      "89.8\n"
     ]
    }
   ],
   "source": [
    "score = [c[1] for c in course]\n",
    "sum_score = 0\n",
    "for s in score:\n",
    "    sum_score = sum_score + s\n",
    "\n",
    "avg_score = round(sum_score/len(score),1)\n",
    "print(avg_score)"
   ]
  },
  {
   "cell_type": "markdown",
   "metadata": {},
   "source": [
    "### 2. 选择排序"
   ]
  },
  {
   "cell_type": "markdown",
   "metadata": {},
   "source": [
    "一种简单的排序思路就是利用循环的思路，先找出所有数字中最小的那个，再找出剩余数字中最小的那个，以此类推。"
   ]
  },
  {
   "cell_type": "markdown",
   "metadata": {},
   "source": [
    "先回顾一下循环的时候，我们通常是遍历一个列表中的值"
   ]
  },
  {
   "cell_type": "code",
   "execution_count": 167,
   "metadata": {},
   "outputs": [
    {
     "name": "stdout",
     "output_type": "stream",
     "text": [
      "10\n",
      "20\n",
      "30\n"
     ]
    }
   ],
   "source": [
    "x = [10,20,30]\n",
    "for value in x:\n",
    "    print(value)"
   ]
  },
  {
   "cell_type": "code",
   "execution_count": 168,
   "metadata": {},
   "outputs": [
    {
     "name": "stdout",
     "output_type": "stream",
     "text": [
      "0 10\n",
      "1 20\n",
      "2 30\n"
     ]
    }
   ],
   "source": [
    "x = [10,20,30]\n",
    "for index,value in enumerate(x):\n",
    "    print(index,value)"
   ]
  },
  {
   "cell_type": "markdown",
   "metadata": {},
   "source": [
    "下面的函数是用来实现找到一组数字中最小数字的功能，输入是一个列表，输出列表中最小数字的值，以及对应的位置。"
   ]
  },
  {
   "cell_type": "code",
   "execution_count": 169,
   "metadata": {},
   "outputs": [
    {
     "data": {
      "text/plain": [
       "(4, 3)"
      ]
     },
     "execution_count": 169,
     "metadata": {},
     "output_type": "execute_result"
    }
   ],
   "source": [
    "def find_smallest(x):\n",
    "    smallest = x[0]\n",
    "    smallest_index = 0\n",
    "    for index,value in enumerate(x):\n",
    "        if smallest>value:\n",
    "            smallest = value\n",
    "            smallest_index = index\n",
    "    return smallest,smallest_index\n",
    "\n",
    "find_smallest([14,6,7,4,9,30])"
   ]
  },
  {
   "cell_type": "code",
   "execution_count": 170,
   "metadata": {},
   "outputs": [
    {
     "data": {
      "text/plain": [
       "[4, 6, 7, 9, 14, 30]"
      ]
     },
     "execution_count": 170,
     "metadata": {},
     "output_type": "execute_result"
    }
   ],
   "source": [
    "def sort_list(x):\n",
    "    sorted_list = [] # 用于存放排序好的列表\n",
    "    for i in range(len(x)):  # 遍历次数是列表的长度\n",
    "        smallest,samllest_index = find_smallest(x) # 找到最小值和编号\n",
    "        sorted_list.append(x.pop(samllest_index)) # 将最小值从X中删除并补充到sorted_list中\n",
    "    return sorted_list\n",
    "\n",
    "sort_list([14,6,7,4,9,30])"
   ]
  },
  {
   "cell_type": "markdown",
   "metadata": {},
   "source": [
    "对于一个只有数字的列表用这种排序很容易完成了，如果是象课程分数这种嵌套的列表，想按分数来排序，应该如何做呢"
   ]
  },
  {
   "cell_type": "code",
   "execution_count": 171,
   "metadata": {},
   "outputs": [],
   "source": [
    "def find_smallest(x):\n",
    "    smallest = x[0][1]\n",
    "    smallest_index = 0\n",
    "    for index,value in enumerate(x):\n",
    "        if smallest>value[1]:\n",
    "            smallest = value[1]\n",
    "            smallest_index = index\n",
    "    return smallest,smallest_index\n"
   ]
  },
  {
   "cell_type": "code",
   "execution_count": 172,
   "metadata": {},
   "outputs": [],
   "source": [
    "course = [['语文',85],['数学',90],['英语',94],['历史',87],['体育',85],['音乐',98]]"
   ]
  },
  {
   "cell_type": "code",
   "execution_count": 173,
   "metadata": {},
   "outputs": [
    {
     "data": {
      "text/plain": [
       "[['语文', 85], ['体育', 85], ['历史', 87], ['数学', 90], ['英语', 94], ['音乐', 98]]"
      ]
     },
     "execution_count": 173,
     "metadata": {},
     "output_type": "execute_result"
    }
   ],
   "source": [
    "sort_list(course)"
   ]
  },
  {
   "cell_type": "markdown",
   "metadata": {},
   "source": [
    "现在我们是自己实现了一个列表排序的函数，当然在现实中，我们没有必要自己造轮子，可以直接使用现有的内置函数sorted"
   ]
  },
  {
   "cell_type": "code",
   "execution_count": 1,
   "metadata": {},
   "outputs": [],
   "source": [
    "num_list = [14,6,7,4,9,30]"
   ]
  },
  {
   "cell_type": "code",
   "execution_count": 2,
   "metadata": {},
   "outputs": [
    {
     "data": {
      "text/plain": [
       "[4, 6, 7, 9, 14, 30]"
      ]
     },
     "execution_count": 2,
     "metadata": {},
     "output_type": "execute_result"
    }
   ],
   "source": [
    "sorted(num_list)"
   ]
  },
  {
   "cell_type": "markdown",
   "metadata": {},
   "source": [
    "sorted函数默认是从小到大排序，如果是从大到小排序，可以加一个参数reverse"
   ]
  },
  {
   "cell_type": "code",
   "execution_count": 3,
   "metadata": {},
   "outputs": [
    {
     "data": {
      "text/plain": [
       "[30, 14, 9, 7, 6, 4]"
      ]
     },
     "execution_count": 3,
     "metadata": {},
     "output_type": "execute_result"
    }
   ],
   "source": [
    "sorted(num_list,reverse=True)"
   ]
  },
  {
   "cell_type": "markdown",
   "metadata": {},
   "source": [
    "对于嵌套列表这种数据，要对它排序会略有不一样，因为每一个元素都有两个信息可以用来排序，一个是字符串，另一个是数值，那么需要指定我们按哪一个信息来排序"
   ]
  },
  {
   "cell_type": "code",
   "execution_count": 5,
   "metadata": {},
   "outputs": [],
   "source": [
    "course = [['语文',85],['数学',90],['英语',94],['历史',87],['体育',85],['音乐',98]]"
   ]
  },
  {
   "cell_type": "code",
   "execution_count": 10,
   "metadata": {},
   "outputs": [
    {
     "data": {
      "text/plain": [
       "85"
      ]
     },
     "execution_count": 10,
     "metadata": {},
     "output_type": "execute_result"
    }
   ],
   "source": [
    "f = lambda x:x[1]\n",
    "f(course[0])"
   ]
  },
  {
   "cell_type": "markdown",
   "metadata": {},
   "source": [
    "在使用sorted对嵌套列表这种数据进行排序时，需要用key参数指定按哪一个信息来排序，就使用lambda匿名函数，意思就是按分数来排序，结果如下。"
   ]
  },
  {
   "cell_type": "code",
   "execution_count": 177,
   "metadata": {
    "scrolled": true
   },
   "outputs": [
    {
     "data": {
      "text/plain": [
       "[['语文', 85], ['体育', 85], ['历史', 87], ['数学', 90], ['英语', 94], ['音乐', 98]]"
      ]
     },
     "execution_count": 177,
     "metadata": {},
     "output_type": "execute_result"
    }
   ],
   "source": [
    "sorted(course,key=lambda x:x[1])"
   ]
  },
  {
   "cell_type": "markdown",
   "metadata": {},
   "source": [
    "### 3. 递归算法"
   ]
  },
  {
   "cell_type": "markdown",
   "metadata": {},
   "source": [
    "递归是一种优雅的算法思想，我们先用一个具体的例子来看一下。"
   ]
  },
  {
   "cell_type": "code",
   "execution_count": 178,
   "metadata": {},
   "outputs": [
    {
     "data": {
      "text/plain": [
       "70"
      ]
     },
     "execution_count": 178,
     "metadata": {},
     "output_type": "execute_result"
    }
   ],
   "source": [
    "def sum_list(x):\n",
    "    total = 0\n",
    "    for value in x:\n",
    "        total = total + value\n",
    "    return total\n",
    "sum_list([14,6,7,4,9,30])"
   ]
  },
  {
   "cell_type": "markdown",
   "metadata": {},
   "source": [
    "让我们换个思路，考虑极端情况，如果一个列表里只有一个值，那么求和就是它本身，如果再多一个值，就把两个值相加。"
   ]
  },
  {
   "cell_type": "code",
   "execution_count": 179,
   "metadata": {},
   "outputs": [
    {
     "name": "stdout",
     "output_type": "stream",
     "text": [
      "[14, 6, 7, 4, 9, 30]\n",
      "[6, 7, 4, 9, 30]\n",
      "[7, 4, 9, 30]\n",
      "[4, 9, 30]\n",
      "[9, 30]\n",
      "[30]\n"
     ]
    },
    {
     "data": {
      "text/plain": [
       "70"
      ]
     },
     "execution_count": 179,
     "metadata": {},
     "output_type": "execute_result"
    }
   ],
   "source": [
    "def sum_recursion(x):\n",
    "    print(x)\n",
    "    if len(x) == 1:  # 极端条件\n",
    "        return x[0]\n",
    "    else:\n",
    "        return x[0] + sum_recursion(x[1:]) #不满足极端条件则进行分拆，同时调用自身\n",
    "\n",
    "sum_recursion([14,6,7,4,9,30])"
   ]
  },
  {
   "cell_type": "markdown",
   "metadata": {},
   "source": [
    "再看一个递归用来计算阶乘的例子"
   ]
  },
  {
   "cell_type": "code",
   "execution_count": 180,
   "metadata": {},
   "outputs": [
    {
     "name": "stdout",
     "output_type": "stream",
     "text": [
      "4\n",
      "3\n",
      "2\n",
      "1\n"
     ]
    },
    {
     "data": {
      "text/plain": [
       "24"
      ]
     },
     "execution_count": 180,
     "metadata": {},
     "output_type": "execute_result"
    }
   ],
   "source": [
    "def fac_Recursionr(x):\n",
    "    print(x)\n",
    "    if x == 1:\n",
    "        return 1\n",
    "    else:\n",
    "        return x * fac_Recursionr(x-1)\n",
    "\n",
    "fac_Recursionr(4)"
   ]
  },
  {
   "cell_type": "markdown",
   "metadata": {},
   "source": [
    "### 4. 快速排序"
   ]
  },
  {
   "cell_type": "code",
   "execution_count": 181,
   "metadata": {},
   "outputs": [
    {
     "data": {
      "text/plain": [
       "[4, 6, 7, 9, 14, 30]"
      ]
     },
     "execution_count": 181,
     "metadata": {},
     "output_type": "execute_result"
    }
   ],
   "source": [
    "def quick_sort_list(x):\n",
    "    if len(x)<2:\n",
    "        return x\n",
    "    else:\n",
    "        mid = x[0]\n",
    "        less = [value for value in x[1:] if value <= mid]\n",
    "        greater = [value for value in x[1:] if value > mid]\n",
    "        output = quick_sort_list(less)+[mid]+quick_sort_list(greater)\n",
    "        return output\n",
    "    \n",
    "quick_sort_list([14,6,7,4,9,30])"
   ]
  },
  {
   "cell_type": "code",
   "execution_count": 182,
   "metadata": {},
   "outputs": [
    {
     "data": {
      "text/plain": [
       "[['体育', 85], ['语文', 85], ['历史', 87], ['数学', 90], ['英语', 94], ['音乐', 98]]"
      ]
     },
     "execution_count": 182,
     "metadata": {},
     "output_type": "execute_result"
    }
   ],
   "source": [
    "def quick_sort_list(x):\n",
    "    if len(x)<2:\n",
    "        return x\n",
    "    else:\n",
    "        mid = x[0]\n",
    "        less = [value for value in x[1:] if value[1] <= mid[1]]\n",
    "        greater = [value for value in x[1:] if value[1] > mid[1]]\n",
    "        output = quick_sort_list(less)+[mid]+quick_sort_list(greater)\n",
    "        return output\n",
    "\n",
    "course = [['语文',85],['数学',90],['英语',94],['历史',87],['体育',85],['音乐',98]]\n",
    "quick_sort_list(course)"
   ]
  },
  {
   "cell_type": "markdown",
   "metadata": {},
   "source": [
    "### 练习"
   ]
  },
  {
   "cell_type": "markdown",
   "metadata": {},
   "source": [
    "词频统计问题：来处理一个有趣的例子，我们将一篇英文短文输入成一个长长的字符串，然后这个短文分切成一个列表，再看一下这个列表中，单词出现最高的前三个单词是哪三个。"
   ]
  },
  {
   "cell_type": "code",
   "execution_count": 217,
   "metadata": {},
   "outputs": [],
   "source": [
    "word_string = '''Last week I went to the theatre.\n",
    "I had a very good seat. \n",
    "The play was very interesting. \n",
    "I did not enjoy it.\n",
    "A young man and a young woman were sitting behind me. \n",
    "They were talking loudly. \n",
    "I got very angry. \n",
    "I could not hear the actors.\n",
    "I turned round. \n",
    "I looked at the man and the woman angrily.\n",
    "They did not pay any attention. \n",
    "In the end, I could not bear it.\n",
    "I turned round again.\n",
    "\"I can't hear a word!\" I said angrily.\n",
    "It's none of your business,\" the young man said rudely.\n",
    "\"This is a private conversation!\"\n",
    "'''"
   ]
  },
  {
   "cell_type": "markdown",
   "metadata": {},
   "source": [
    "在python中除了可以用双引号和单引号来定义字符串以外，还可以用三引号来定义这种大段的字符串。"
   ]
  },
  {
   "cell_type": "code",
   "execution_count": 218,
   "metadata": {},
   "outputs": [
    {
     "data": {
      "text/plain": [
       "'Last week I went to the theatre.\\nI had a very good seat. \\nThe play was very interesting. \\nI did not enjoy it.\\nA young man and a young woman were sitting behind me. \\nThey were talking loudly. \\nI got very angry. \\nI could not hear the actors.\\nI turned round. \\nI looked at the man and the woman angrily.\\nThey did not pay any attention. \\nIn the end, I could not bear it.\\nI turned round again.\\n\"I can\\'t hear a word!\" I said angrily.\\nIt\\'s none of your business,\" the young man said rudely.\\n\"This is a private conversation!\"\\n'"
      ]
     },
     "execution_count": 218,
     "metadata": {},
     "output_type": "execute_result"
    }
   ],
   "source": [
    "word_string"
   ]
  },
  {
   "cell_type": "markdown",
   "metadata": {},
   "source": [
    "观察这个字符串变量，你会发现，其中有一个奇怪的符号，比如\"\\n\"这种，这个是表示了换行符号。"
   ]
  },
  {
   "cell_type": "code",
   "execution_count": 219,
   "metadata": {},
   "outputs": [],
   "source": [
    "text_list = word_string.split()"
   ]
  },
  {
   "cell_type": "markdown",
   "metadata": {},
   "source": [
    "使用前面学到的字符串分拆成列表的方法，用spllit函数进行分解，它默认使用换行、空格等符号进行分解。分解后得到一个列表，每个元素是一个单词。"
   ]
  },
  {
   "cell_type": "code",
   "execution_count": 220,
   "metadata": {},
   "outputs": [],
   "source": [
    "text_list = [w.strip('.,\"!') for w in text_list]"
   ]
  },
  {
   "cell_type": "markdown",
   "metadata": {},
   "source": [
    "但是单词前后还会有一些标点符号，这些是我们不需要的，使用strip函数把这些符号删除。"
   ]
  },
  {
   "cell_type": "code",
   "execution_count": 221,
   "metadata": {},
   "outputs": [],
   "source": [
    "word_freq_list = []\n",
    "for word in text_list:\n",
    "    word_list = [word[0] for word in word_freq_list]\n",
    "    freq_list = [word[1] for word in word_freq_list]\n",
    "    if word not in word_list:\n",
    "        word_freq_list.append([word,1])\n",
    "    else:\n",
    "        num = word_list.index(word)\n",
    "        freq_list[num] = freq_list[num] + 1\n",
    "        word_freq_list[num][1] = freq_list[num]"
   ]
  },
  {
   "cell_type": "markdown",
   "metadata": {},
   "source": [
    "用一个嵌套列表来保存需要的信息，即单词和对应的出现次数。我们遍历了所有单词text_list，如果之前没遇到过这个单词，就在列表中保存这个单词和对应的次数1，如果之前遇到过这个单词，就将次数加1."
   ]
  },
  {
   "cell_type": "markdown",
   "metadata": {},
   "source": [
    "得到单词和次数的信息最终保存在变量word_freq_list中，这种信息称为词频表。它的前四个元素就是下面这个样子。"
   ]
  },
  {
   "cell_type": "code",
   "execution_count": 222,
   "metadata": {
    "scrolled": true
   },
   "outputs": [
    {
     "data": {
      "text/plain": [
       "[['Last', 1], ['week', 1], ['I', 11], ['went', 1]]"
      ]
     },
     "execution_count": 222,
     "metadata": {},
     "output_type": "execute_result"
    }
   ],
   "source": [
    "word_freq_list[:4]"
   ]
  },
  {
   "cell_type": "markdown",
   "metadata": {},
   "source": [
    "然后我们就可以拿排序函数去排序了。"
   ]
  },
  {
   "cell_type": "code",
   "execution_count": 213,
   "metadata": {},
   "outputs": [],
   "source": [
    "sorted_word = quick_sort_list(word_freq_list)"
   ]
  },
  {
   "cell_type": "code",
   "execution_count": 214,
   "metadata": {},
   "outputs": [
    {
     "data": {
      "text/plain": [
       "[['a', 4], ['the', 6], ['I', 11]]"
      ]
     },
     "execution_count": 214,
     "metadata": {},
     "output_type": "execute_result"
    }
   ],
   "source": [
    "sorted_word[-3:]"
   ]
  },
  {
   "cell_type": "markdown",
   "metadata": {},
   "source": [
    "可以发现频数最高的几个单词是最常见的几个单词。"
   ]
  }
 ],
 "metadata": {
  "kernelspec": {
   "display_name": "Python 3",
   "language": "python",
   "name": "python3"
  },
  "language_info": {
   "codemirror_mode": {
    "name": "ipython",
    "version": 3
   },
   "file_extension": ".py",
   "mimetype": "text/x-python",
   "name": "python",
   "nbconvert_exporter": "python",
   "pygments_lexer": "ipython3",
   "version": "3.8.5"
  }
 },
 "nbformat": 4,
 "nbformat_minor": 2
}
