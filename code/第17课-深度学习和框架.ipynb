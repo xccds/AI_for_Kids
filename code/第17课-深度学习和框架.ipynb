{
 "cells": [
  {
   "cell_type": "markdown",
   "metadata": {},
   "source": [
    "### 3. PyTorch的安装"
   ]
  },
  {
   "cell_type": "code",
   "execution_count": 1,
   "metadata": {},
   "outputs": [
    {
     "data": {
      "text/plain": [
       "'1.12.1'"
      ]
     },
     "execution_count": 1,
     "metadata": {},
     "output_type": "execute_result"
    }
   ],
   "source": [
    "import torch  \n",
    "torch.__version__"
   ]
  },
  {
   "cell_type": "markdown",
   "metadata": {},
   "source": [
    "### 4. pytorch基础"
   ]
  },
  {
   "cell_type": "code",
   "execution_count": 2,
   "metadata": {},
   "outputs": [
    {
     "name": "stdout",
     "output_type": "stream",
     "text": [
      "tensor([[1., 1., 1.],\n",
      "        [1., 1., 1.],\n",
      "        [1., 1., 1.],\n",
      "        [1., 1., 1.],\n",
      "        [1., 1., 1.]], dtype=torch.float64)\n"
     ]
    }
   ],
   "source": [
    "x_tensor = torch.ones(5, 3,dtype=torch.float64)\n",
    "print(x_tensor)"
   ]
  },
  {
   "cell_type": "code",
   "execution_count": 3,
   "metadata": {},
   "outputs": [
    {
     "data": {
      "text/plain": [
       "15"
      ]
     },
     "execution_count": 3,
     "metadata": {},
     "output_type": "execute_result"
    }
   ],
   "source": [
    "x_tensor.numel()"
   ]
  },
  {
   "cell_type": "code",
   "execution_count": 4,
   "metadata": {
    "scrolled": true
   },
   "outputs": [
    {
     "name": "stdout",
     "output_type": "stream",
     "text": [
      "tensor([[ 1.6243, -0.6118, -0.5282],\n",
      "        [-1.0730,  0.8654, -2.3015],\n",
      "        [ 1.7448, -0.7612,  0.3190],\n",
      "        [-0.2494,  1.4621, -2.0601],\n",
      "        [-0.3224, -0.3841,  1.1338]], dtype=torch.float64)\n"
     ]
    }
   ],
   "source": [
    "import numpy as np\n",
    "np.random.seed(1)\n",
    "y_array= np.random.randn(5,3)\n",
    "y_tensor = torch.from_numpy(y_array)\n",
    "print(y_tensor)"
   ]
  },
  {
   "cell_type": "code",
   "execution_count": 5,
   "metadata": {},
   "outputs": [
    {
     "name": "stdout",
     "output_type": "stream",
     "text": [
      "tensor([[ 2.6243,  0.3882,  0.4718],\n",
      "        [-0.0730,  1.8654, -1.3015],\n",
      "        [ 2.7448,  0.2388,  1.3190],\n",
      "        [ 0.7506,  2.4621, -1.0601],\n",
      "        [ 0.6776,  0.6159,  2.1338]], dtype=torch.float64)\n"
     ]
    }
   ],
   "source": [
    "result = torch.add(x_tensor,y_tensor)\n",
    "print(result)"
   ]
  },
  {
   "cell_type": "code",
   "execution_count": 6,
   "metadata": {},
   "outputs": [
    {
     "name": "stdout",
     "output_type": "stream",
     "text": [
      "tensor([[ 2.6243,  0.3882,  0.4718],\n",
      "        [-0.0730,  1.8654, -1.3015],\n",
      "        [ 2.7448,  0.2388,  1.3190],\n",
      "        [ 0.7506,  2.4621, -1.0601],\n",
      "        [ 0.6776,  0.6159,  2.1338]], dtype=torch.float64)\n"
     ]
    }
   ],
   "source": [
    "x_tensor.add_(y_tensor)\n",
    "print(x_tensor)"
   ]
  },
  {
   "cell_type": "code",
   "execution_count": 7,
   "metadata": {},
   "outputs": [
    {
     "data": {
      "text/plain": [
       "tensor([[ 1.6243, -0.6118, -0.5282],\n",
       "        [-1.0730,  0.8654, -2.3015],\n",
       "        [ 1.7448, -0.7612,  0.3190],\n",
       "        [-0.2494,  1.4621, -2.0601],\n",
       "        [-0.3224, -0.3841,  1.1338]], dtype=torch.float64)"
      ]
     },
     "execution_count": 7,
     "metadata": {},
     "output_type": "execute_result"
    }
   ],
   "source": [
    "y_tensor"
   ]
  },
  {
   "cell_type": "code",
   "execution_count": 8,
   "metadata": {},
   "outputs": [
    {
     "name": "stdout",
     "output_type": "stream",
     "text": [
      "tensor([[-1.5256, -0.7502, -0.6540, -1.6095],\n",
      "        [-0.1002, -0.6092, -0.9798, -1.6091],\n",
      "        [-0.7121,  0.3037, -0.7773, -0.2515],\n",
      "        [-0.2223,  1.6871,  0.2284,  0.4676]])\n"
     ]
    }
   ],
   "source": [
    "torch.manual_seed(1)\n",
    "x_tensor = torch.randn(4, 4)\n",
    "print(x_tensor)"
   ]
  },
  {
   "cell_type": "code",
   "execution_count": 9,
   "metadata": {},
   "outputs": [
    {
     "name": "stdout",
     "output_type": "stream",
     "text": [
      "tensor([[-1.0276, -0.5631, -0.8923, -0.0583]])\n",
      "tensor([[-0.1955],\n",
      "        [-0.9656],\n",
      "        [ 0.4224],\n",
      "        [ 0.2673]])\n"
     ]
    }
   ],
   "source": [
    "x_tensor = torch.randn(1, 4)\n",
    "print(x_tensor)\n",
    "y_tensor = torch.randn(4, 1)\n",
    "print(y_tensor)"
   ]
  },
  {
   "cell_type": "code",
   "execution_count": 10,
   "metadata": {},
   "outputs": [
    {
     "data": {
      "text/plain": [
       "tensor([[0.3521]])"
      ]
     },
     "execution_count": 10,
     "metadata": {},
     "output_type": "execute_result"
    }
   ],
   "source": [
    "torch.matmul(x_tensor,y_tensor)"
   ]
  },
  {
   "cell_type": "code",
   "execution_count": 13,
   "metadata": {},
   "outputs": [
    {
     "data": {
      "text/plain": [
       "tensor([-0.5631])"
      ]
     },
     "execution_count": 13,
     "metadata": {},
     "output_type": "execute_result"
    }
   ],
   "source": [
    "x_tensor[:,1]"
   ]
  },
  {
   "cell_type": "code",
   "execution_count": 15,
   "metadata": {},
   "outputs": [
    {
     "data": {
      "text/plain": [
       "torch.Size([2, 8])"
      ]
     },
     "execution_count": 15,
     "metadata": {},
     "output_type": "execute_result"
    }
   ],
   "source": [
    "x_tensor = torch.randn(4, 4)\n",
    "z_tensor = x_tensor.view(-1, 8) \n",
    "z_tensor.shape"
   ]
  },
  {
   "cell_type": "code",
   "execution_count": 16,
   "metadata": {},
   "outputs": [
    {
     "data": {
      "text/plain": [
       "[[1.8793457746505737,\n",
       "  -0.07213178277015686,\n",
       "  0.15777060389518738,\n",
       "  -0.7734549045562744,\n",
       "  0.1990565061569214,\n",
       "  0.04570277780294418,\n",
       "  0.15295691788196564,\n",
       "  -0.47567880153656006],\n",
       " [-0.11101982742547989,\n",
       "  0.2927352488040924,\n",
       "  -0.1578451544046402,\n",
       "  -0.028787139803171158,\n",
       "  2.3571109771728516,\n",
       "  -1.0373387336730957,\n",
       "  1.5747981071472168,\n",
       "  -0.6298472285270691]]"
      ]
     },
     "execution_count": 16,
     "metadata": {},
     "output_type": "execute_result"
    }
   ],
   "source": [
    "z_tensor.tolist()"
   ]
  },
  {
   "cell_type": "code",
   "execution_count": 17,
   "metadata": {},
   "outputs": [
    {
     "data": {
      "text/plain": [
       "array([[ 1.8793458 , -0.07213178,  0.1577706 , -0.7734549 ,  0.1990565 ,\n",
       "         0.04570278,  0.15295692, -0.4756788 ],\n",
       "       [-0.11101983,  0.29273525, -0.15784515, -0.02878714,  2.357111  ,\n",
       "        -1.0373387 ,  1.5747981 , -0.6298472 ]], dtype=float32)"
      ]
     },
     "execution_count": 17,
     "metadata": {},
     "output_type": "execute_result"
    }
   ],
   "source": [
    "z_tensor.numpy()"
   ]
  },
  {
   "cell_type": "code",
   "execution_count": 18,
   "metadata": {},
   "outputs": [
    {
     "name": "stdout",
     "output_type": "stream",
     "text": [
      "tensor(6.)\n"
     ]
    }
   ],
   "source": [
    "x = torch.tensor(3.0, requires_grad=True) # 定义一个值为3的tensor名字叫作x\n",
    "y = x*x   # 定义y和x的关系\n",
    "y.backward()  # 自动计算梯度\n",
    "print(x.grad) #打印y相对于x的梯度"
   ]
  },
  {
   "cell_type": "code",
   "execution_count": 19,
   "metadata": {},
   "outputs": [
    {
     "name": "stdout",
     "output_type": "stream",
     "text": [
      "tensor(12.)\n"
     ]
    }
   ],
   "source": [
    "z = x*x\n",
    "z.backward()  \n",
    "print(x.grad) "
   ]
  },
  {
   "cell_type": "code",
   "execution_count": 20,
   "metadata": {},
   "outputs": [
    {
     "name": "stdout",
     "output_type": "stream",
     "text": [
      "tensor(6.)\n"
     ]
    }
   ],
   "source": [
    "x.grad.zero_()\n",
    "z = x*x\n",
    "z.backward()  \n",
    "print(x.grad) "
   ]
  },
  {
   "cell_type": "code",
   "execution_count": 21,
   "metadata": {},
   "outputs": [
    {
     "data": {
      "text/plain": [
       "6.0"
      ]
     },
     "execution_count": 21,
     "metadata": {},
     "output_type": "execute_result"
    }
   ],
   "source": [
    "x.grad.data.tolist()"
   ]
  },
  {
   "cell_type": "markdown",
   "metadata": {},
   "source": [
    "### 练习"
   ]
  },
  {
   "cell_type": "code",
   "execution_count": 23,
   "metadata": {},
   "outputs": [],
   "source": [
    "def min_gred(x_start, rate, num, f):\n",
    "    x = torch.tensor(x_start, requires_grad=True)\n",
    "    for n in range(num): \n",
    "        y = f(x)\n",
    "        y.backward()   # 计算梯度\n",
    "        gx = x.grad.tolist()  # 取出梯度\n",
    "        newx = x.tolist() - rate*gx # 修正\n",
    "        x = torch.tensor(newx, requires_grad=True)  #重新定义x, 所以不需要清零操作\n",
    "        print(\"X:{x:.2f}, Y:{y:.2f}, gx:{gx:.2f}\".format(x=x, y=y,gx=gx))\n",
    "        if abs(gx)<0.0001:\n",
    "            break\n",
    "    return x\n",
    "        "
   ]
  },
  {
   "cell_type": "code",
   "execution_count": 24,
   "metadata": {},
   "outputs": [],
   "source": [
    "f = lambda x:x**2"
   ]
  },
  {
   "cell_type": "code",
   "execution_count": 25,
   "metadata": {},
   "outputs": [
    {
     "name": "stdout",
     "output_type": "stream",
     "text": [
      "X:1.60, Y:4.00, gx:4.00\n",
      "X:1.28, Y:2.56, gx:3.20\n",
      "X:1.02, Y:1.64, gx:2.56\n",
      "X:0.82, Y:1.05, gx:2.05\n",
      "X:0.66, Y:0.67, gx:1.64\n",
      "X:0.52, Y:0.43, gx:1.31\n",
      "X:0.42, Y:0.27, gx:1.05\n",
      "X:0.34, Y:0.18, gx:0.84\n",
      "X:0.27, Y:0.11, gx:0.67\n",
      "X:0.21, Y:0.07, gx:0.54\n"
     ]
    },
    {
     "data": {
      "text/plain": [
       "tensor(0.2147, requires_grad=True)"
      ]
     },
     "execution_count": 25,
     "metadata": {},
     "output_type": "execute_result"
    }
   ],
   "source": [
    "min_gred(2.0, 0.1, 10,f)"
   ]
  }
 ],
 "metadata": {
  "kernelspec": {
   "display_name": "Python 3",
   "language": "python",
   "name": "python3"
  },
  "language_info": {
   "codemirror_mode": {
    "name": "ipython",
    "version": 3
   },
   "file_extension": ".py",
   "mimetype": "text/x-python",
   "name": "python",
   "nbconvert_exporter": "python",
   "pygments_lexer": "ipython3",
   "version": "3.9.12"
  }
 },
 "nbformat": 4,
 "nbformat_minor": 2
}
