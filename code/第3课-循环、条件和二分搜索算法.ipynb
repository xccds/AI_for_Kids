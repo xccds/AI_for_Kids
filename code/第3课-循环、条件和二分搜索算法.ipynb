{
 "cells": [
  {
   "cell_type": "markdown",
   "metadata": {},
   "source": [
    "### 本课提纲\n",
    "- 逻辑值和判断条件\n",
    "- 循环语句和列表\n",
    "- 二分法搜索\n",
    "- 练习\n"
   ]
  },
  {
   "cell_type": "markdown",
   "metadata": {},
   "source": [
    "### 1. 逻辑值和判断条件"
   ]
  },
  {
   "cell_type": "markdown",
   "metadata": {},
   "source": [
    "之前我们学到了两种数据类型，分别是字符串类型和数值类型，现在我们新学一种数据类型，逻辑类型，也叫作布尔类型（bool）。逻辑类型数据的值只有两种，就是真或假，真就是True，假就是False。判断一个变量中的数据是什么类型可以用type函数来判断。"
   ]
  },
  {
   "cell_type": "code",
   "execution_count": 8,
   "metadata": {},
   "outputs": [],
   "source": [
    "x_str = \"True\"\n",
    "x_int = 1\n",
    "x_bool = True"
   ]
  },
  {
   "cell_type": "code",
   "execution_count": 9,
   "metadata": {},
   "outputs": [
    {
     "data": {
      "text/plain": [
       "str"
      ]
     },
     "execution_count": 9,
     "metadata": {},
     "output_type": "execute_result"
    }
   ],
   "source": [
    "type(x_str)"
   ]
  },
  {
   "cell_type": "code",
   "execution_count": 10,
   "metadata": {},
   "outputs": [
    {
     "data": {
      "text/plain": [
       "int"
      ]
     },
     "execution_count": 10,
     "metadata": {},
     "output_type": "execute_result"
    }
   ],
   "source": [
    "type(x_int)"
   ]
  },
  {
   "cell_type": "code",
   "execution_count": 11,
   "metadata": {},
   "outputs": [
    {
     "data": {
      "text/plain": [
       "bool"
      ]
     },
     "execution_count": 11,
     "metadata": {},
     "output_type": "execute_result"
    }
   ],
   "source": [
    "type(x_bool)"
   ]
  },
  {
   "cell_type": "markdown",
   "metadata": {},
   "source": [
    "可以观察到我们分别定义了三种不同的数据，type都可以判断出来他们的数据类型。逻辑类型可以直接向上面那样赋值产生，也可以通过下面这样判断产生。"
   ]
  },
  {
   "cell_type": "code",
   "execution_count": 12,
   "metadata": {},
   "outputs": [
    {
     "data": {
      "text/plain": [
       "False"
      ]
     },
     "execution_count": 12,
     "metadata": {},
     "output_type": "execute_result"
    }
   ],
   "source": [
    "1 == 0"
   ]
  },
  {
   "cell_type": "markdown",
   "metadata": {},
   "source": [
    "通过一个双等号来判断两边的变量是否相等，因为1当然是不等于0的，所以返回是一个逻辑值False，表示为假。"
   ]
  },
  {
   "cell_type": "code",
   "execution_count": 13,
   "metadata": {},
   "outputs": [
    {
     "data": {
      "text/plain": [
       "True"
      ]
     },
     "execution_count": 13,
     "metadata": {},
     "output_type": "execute_result"
    }
   ],
   "source": [
    "4%2==0"
   ]
  },
  {
   "cell_type": "markdown",
   "metadata": {},
   "source": [
    "还可以判断一下4是否能被2整除，在上一课我们学习了%是表示求余数，整除的话意味着余数为0，自然结果就是返回为逻辑值True。"
   ]
  },
  {
   "cell_type": "code",
   "execution_count": 14,
   "metadata": {},
   "outputs": [
    {
     "name": "stdout",
     "output_type": "stream",
     "text": [
      "True\n"
     ]
    }
   ],
   "source": [
    "x=4%2==0\n",
    "print(x)"
   ]
  },
  {
   "cell_type": "code",
   "execution_count": 15,
   "metadata": {},
   "outputs": [
    {
     "data": {
      "text/plain": [
       "bool"
      ]
     },
     "execution_count": 15,
     "metadata": {},
     "output_type": "execute_result"
    }
   ],
   "source": [
    "type(x)"
   ]
  },
  {
   "cell_type": "markdown",
   "metadata": {},
   "source": [
    "上例是先通过双等号进行逻辑判断，再通过等号，将判断结果\"True\"，赋值给了x。如果我们用type来看看x的类型，发现它就是逻辑类型。除了双等号以外，其它比较符也可以用于逻辑判断。"
   ]
  },
  {
   "cell_type": "code",
   "execution_count": 16,
   "metadata": {},
   "outputs": [
    {
     "data": {
      "text/plain": [
       "True"
      ]
     },
     "execution_count": 16,
     "metadata": {},
     "output_type": "execute_result"
    }
   ],
   "source": [
    "3>2"
   ]
  },
  {
   "cell_type": "markdown",
   "metadata": {},
   "source": [
    "多个逻辑判断可以根据情况整合在一起，例如有时候我们希望多个条件同时满足，此时我们用and连接，有时候希望只要有一个条件满足就够了，此时用or连接。"
   ]
  },
  {
   "cell_type": "code",
   "execution_count": 17,
   "metadata": {},
   "outputs": [
    {
     "data": {
      "text/plain": [
       "False"
      ]
     },
     "execution_count": 17,
     "metadata": {},
     "output_type": "execute_result"
    }
   ],
   "source": [
    "3>2 and 1>2"
   ]
  },
  {
   "cell_type": "code",
   "execution_count": 18,
   "metadata": {},
   "outputs": [
    {
     "data": {
      "text/plain": [
       "True"
      ]
     },
     "execution_count": 18,
     "metadata": {},
     "output_type": "execute_result"
    }
   ],
   "source": [
    "3>2 or 1>2"
   ]
  },
  {
   "cell_type": "markdown",
   "metadata": {},
   "source": [
    "可以看到用and连接多个逻辑判断，要求是比较严格的，用or来连接多个逻辑，要求比较宽松。"
   ]
  },
  {
   "cell_type": "markdown",
   "metadata": {},
   "source": [
    "在上一堂课，我们学习了很多基本的语法，多行代码可以顺序的运行，有时候情况会更复杂一些。例如会涉及到对前提条件的判断，就好像你要上学了，会先看一下今天的天气如何，如果天气预报说有雨，我们就会带伞，如果说是晴天，我们就不会带伞。写程序也会有类似的逻辑，这种就称之为条件语句"
   ]
  },
  {
   "cell_type": "code",
   "execution_count": 19,
   "metadata": {},
   "outputs": [],
   "source": [
    "def odd_even(x):\n",
    "    if x%2 == 0:\n",
    "        return \"偶数\"\n",
    "    else:\n",
    "        return \"奇数\""
   ]
  },
  {
   "cell_type": "code",
   "execution_count": 20,
   "metadata": {},
   "outputs": [
    {
     "data": {
      "text/plain": [
       "'偶数'"
      ]
     },
     "execution_count": 20,
     "metadata": {},
     "output_type": "execute_result"
    }
   ],
   "source": [
    "odd_even(4)"
   ]
  },
  {
   "cell_type": "code",
   "execution_count": 21,
   "metadata": {},
   "outputs": [
    {
     "data": {
      "text/plain": [
       "'奇数'"
      ]
     },
     "execution_count": 21,
     "metadata": {},
     "output_type": "execute_result"
    }
   ],
   "source": [
    "odd_even(3)"
   ]
  },
  {
   "cell_type": "markdown",
   "metadata": {},
   "source": [
    "我们可以用条件语句来给上一堂课的chicken_rabbit函数做一些补充修改，在鸡兔同笼问题中，我们是直接根据n和m计算了两个公式，但是如果说输入的n和m是很奇怪的数字，我们的这个函数也会输出奇怪的结果"
   ]
  },
  {
   "cell_type": "code",
   "execution_count": 22,
   "metadata": {},
   "outputs": [],
   "source": [
    "def chicken_rabbit(n,m):\n",
    "    x = int((4*n-m)/2)\n",
    "    y = int(n-x)\n",
    "    output = \"鸡：{x}, 兔：{y}\".format(x=x, y=y)\n",
    "    return output"
   ]
  },
  {
   "cell_type": "code",
   "execution_count": 23,
   "metadata": {},
   "outputs": [
    {
     "data": {
      "text/plain": [
       "'鸡：-3, 兔：4'"
      ]
     },
     "execution_count": 23,
     "metadata": {},
     "output_type": "execute_result"
    }
   ],
   "source": [
    "chicken_rabbit(1,10)"
   ]
  },
  {
   "cell_type": "markdown",
   "metadata": {},
   "source": [
    "因为输入的n和m是不符合逻辑的，因为不可能会有1个头，10个腿这种情况，所以简单的套用公式会输出负数的结果，那么我们需要在函数中增加条件判断的功能，一种思路是判断输出数字合乎逻辑的时候，才会输出显示。什么叫符合逻辑呢，我们规定是：x和y是非负整数"
   ]
  },
  {
   "cell_type": "code",
   "execution_count": 24,
   "metadata": {},
   "outputs": [],
   "source": [
    "def chicken_rabbit(n,m):\n",
    "    x = int((4*n-m)/2)\n",
    "    y = int(n-x)\n",
    "    if (x>0 and y>0):\n",
    "        output = \"鸡：{x}, 兔：{y}\".format(x=x, y=y)\n",
    "    else:\n",
    "        output = \"无法求解\"\n",
    "    return output"
   ]
  },
  {
   "cell_type": "code",
   "execution_count": 25,
   "metadata": {},
   "outputs": [
    {
     "data": {
      "text/plain": [
       "'无法求解'"
      ]
     },
     "execution_count": 25,
     "metadata": {},
     "output_type": "execute_result"
    }
   ],
   "source": [
    "chicken_rabbit(1,10)"
   ]
  },
  {
   "cell_type": "code",
   "execution_count": 26,
   "metadata": {},
   "outputs": [
    {
     "data": {
      "text/plain": [
       "'鸡：12, 兔：13'"
      ]
     },
     "execution_count": 26,
     "metadata": {},
     "output_type": "execute_result"
    }
   ],
   "source": [
    "chicken_rabbit(25,76)"
   ]
  },
  {
   "cell_type": "markdown",
   "metadata": {},
   "source": [
    "### 2. 循环语句和列表"
   ]
  },
  {
   "cell_type": "markdown",
   "metadata": {},
   "source": [
    "我们很讨厌每天重复做一件事情，因为很无聊，不过计算机不一样了，它最擅长做重复的事情，这种程序我们称之为循环语句。"
   ]
  },
  {
   "cell_type": "code",
   "execution_count": 27,
   "metadata": {},
   "outputs": [],
   "source": [
    "text = \"坚韧不拔\""
   ]
  },
  {
   "cell_type": "code",
   "execution_count": 28,
   "metadata": {},
   "outputs": [
    {
     "name": "stdout",
     "output_type": "stream",
     "text": [
      "坚!\n",
      "韧!\n",
      "不!\n",
      "拔!\n"
     ]
    }
   ],
   "source": [
    "for word in text:\n",
    "    print(word+\"!\")"
   ]
  },
  {
   "cell_type": "markdown",
   "metadata": {},
   "source": [
    "在上例中，循环的对象是一个字符串，它将一个字符串做为一个整体，遍历处理字符串中的每个字符。如果循环的对象是数字会怎么样？"
   ]
  },
  {
   "cell_type": "code",
   "execution_count": 29,
   "metadata": {},
   "outputs": [
    {
     "ename": "TypeError",
     "evalue": "'int' object is not iterable",
     "output_type": "error",
     "traceback": [
      "\u001b[1;31m---------------------------------------------------------------------------\u001b[0m",
      "\u001b[1;31mTypeError\u001b[0m                                 Traceback (most recent call last)",
      "\u001b[1;32m<ipython-input-29-1767184f8a7e>\u001b[0m in \u001b[0;36m<module>\u001b[1;34m()\u001b[0m\n\u001b[1;32m----> 1\u001b[1;33m \u001b[1;32mfor\u001b[0m \u001b[0mx\u001b[0m \u001b[1;32min\u001b[0m \u001b[1;36m123\u001b[0m\u001b[1;33m:\u001b[0m\u001b[1;33m\u001b[0m\u001b[0m\n\u001b[0m\u001b[0;32m      2\u001b[0m     \u001b[0mprint\u001b[0m\u001b[1;33m(\u001b[0m\u001b[0mx\u001b[0m\u001b[1;33m)\u001b[0m\u001b[1;33m\u001b[0m\u001b[0m\n",
      "\u001b[1;31mTypeError\u001b[0m: 'int' object is not iterable"
     ]
    }
   ],
   "source": [
    "for x in 123:\n",
    "    print(x)"
   ]
  },
  {
   "cell_type": "markdown",
   "metadata": {},
   "source": [
    "会报错，如果是字符串，计算机很容易知道怎么从整体拆成个体，但对于一个数值，计算机并不知道怎么拆解。换句话说，字符串是可以被遍历的，而数值是不能被遍历的。所以我们需要一种新的数据类型，就是列表（list）。"
   ]
  },
  {
   "cell_type": "code",
   "execution_count": 30,
   "metadata": {},
   "outputs": [
    {
     "name": "stdout",
     "output_type": "stream",
     "text": [
      "1\n",
      "2\n",
      "3\n"
     ]
    }
   ],
   "source": [
    "numbers = [1,2,3]\n",
    "for x in numbers:\n",
    "    print(x)"
   ]
  },
  {
   "cell_type": "code",
   "execution_count": 31,
   "metadata": {},
   "outputs": [
    {
     "data": {
      "text/plain": [
       "list"
      ]
     },
     "execution_count": 31,
     "metadata": {},
     "output_type": "execute_result"
    }
   ],
   "source": [
    "type(numbers)"
   ]
  },
  {
   "cell_type": "markdown",
   "metadata": {},
   "source": [
    "定义一个列表很简单，就是用一对中括号，把需要装进来的东西包住，里面的东西用逗号隔开。可以理解列表就是一排保险柜，柜子里头保存的是一堆分开保存的东西。"
   ]
  },
  {
   "cell_type": "markdown",
   "metadata": {},
   "source": [
    "列表、循环和条件是绝妙的搭配，他们在一起合作会产生强大的能力，能做很多事情，例如我们找出10以内所有的偶数"
   ]
  },
  {
   "cell_type": "code",
   "execution_count": 32,
   "metadata": {},
   "outputs": [
    {
     "name": "stdout",
     "output_type": "stream",
     "text": [
      "0\n",
      "2\n",
      "4\n",
      "6\n",
      "8\n"
     ]
    }
   ],
   "source": [
    "numbers = [0,1,2,3,4,5,6,7,8,9]\n",
    "for x in numbers:\n",
    "    if odd_even(x) == \"偶数\":\n",
    "        print(x)"
   ]
  },
  {
   "cell_type": "markdown",
   "metadata": {},
   "source": [
    "上例中我们先手工定义了一个有9个数字的列表number，然后循环遍历这个列表，对列表中的每个数字，用之前写的一个函数odd_even去计算，用if来判断它是否偶数，如果条件成立，就把这个数字显示出来。在这个循环中，列表是整体，其中的每个数字或元素是个体。"
   ]
  },
  {
   "cell_type": "markdown",
   "metadata": {},
   "source": [
    "在定义列表的时候，也可以通过list函数来做"
   ]
  },
  {
   "cell_type": "code",
   "execution_count": 33,
   "metadata": {},
   "outputs": [
    {
     "data": {
      "text/plain": [
       "list"
      ]
     },
     "execution_count": 33,
     "metadata": {},
     "output_type": "execute_result"
    }
   ],
   "source": [
    "numbers = list([0,1,2,3,4,5,6,7,8,9])\n",
    "type(numbers)"
   ]
  },
  {
   "cell_type": "markdown",
   "metadata": {},
   "source": [
    "可以对列表做很多的操作，这里先简单介绍三种最常用操作，也就是对列表做查询、修改和新增"
   ]
  },
  {
   "cell_type": "code",
   "execution_count": 34,
   "metadata": {},
   "outputs": [
    {
     "data": {
      "text/plain": [
       "9"
      ]
     },
     "execution_count": 34,
     "metadata": {},
     "output_type": "execute_result"
    }
   ],
   "source": [
    "numbers[9]"
   ]
  },
  {
   "cell_type": "code",
   "execution_count": 35,
   "metadata": {},
   "outputs": [
    {
     "data": {
      "text/plain": [
       "[0, 1, 2, 3, 4, 5, 6, 7, 8, 19]"
      ]
     },
     "execution_count": 35,
     "metadata": {},
     "output_type": "execute_result"
    }
   ],
   "source": [
    "numbers[9]=19\n",
    "numbers"
   ]
  },
  {
   "cell_type": "code",
   "execution_count": 36,
   "metadata": {},
   "outputs": [
    {
     "data": {
      "text/plain": [
       "[0, 1, 2, 3, 4, 5, 6, 7, 8, 19, 99]"
      ]
     },
     "execution_count": 36,
     "metadata": {},
     "output_type": "execute_result"
    }
   ],
   "source": [
    "numbers.append(99)\n",
    "numbers"
   ]
  },
  {
   "cell_type": "markdown",
   "metadata": {},
   "source": [
    "手工输入数字还是比较麻烦的，可以通过一个range函数来帮助自动定义一个列表，这里有一个函数嵌套，也就是说range的输出再放到list函数中去，如果range只用于循环遍历，它也不用再放到list中。"
   ]
  },
  {
   "cell_type": "code",
   "execution_count": 37,
   "metadata": {},
   "outputs": [
    {
     "data": {
      "text/plain": [
       "[0, 1, 2, 3, 4, 5, 6, 7, 8, 9]"
      ]
     },
     "execution_count": 37,
     "metadata": {},
     "output_type": "execute_result"
    }
   ],
   "source": [
    "list(range(10))"
   ]
  },
  {
   "cell_type": "markdown",
   "metadata": {},
   "source": [
    "要注意的是，range(10)产生的数字是从0开始，到9结束"
   ]
  },
  {
   "cell_type": "markdown",
   "metadata": {},
   "source": [
    "让我们把之前的代码改一下，把20以内的偶数都找出来，并存到列表中。"
   ]
  },
  {
   "cell_type": "code",
   "execution_count": 38,
   "metadata": {},
   "outputs": [
    {
     "name": "stdout",
     "output_type": "stream",
     "text": [
      "[0, 2, 4, 6, 8, 10, 12, 14, 16, 18]\n"
     ]
    }
   ],
   "source": [
    "numbers_even = []\n",
    "for x in range(20):\n",
    "    if odd_even(x) == \"偶数\":\n",
    "        numbers_even.append(x)\n",
    "print(numbers_even)"
   ]
  },
  {
   "cell_type": "markdown",
   "metadata": {},
   "source": [
    "前面介绍了用for关键词进行循环，下面介绍另一种循环语句，即while循环。"
   ]
  },
  {
   "cell_type": "markdown",
   "metadata": {},
   "source": [
    "还是用偶数的例子，只不过换用while循环，while关键词后面接一个逻辑表达式，为真值时会运行后面的代码部分。"
   ]
  },
  {
   "cell_type": "code",
   "execution_count": 39,
   "metadata": {},
   "outputs": [
    {
     "name": "stdout",
     "output_type": "stream",
     "text": [
      "[0, 2, 4, 6, 8, 10, 12, 14, 16, 18]\n"
     ]
    }
   ],
   "source": [
    "numbers_even = []\n",
    "x = 0\n",
    "while x<20:\n",
    "    if odd_even(x) == \"偶数\":\n",
    "        numbers_even.append(x)\n",
    "    x = x+1\n",
    "print(numbers_even)"
   ]
  },
  {
   "cell_type": "markdown",
   "metadata": {},
   "source": [
    "当我们明确知道循环的整体对象时，for循环是适合的，因为这个整体必然是有限范围的。但如果我们在循环时不清楚这个循环范围时，while循环是合适的。while循环经常和break一起使用。例如我们需要计算出10个偶数出来。当n等于10的时候，就用break来跳出循环，否则就会一直循环下去。"
   ]
  },
  {
   "cell_type": "code",
   "execution_count": 40,
   "metadata": {},
   "outputs": [
    {
     "name": "stdout",
     "output_type": "stream",
     "text": [
      "[0, 2, 4, 6, 8, 10, 12, 14, 16, 18]\n"
     ]
    }
   ],
   "source": [
    "numbers_even = []\n",
    "n = 0\n",
    "x = 0\n",
    "while True:\n",
    "    if odd_even(x) == \"偶数\":\n",
    "        numbers_even.append(x)\n",
    "    n = len(numbers_even)\n",
    "    x = x + 1\n",
    "    if n == 10:\n",
    "        break\n",
    "        \n",
    "print(numbers_even)"
   ]
  },
  {
   "cell_type": "markdown",
   "metadata": {},
   "source": [
    "### 3. 二分法搜索"
   ]
  },
  {
   "cell_type": "markdown",
   "metadata": {},
   "source": [
    "有这样一种游戏叫作猜数字，小朋友A要从20以内的数字中选好一个数字，心里面记好，让另一个小朋友B去猜这个数字是多少，B猜一个数字后会问A，A要回应这个猜测是大了还是小了，那么B要怎样做才能最快的猜出这个数字呢？让我们用本课学到的编程知识来模拟这个过程。"
   ]
  },
  {
   "cell_type": "code",
   "execution_count": 41,
   "metadata": {},
   "outputs": [],
   "source": [
    "# 假设A选择了3，B一开始猜测的是数字10\n",
    "number_A = 3\n",
    "number_B = 10"
   ]
  },
  {
   "cell_type": "code",
   "execution_count": 42,
   "metadata": {},
   "outputs": [],
   "source": [
    "# 定义一个函数来模拟A对于猜测数字的回复\n",
    "# 如果B猜的数字一样就回复正确，如果较小就回复猜小了，如果较大就回复猜大了\n",
    "def more_less(a,b):\n",
    "    if a == b:\n",
    "        return \"猜对了\"\n",
    "    if a>b:\n",
    "        return \"猜小了\"\n",
    "    if a<b:\n",
    "        return \"猜大了\""
   ]
  },
  {
   "cell_type": "code",
   "execution_count": 43,
   "metadata": {},
   "outputs": [],
   "source": [
    "# 定义一个函数来B如何去改换猜测的数字，如果结果是猜小了就增加1，如果是大了就减少1\n",
    "def change_number(a,b):\n",
    "    if more_less(a,b) == \"猜小了\":\n",
    "        b_new = b+1\n",
    "    if more_less(a,b) == \"猜大了\":\n",
    "        b_new = b-1\n",
    "    return b_new"
   ]
  },
  {
   "cell_type": "code",
   "execution_count": 44,
   "metadata": {},
   "outputs": [
    {
     "name": "stdout",
     "output_type": "stream",
     "text": [
      "3 10\n",
      "3 9\n",
      "3 8\n",
      "3 7\n",
      "3 6\n",
      "3 5\n",
      "3 4\n",
      "3 3\n",
      "猜对了\n"
     ]
    }
   ],
   "source": [
    "# 用while循环来模拟这个过程\n",
    "while True:\n",
    "    # 打印出A一开始记住的数字，以及B猜测的数字\n",
    "    print(number_A,number_B)\n",
    "    # A 来给出猜测的回复\n",
    "    guess_result = more_less(number_A,number_B)\n",
    "    if guess_result == \"猜对了\":\n",
    "        print(guess_result)\n",
    "        break  # 如果猜对了就结束循环\n",
    "    else:  # 如果没有猜对，B就需要更换一个猜测数字\n",
    "        number_B = change_number(number_A,number_B)"
   ]
  },
  {
   "cell_type": "markdown",
   "metadata": {},
   "source": [
    "可以看到，用这种最简单的更新猜测的方法，B需要8次猜测才能猜到正确的答案，如果A开始选的是1，B开始猜的是20，那么要猜20次才能到正确的答案。那么有没有更快的方法呢？当然是有的，我们可以利用二分法的思路来猜。二分法的思路就是一次排除一半，例如整体数字是20，那么一开始B猜10，结果不论如何，可以排除另外一半的数字，在下一步，如果结果是猜大了，可以直接跳到5，不论结果如何，再排除一半的数字。"
   ]
  },
  {
   "cell_type": "code",
   "execution_count": 45,
   "metadata": {},
   "outputs": [
    {
     "name": "stdout",
     "output_type": "stream",
     "text": [
      "3 10\n",
      "3 4\n",
      "3 1\n",
      "3 2\n",
      "3 3\n",
      "猜对了\n"
     ]
    }
   ],
   "source": [
    "number_A = 3\n",
    "low = 0\n",
    "high = 20\n",
    "# number_list用于存放数字列表\n",
    "number_list = list(range(high+1))\n",
    "\n",
    "while low <= high:\n",
    "    mid = int((low+high)/2) # 检查中间的元素\n",
    "    number_B = number_list[mid] # 取出中间的数字\n",
    "    print(number_A,number_B)\n",
    "    if more_less(number_A,number_B)==\"猜对了\":\n",
    "        print(\"猜对了\")\n",
    "        break\n",
    "    if more_less(number_A,number_B)==\"猜大了\":\n",
    "        high = mid -1\n",
    "    else:\n",
    "        low = mid + 1"
   ]
  },
  {
   "cell_type": "markdown",
   "metadata": {},
   "source": [
    "使用这种方法后，只用猜5次就猜对了。"
   ]
  },
  {
   "cell_type": "markdown",
   "metadata": {},
   "source": [
    "###  练习"
   ]
  },
  {
   "cell_type": "markdown",
   "metadata": {},
   "source": [
    "我们来看一个开灯问题，一个房间里有20盏灯，编号从1到20，第1个人进来把所有灯打开，第2个人再进来把所有编号为2的倍数的灯关掉，第3个人再进来，把所有编号为3的倍数的灯打开，依此类推，如果有5个人进来过，最后有哪几盏灯还开着？"
   ]
  },
  {
   "cell_type": "code",
   "execution_count": 46,
   "metadata": {
    "scrolled": true
   },
   "outputs": [
    {
     "name": "stdout",
     "output_type": "stream",
     "text": [
      "[1, 1, 1, 1, 1, 1, 1, 1, 1, 1, 1, 1, 1, 1, 1, 1, 1, 1, 1, 1]\n"
     ]
    }
   ],
   "source": [
    "lights = list(range(20))\n",
    "for light in lights:\n",
    "    lights[light]=1\n",
    "print(lights)"
   ]
  },
  {
   "cell_type": "markdown",
   "metadata": {},
   "source": [
    "我们分两步来解决这个问题，第一步先用一个列表把20个灯定义好，然后第一个人进来，把每个灯都打开，就用1表示打开，0表示关闭，那么就是把这个列表中的20个元素都修改成1就可以了。"
   ]
  },
  {
   "cell_type": "code",
   "execution_count": 47,
   "metadata": {},
   "outputs": [
    {
     "name": "stdout",
     "output_type": "stream",
     "text": [
      "[1, 0, 0, 1, 0, 1, 1, 1, 0, 1, 1, 0, 1, 0, 1, 1, 1, 1, 1, 0]\n"
     ]
    }
   ],
   "source": [
    "for people in [2,3,4,5]:\n",
    "    for number in range(20):\n",
    "        if (number+1)%(people)==0:\n",
    "            lights[number]=1-lights[number]\n",
    "print(lights)    "
   ]
  },
  {
   "cell_type": "markdown",
   "metadata": {},
   "source": [
    "第二步是从第二个人开始循环，这里先从不同的人开始循环，再循环不同的灯，所以是有一个双重循环，如果这个灯的序号能够被人的序号整除，我们就把灯的状态进行修改。这里要注意两个要点，一个是用第三行是用了number+1，因为range从0开始编号的，而题目中灯的编号从1开始的，所以需要+1，第二个是在第四行我们修改灯的状态时，lights[number]=1-lights[number]，兼容了开灯和关灯两个动作，如果原来是1，用1-1可以变成0，如果原来是0，用1-0可以变成1."
   ]
  }
 ],
 "metadata": {
  "kernelspec": {
   "display_name": "Python 3",
   "language": "python",
   "name": "python3"
  },
  "language_info": {
   "codemirror_mode": {
    "name": "ipython",
    "version": 3
   },
   "file_extension": ".py",
   "mimetype": "text/x-python",
   "name": "python",
   "nbconvert_exporter": "python",
   "pygments_lexer": "ipython3",
   "version": "3.8.5"
  }
 },
 "nbformat": 4,
 "nbformat_minor": 2
}
