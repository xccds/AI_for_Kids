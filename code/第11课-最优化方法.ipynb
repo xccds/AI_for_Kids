{
 "cells": [
  {
   "cell_type": "markdown",
   "metadata": {},
   "source": [
    "### 1. 什么是最优化"
   ]
  },
  {
   "cell_type": "code",
   "execution_count": 1,
   "metadata": {},
   "outputs": [],
   "source": [
    "import numpy as np\n",
    "import matplotlib.pyplot as plt\n",
    "%matplotlib inline"
   ]
  },
  {
   "cell_type": "code",
   "execution_count": 2,
   "metadata": {},
   "outputs": [
    {
     "data": {
      "image/png": "[encoded data removed]",
      "text/plain": [
       "<Figure size 432x288 with 1 Axes>"
      ]
     },
     "metadata": {
      "needs_background": "light"
     },
     "output_type": "display_data"
    }
   ],
   "source": [
    "x = np.linspace(-2,2,100)\n",
    "y = x**2\n",
    "plt.plot(x,y);\n",
    "plt.scatter(0,0,color='red');"
   ]
  },
  {
   "cell_type": "markdown",
   "metadata": {},
   "source": [
    "### 2. 梯度下降算法"
   ]
  },
  {
   "cell_type": "code",
   "execution_count": 4,
   "metadata": {},
   "outputs": [],
   "source": [
    "def min_gred(x_start, rate, num, f,g):\n",
    "    x = x_start\n",
    "    for n in range(num):\n",
    "        gx = g(x)\n",
    "        y = f(x)\n",
    "        x = x - rate*gx # 梯度下降\n",
    "        print(\"X:{x:.2f}, Y:{y:.2f}, gx:{gx:.2f}\".format(x=x, y=y,gx=gx))\n",
    "        if abs(gx)<0.0001:\n",
    "            break\n",
    "    return x\n",
    "        "
   ]
  },
  {
   "cell_type": "code",
   "execution_count": 5,
   "metadata": {},
   "outputs": [],
   "source": [
    "f = lambda x:x**2\n",
    "g = lambda x: 2*x"
   ]
  },
  {
   "cell_type": "code",
   "execution_count": 6,
   "metadata": {},
   "outputs": [
    {
     "name": "stdout",
     "output_type": "stream",
     "text": [
      "X:1.60, Y:4.00, gx:4.00\n",
      "X:1.28, Y:2.56, gx:3.20\n",
      "X:1.02, Y:1.64, gx:2.56\n",
      "X:0.82, Y:1.05, gx:2.05\n",
      "X:0.66, Y:0.67, gx:1.64\n",
      "X:0.52, Y:0.43, gx:1.31\n",
      "X:0.42, Y:0.27, gx:1.05\n",
      "X:0.34, Y:0.18, gx:0.84\n",
      "X:0.27, Y:0.11, gx:0.67\n",
      "X:0.21, Y:0.07, gx:0.54\n"
     ]
    },
    {
     "data": {
      "text/plain": [
       "0.21474836480000006"
      ]
     },
     "execution_count": 6,
     "metadata": {},
     "output_type": "execute_result"
    }
   ],
   "source": [
    "min_gred(2,0.1, 10,f,g)"
   ]
  },
  {
   "cell_type": "code",
   "execution_count": 7,
   "metadata": {},
   "outputs": [
    {
     "name": "stdout",
     "output_type": "stream",
     "text": [
      "X:0.80, Y:4.00, gx:4.00\n",
      "X:0.32, Y:0.64, gx:1.60\n",
      "X:0.13, Y:0.10, gx:0.64\n",
      "X:0.05, Y:0.02, gx:0.26\n",
      "X:0.02, Y:0.00, gx:0.10\n",
      "X:0.01, Y:0.00, gx:0.04\n",
      "X:0.00, Y:0.00, gx:0.02\n",
      "X:0.00, Y:0.00, gx:0.01\n",
      "X:0.00, Y:0.00, gx:0.00\n",
      "X:0.00, Y:0.00, gx:0.00\n"
     ]
    },
    {
     "data": {
      "text/plain": [
       "0.00020971520000000014"
      ]
     },
     "execution_count": 7,
     "metadata": {},
     "output_type": "execute_result"
    }
   ],
   "source": [
    "min_gred(2,0.3, 10,f,g)"
   ]
  },
  {
   "cell_type": "code",
   "execution_count": 8,
   "metadata": {},
   "outputs": [
    {
     "name": "stdout",
     "output_type": "stream",
     "text": [
      "X:-2.40, Y:4.00, gx:4.00\n",
      "X:2.88, Y:5.76, gx:-4.80\n",
      "X:-3.46, Y:8.29, gx:5.76\n",
      "X:4.15, Y:11.94, gx:-6.91\n",
      "X:-4.98, Y:17.20, gx:8.29\n",
      "X:5.97, Y:24.77, gx:-9.95\n",
      "X:-7.17, Y:35.66, gx:11.94\n",
      "X:8.60, Y:51.36, gx:-14.33\n",
      "X:-10.32, Y:73.95, gx:17.20\n",
      "X:12.38, Y:106.49, gx:-20.64\n"
     ]
    },
    {
     "data": {
      "text/plain": [
       "12.383472844800014"
      ]
     },
     "execution_count": 8,
     "metadata": {},
     "output_type": "execute_result"
    }
   ],
   "source": [
    "min_gred(2,1.1, 10,f,g)"
   ]
  },
  {
   "cell_type": "markdown",
   "metadata": {},
   "source": [
    "### 3. 遗传算法"
   ]
  },
  {
   "cell_type": "code",
   "execution_count": 9,
   "metadata": {},
   "outputs": [],
   "source": [
    "x = np.linspace(-2,2,100)\n",
    "def func(x):\n",
    "    return x**2\n",
    "y = func(x)\n"
   ]
  },
  {
   "cell_type": "code",
   "execution_count": 10,
   "metadata": {},
   "outputs": [],
   "source": [
    "\n",
    "num = 10\n",
    "pop = np.random.uniform(low=-2,high=2,size=num)"
   ]
  },
  {
   "cell_type": "code",
   "execution_count": 11,
   "metadata": {},
   "outputs": [
    {
     "data": {
      "image/png": "[encoded data removed]",
      "text/plain": [
       "<Figure size 432x288 with 1 Axes>"
      ]
     },
     "metadata": {
      "needs_background": "light"
     },
     "output_type": "display_data"
    }
   ],
   "source": [
    "plt.plot(x,y);\n",
    "y_fit = [func(i) for i in pop]\n",
    "plt.scatter(pop, y_fit,c='r');\n"
   ]
  },
  {
   "cell_type": "code",
   "execution_count": 12,
   "metadata": {},
   "outputs": [],
   "source": [
    "def fitness(x):\n",
    "    if (x>2 or x<-2):  \n",
    "        return -100\n",
    "    else: \n",
    "        return -x**2\n"
   ]
  },
  {
   "cell_type": "code",
   "execution_count": 14,
   "metadata": {},
   "outputs": [
    {
     "data": {
      "text/plain": [
       "-1.390999028325801"
      ]
     },
     "execution_count": 14,
     "metadata": {},
     "output_type": "execute_result"
    }
   ],
   "source": [
    "def fitness_pop(pop):\n",
    "    return sum(fitness(x) for x in pop)/len(pop)\n",
    "\n",
    "fitness_pop(pop)"
   ]
  },
  {
   "cell_type": "code",
   "execution_count": 15,
   "metadata": {},
   "outputs": [],
   "source": [
    "\n",
    "# def fitness_pop(pop):\n",
    "#     return np.sum(fitness(x) for x in pop)/len(pop)\n",
    "\n",
    "# fitness_pop(pop)"
   ]
  },
  {
   "cell_type": "code",
   "execution_count": 17,
   "metadata": {},
   "outputs": [
    {
     "data": {
      "text/plain": [
       "array([0.02298613, 0.13295679, 0.01425213, 0.24449924, 0.03255845,\n",
       "       0.0214153 , 0.18392559, 0.03763869, 0.06228121, 0.24748648])"
      ]
     },
     "execution_count": 17,
     "metadata": {},
     "output_type": "execute_result"
    }
   ],
   "source": [
    "def fitness_prob(pop):\n",
    "    return np.exp([fitness(x) for x in pop])/sum(np.exp([fitness(x) for x in pop]))\n",
    "\n",
    "fitness_prob(pop)\n"
   ]
  },
  {
   "cell_type": "code",
   "execution_count": 18,
   "metadata": {},
   "outputs": [],
   "source": [
    "\n",
    "def crossover(p1,p2):\n",
    "    weight = np.random.rand()\n",
    "    p1_sub = p1*weight\n",
    "    p2_sub = p2*(1-weight)\n",
    "    children = p1_sub+p2_sub\n",
    "    return children\n"
   ]
  },
  {
   "cell_type": "code",
   "execution_count": 19,
   "metadata": {},
   "outputs": [],
   "source": [
    "\n",
    "def mutate(p):\n",
    "    step = np.random.randn()*0.1\n",
    "    children = p+step\n",
    "    return children\n"
   ]
  },
  {
   "cell_type": "code",
   "execution_count": 20,
   "metadata": {},
   "outputs": [],
   "source": [
    "# 进化参数\n",
    "cross_rate = 0.8 # 杂交率\n",
    "mut_rate = 0.1 # 变异率"
   ]
  },
  {
   "cell_type": "code",
   "execution_count": 21,
   "metadata": {},
   "outputs": [
    {
     "name": "stdout",
     "output_type": "stream",
     "text": [
      "第0代种群的适应度：-0.547\n",
      "第1代种群的适应度：-0.072\n",
      "第2代种群的适应度：-0.001\n",
      "第3代种群的适应度：-0.000\n",
      "第4代种群的适应度：-0.002\n",
      "第5代种群的适应度：-0.000\n",
      "第6代种群的适应度：-0.000\n",
      "第7代种群的适应度：-0.002\n",
      "第8代种群的适应度：-0.001\n",
      "第9代种群的适应度：-0.001\n"
     ]
    }
   ],
   "source": [
    "# begin\n",
    "pop_parent = pop\n",
    "pop_fit = fitness_pop(pop_parent)\n",
    "\n",
    "iter_num = 0\n",
    "while iter_num < 10:\n",
    "    pop_children  = pop_parent.copy()\n",
    "    prob = fitness_prob(pop_children)  # 计算父群适应度概率\n",
    "    parent1_num = int(cross_rate*num)  # 根据杂交概率计算杂交数量\n",
    "    # 从个体中抽取待杂交基因编号\n",
    "    cross_index = np.random.choice(num, parent1_num, replace=False) \n",
    "    for i in cross_index: # 待杂交个体和其它随机个体进行杂交\n",
    "        pop_children[i] = crossover(pop_children[i], pop_children[int(np.random.choice(len(pop_children),1,p=prob))])\n",
    "\n",
    "    mut_num = int(mut_rate*num) # 计算待变异基因数量\n",
    "    mut_index = np.random.choice(num, mut_num,replace=False)  # 抽取待变异基因编号\n",
    "\n",
    "    for i in mut_index:\n",
    "        pop_children[i] = mutate(pop_children[i]) \n",
    "    # 上下双代合并排序\n",
    "    pop_group = np.concatenate([pop_children,pop_parent])\n",
    "    prob = fitness_prob(pop_group)\n",
    "    next_index = np.argsort(prob)[-num:]\n",
    "    pop_parent = pop_group[next_index] # 优秀的变成下一代\n",
    "    pop_fit = fitness_pop(pop_children)\n",
    "    print(\"第{n}代种群的适应度：{x:.3f}\".format(n=iter_num, x=pop_fit))\n",
    "    iter_num = iter_num + 1   # 进入下一轮"
   ]
  },
  {
   "cell_type": "code",
   "execution_count": 22,
   "metadata": {},
   "outputs": [
    {
     "data": {
      "text/plain": [
       "array([-6.30351621e-04,  1.62518054e-04,  6.66723637e-04, -6.49771053e-04,\n",
       "        7.11342544e-02, -3.00620197e-04, -3.59924475e-04,  2.25804632e-04,\n",
       "       -8.95414349e-05,  1.49450797e-04])"
      ]
     },
     "execution_count": 22,
     "metadata": {},
     "output_type": "execute_result"
    }
   ],
   "source": [
    "pop_children"
   ]
  },
  {
   "cell_type": "code",
   "execution_count": 23,
   "metadata": {},
   "outputs": [
    {
     "data": {
      "image/png": "[encoded data removed]",
      "text/plain": [
       "<Figure size 432x288 with 1 Axes>"
      ]
     },
     "metadata": {
      "needs_background": "light"
     },
     "output_type": "display_data"
    }
   ],
   "source": [
    "plt.plot(x,y);\n",
    "pop_fit = [func(i) for i in pop_children]\n",
    "plt.scatter(pop_children, pop_fit,c='r');\n"
   ]
  },
  {
   "cell_type": "markdown",
   "metadata": {},
   "source": [
    "### 练习"
   ]
  },
  {
   "cell_type": "code",
   "execution_count": 24,
   "metadata": {},
   "outputs": [
    {
     "data": {
      "image/png": "[encoded data removed]",
      "text/plain": [
       "<Figure size 432x288 with 1 Axes>"
      ]
     },
     "metadata": {
      "needs_background": "light"
     },
     "output_type": "display_data"
    }
   ],
   "source": [
    "x = np.linspace(-10,10,100)\n",
    "y = np.sin(x)\n",
    "plt.plot(x,y);\n"
   ]
  },
  {
   "cell_type": "code",
   "execution_count": 25,
   "metadata": {},
   "outputs": [
    {
     "data": {
      "text/latex": [
       "$\\displaystyle \\cos{\\left(x \\right)}$"
      ],
      "text/plain": [
       "cos(x)"
      ]
     },
     "execution_count": 25,
     "metadata": {},
     "output_type": "execute_result"
    }
   ],
   "source": [
    "from sympy import Symbol, diff,sin\n",
    "x = Symbol(\"x\")\n",
    "diff(sin(x),x)"
   ]
  },
  {
   "cell_type": "code",
   "execution_count": 27,
   "metadata": {},
   "outputs": [],
   "source": [
    "def min_gred(x_start, rate, num, f,g):\n",
    "    x = x_start\n",
    "    for n in range(num):\n",
    "        gx = g(x)\n",
    "        y = f(x)\n",
    "        x = x - rate*gx # 梯度下降\n",
    "        print(\"X:{x:.2f}, Y:{y:.2f}, gx:{gx:.2f}\".format(x=x, y=y,gx=gx))\n",
    "        if abs(gx)<0.0001:\n",
    "            break\n",
    "    return x     "
   ]
  },
  {
   "cell_type": "code",
   "execution_count": 28,
   "metadata": {},
   "outputs": [],
   "source": [
    "f = lambda x:np.sin(x)\n",
    "g = lambda x:np.cos(x)"
   ]
  },
  {
   "cell_type": "code",
   "execution_count": 29,
   "metadata": {},
   "outputs": [
    {
     "name": "stdout",
     "output_type": "stream",
     "text": [
      "X:-0.10, Y:0.10, gx:1.00\n",
      "X:-0.30, Y:-0.10, gx:1.00\n",
      "X:-0.49, Y:-0.29, gx:0.96\n",
      "X:-0.67, Y:-0.47, gx:0.88\n",
      "X:-0.82, Y:-0.62, gx:0.79\n",
      "X:-0.96, Y:-0.73, gx:0.68\n",
      "X:-1.07, Y:-0.82, gx:0.57\n",
      "X:-1.17, Y:-0.88, gx:0.48\n",
      "X:-1.25, Y:-0.92, gx:0.39\n",
      "X:-1.31, Y:-0.95, gx:0.32\n",
      "X:-1.36, Y:-0.97, gx:0.26\n",
      "X:-1.40, Y:-0.98, gx:0.21\n",
      "X:-1.44, Y:-0.99, gx:0.17\n",
      "X:-1.46, Y:-0.99, gx:0.13\n",
      "X:-1.49, Y:-0.99, gx:0.11\n",
      "X:-1.50, Y:-1.00, gx:0.09\n",
      "X:-1.52, Y:-1.00, gx:0.07\n",
      "X:-1.53, Y:-1.00, gx:0.05\n",
      "X:-1.54, Y:-1.00, gx:0.04\n",
      "X:-1.54, Y:-1.00, gx:0.04\n"
     ]
    },
    {
     "data": {
      "text/plain": [
       "-1.5426802075384614"
      ]
     },
     "execution_count": 29,
     "metadata": {},
     "output_type": "execute_result"
    }
   ],
   "source": [
    "min_gred(0.1,0.2,20,f,g)"
   ]
  }
 ],
 "metadata": {
  "kernelspec": {
   "display_name": "Python 3",
   "language": "python",
   "name": "python3"
  },
  "language_info": {
   "codemirror_mode": {
    "name": "ipython",
    "version": 3
   },
   "file_extension": ".py",
   "mimetype": "text/x-python",
   "name": "python",
   "nbconvert_exporter": "python",
   "pygments_lexer": "ipython3",
   "version": "3.9.12"
  }
 },
 "nbformat": 4,
 "nbformat_minor": 2
}
