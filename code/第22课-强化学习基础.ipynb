{
 "cells": [
  {
   "cell_type": "markdown",
   "metadata": {},
   "source": [
    "### 3. 在一维空间中寻宝"
   ]
  },
  {
   "cell_type": "code",
   "execution_count": 1,
   "metadata": {},
   "outputs": [],
   "source": [
    "import numpy as np\n",
    "import pandas as pd\n",
    "import time\n",
    "\n",
    "np.random.seed(2)  # reproducible\n"
   ]
  },
  {
   "cell_type": "code",
   "execution_count": 2,
   "metadata": {},
   "outputs": [],
   "source": [
    "N_STATES = 6   # 一维世界的长度\n",
    "ACTIONS = [0,1] # 有哪些动作可以选择，0表示向左走，1表示向右走\n",
    "N_ACTIOINS = 2   # 可选动作的个数\n",
    "EPSILON = 0.9   # 探索参数\n",
    "ALPHA = 0.1     # 学习率\n",
    "GAMMA = 0.9    # 折现系数\n",
    "MAX_EPISODES = 13   # 迭代次数\n",
    "FRESH_TIME = 0.3    # 刷新时长\n"
   ]
  },
  {
   "cell_type": "code",
   "execution_count": 3,
   "metadata": {},
   "outputs": [],
   "source": [
    "def get_env_feedback(S, A):\n",
    "    # This is how agent will interact with the environment\n",
    "    if A == 1:    # move right\n",
    "        if S == N_STATES - 2:   # terminate\n",
    "            S_ = 'terminal'\n",
    "            R = 1\n",
    "        else:\n",
    "            S_ = S + 1\n",
    "            R = 0\n",
    "    else:   # move left\n",
    "        R = 0\n",
    "        if S == 0:\n",
    "            S_ = S  # reach the wall\n",
    "        else:\n",
    "            S_ = S - 1\n",
    "    return S_, R\n"
   ]
  },
  {
   "cell_type": "code",
   "execution_count": 4,
   "metadata": {},
   "outputs": [
    {
     "data": {
      "text/plain": [
       "(1, 0)"
      ]
     },
     "execution_count": 4,
     "metadata": {},
     "output_type": "execute_result"
    }
   ],
   "source": [
    "get_env_feedback(0,1)"
   ]
  },
  {
   "cell_type": "code",
   "execution_count": 5,
   "metadata": {},
   "outputs": [],
   "source": [
    "# 建立Q表，全为0填充\n",
    "def build_q_table(n_states, n_actions):\n",
    "    table = np.zeros((n_states, n_actions))\n",
    "    return table"
   ]
  },
  {
   "cell_type": "code",
   "execution_count": 6,
   "metadata": {},
   "outputs": [],
   "source": [
    "def choose_action(state, q_table):\n",
    "\n",
    "    state_actions = q_table[state, :]\n",
    "    if (np.random.uniform() > EPSILON) or ((state_actions == 0).all()):  \n",
    "        action_name = np.random.choice(ACTIONS)\n",
    "    else:   \n",
    "        action_name = ACTIONS[state_actions.argmax()]   \n",
    "    return action_name"
   ]
  },
  {
   "cell_type": "code",
   "execution_count": 17,
   "metadata": {},
   "outputs": [],
   "source": [
    "def update_env(S, episode, step_counter):\n",
    "\n",
    "    env_list = ['-']*(N_STATES-1) + ['T']  \n",
    "    if S == 'terminal':\n",
    "        interaction = '\\n Episode %s: total_steps = %s' % (episode+1, step_counter)\n",
    "        print('\\r{}'.format(interaction), end='')\n",
    "        time.sleep(2)\n",
    "        print('\\n', end='')\n",
    "    else:\n",
    "        env_list[S] = 'o'\n",
    "        interaction = ''.join(env_list)\n",
    "        print('\\r{}'.format(interaction), end='')\n",
    "        time.sleep(FRESH_TIME)\n"
   ]
  },
  {
   "cell_type": "code",
   "execution_count": 9,
   "metadata": {},
   "outputs": [],
   "source": [
    "def RL_Qlearning():\n",
    "    q_table = build_q_table(N_STATES, N_ACTIOINS)\n",
    "    for episode in range(MAX_EPISODES):\n",
    "        step_counter = 0\n",
    "        S = 0\n",
    "        is_terminated = False\n",
    "        update_env(S, episode, step_counter)\n",
    "        while not is_terminated:\n",
    "\n",
    "            A = choose_action(S, q_table)\n",
    "            S_, R = get_env_feedback(S, A) \n",
    "            q_predict = q_table[S, A]\n",
    "            if S_ != 'terminal':\n",
    "                q_target = R + GAMMA * q_table[S_,:].max()   \n",
    "            else:\n",
    "                q_target = R     \n",
    "                is_terminated = True    \n",
    "\n",
    "            q_table[S, A] += ALPHA * (q_target - q_predict)  \n",
    "            S = S_  \n",
    "\n",
    "            update_env(S, episode, step_counter+1)\n",
    "            step_counter += 1\n",
    "    return q_table\n"
   ]
  },
  {
   "cell_type": "code",
   "execution_count": 19,
   "metadata": {},
   "outputs": [
    {
     "name": "stdout",
     "output_type": "stream",
     "text": [
      "----oT\n",
      " Episode 1: total_steps = 10\n",
      "----oT\n",
      " Episode 2: total_steps = 26\n",
      "----oT\n",
      " Episode 3: total_steps = 5\n",
      "----oT\n",
      " Episode 4: total_steps = 10\n",
      "----oT\n",
      " Episode 5: total_steps = 7\n",
      "----oT\n",
      " Episode 6: total_steps = 5\n",
      "----oT\n",
      " Episode 7: total_steps = 5\n",
      "----oT\n",
      " Episode 8: total_steps = 7\n",
      "----oT\n",
      " Episode 9: total_steps = 7\n",
      "----oT\n",
      " Episode 10: total_steps = 5\n",
      "----oT\n",
      " Episode 11: total_steps = 5\n",
      "----oT\n",
      " Episode 12: total_steps = 5\n",
      "----oT\n",
      " Episode 13: total_steps = 5\n"
     ]
    }
   ],
   "source": [
    "q_table = RL_Qlearning()"
   ]
  },
  {
   "cell_type": "code",
   "execution_count": 20,
   "metadata": {},
   "outputs": [
    {
     "name": "stdout",
     "output_type": "stream",
     "text": [
      "\n",
      "Q-table:\n",
      "\n",
      "[[0.         0.00526542]\n",
      " [0.         0.02993606]\n",
      " [0.         0.12328953]\n",
      " [0.00357097 0.36112444]\n",
      " [0.01823788 0.74581342]\n",
      " [0.         0.        ]]\n"
     ]
    }
   ],
   "source": [
    "print('\\r\\nQ-table:\\n')\n",
    "print(q_table)"
   ]
  }
 ],
 "metadata": {
  "kernelspec": {
   "display_name": "Python 3",
   "language": "python",
   "name": "python3"
  },
  "language_info": {
   "codemirror_mode": {
    "name": "ipython",
    "version": 3
   },
   "file_extension": ".py",
   "mimetype": "text/x-python",
   "name": "python",
   "nbconvert_exporter": "python",
   "pygments_lexer": "ipython3",
   "version": "3.9.12"
  }
 },
 "nbformat": 4,
 "nbformat_minor": 2
}
