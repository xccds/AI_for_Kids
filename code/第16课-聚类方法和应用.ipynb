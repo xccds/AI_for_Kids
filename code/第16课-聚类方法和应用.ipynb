{
 "cells": [
  {
   "cell_type": "markdown",
   "metadata": {},
   "source": [
    "### 本课提纲\n",
    "- 什么是聚类\n",
    "- 什么是kmeans聚类\n",
    "- 如何实现kmeans\n",
    "- 练习"
   ]
  },
  {
   "cell_type": "markdown",
   "metadata": {},
   "source": [
    "### 1. 什么是聚类"
   ]
  },
  {
   "cell_type": "markdown",
   "metadata": {},
   "source": [
    "在机器学习基础那节课中，我们提到了无监督学习，它是指人类专家的标注并不存在时，计算机自己从输入X中找到某些规律，典型的无监督学习方法就是聚类。用一句话来描述聚类就是中国古语里所说的“物以类聚，人以群分”。一群人中各有各的特点，一些有相近特点的人会自发的形成属于自己的小群体，例如爱看电影的会聚在一堆，爱看小说的会聚在另外一堆。从机器学习的角度看，聚类是无需标注的，它的目标就是将若干距离非常接近的样本聚集在一起，形成群组。如何定义数据间的距离，如何构成群组，这是聚类算法需要解决的问题。\n",
    "\n",
    "我们还是利用前面熟悉的iris数据集，假设这个数据集只知道输入X，并不知道目标Y，我们来对X做一些聚类的计算。"
   ]
  },
  {
   "cell_type": "code",
   "execution_count": 7,
   "metadata": {},
   "outputs": [
    {
     "data": {
      "text/html": [
       "<div>\n",
       "<style scoped>\n",
       "    .dataframe tbody tr th:only-of-type {\n",
       "        vertical-align: middle;\n",
       "    }\n",
       "\n",
       "    .dataframe tbody tr th {\n",
       "        vertical-align: top;\n",
       "    }\n",
       "\n",
       "    .dataframe thead th {\n",
       "        text-align: right;\n",
       "    }\n",
       "</style>\n",
       "<table border=\"1\" class=\"dataframe\">\n",
       "  <thead>\n",
       "    <tr style=\"text-align: right;\">\n",
       "      <th></th>\n",
       "      <th>sepal_length</th>\n",
       "      <th>sepal_width</th>\n",
       "      <th>petal_length</th>\n",
       "      <th>petal_width</th>\n",
       "      <th>species</th>\n",
       "    </tr>\n",
       "  </thead>\n",
       "  <tbody>\n",
       "    <tr>\n",
       "      <th>0</th>\n",
       "      <td>5.1</td>\n",
       "      <td>3.5</td>\n",
       "      <td>1.4</td>\n",
       "      <td>0.2</td>\n",
       "      <td>Setosa</td>\n",
       "    </tr>\n",
       "    <tr>\n",
       "      <th>1</th>\n",
       "      <td>4.9</td>\n",
       "      <td>3.0</td>\n",
       "      <td>1.4</td>\n",
       "      <td>0.2</td>\n",
       "      <td>Setosa</td>\n",
       "    </tr>\n",
       "    <tr>\n",
       "      <th>2</th>\n",
       "      <td>4.7</td>\n",
       "      <td>3.2</td>\n",
       "      <td>1.3</td>\n",
       "      <td>0.2</td>\n",
       "      <td>Setosa</td>\n",
       "    </tr>\n",
       "    <tr>\n",
       "      <th>3</th>\n",
       "      <td>4.6</td>\n",
       "      <td>3.1</td>\n",
       "      <td>1.5</td>\n",
       "      <td>0.2</td>\n",
       "      <td>Setosa</td>\n",
       "    </tr>\n",
       "    <tr>\n",
       "      <th>4</th>\n",
       "      <td>5.0</td>\n",
       "      <td>3.6</td>\n",
       "      <td>1.4</td>\n",
       "      <td>0.2</td>\n",
       "      <td>Setosa</td>\n",
       "    </tr>\n",
       "  </tbody>\n",
       "</table>\n",
       "</div>"
      ],
      "text/plain": [
       "   sepal_length  sepal_width  petal_length  petal_width species\n",
       "0           5.1          3.5           1.4          0.2  Setosa\n",
       "1           4.9          3.0           1.4          0.2  Setosa\n",
       "2           4.7          3.2           1.3          0.2  Setosa\n",
       "3           4.6          3.1           1.5          0.2  Setosa\n",
       "4           5.0          3.6           1.4          0.2  Setosa"
      ]
     },
     "execution_count": 7,
     "metadata": {},
     "output_type": "execute_result"
    }
   ],
   "source": [
    "# make dataset\n",
    "import pandas as pd\n",
    "df = pd.read_csv('../data/iris.csv')\n",
    "df.head()"
   ]
  },
  {
   "cell_type": "markdown",
   "metadata": {},
   "source": [
    "从文件中读入数据后，我们将其转换为numpy的数据格式，然后只取sepal_length和sepal_width这两列特征"
   ]
  },
  {
   "cell_type": "code",
   "execution_count": 27,
   "metadata": {},
   "outputs": [
    {
     "data": {
      "text/plain": [
       "(150, 2)"
      ]
     },
     "execution_count": 27,
     "metadata": {},
     "output_type": "execute_result"
    }
   ],
   "source": [
    "data = df.values\n",
    "X = data[:,:2]\n",
    "X.shape"
   ]
  },
  {
   "cell_type": "code",
   "execution_count": 28,
   "metadata": {},
   "outputs": [
    {
     "data": {
      "image/png": "[encoded data removed]",
      "text/plain": [
       "<Figure size 432x288 with 1 Axes>"
      ]
     },
     "metadata": {},
     "output_type": "display_data"
    }
   ],
   "source": [
    "# 画个图看看\n",
    "import matplotlib.pyplot as plt\n",
    "%matplotlib inline\n",
    "plt.scatter(X[:,0], X[:,1], marker='o', s=50)\n",
    "plt.grid()\n",
    "plt.tight_layout()"
   ]
  },
  {
   "cell_type": "markdown",
   "metadata": {},
   "source": [
    "从上图可以通过肉眼观察到，这些数据有的确实聚集在一起，大致上可以分出两堆到三堆的样子。"
   ]
  },
  {
   "cell_type": "markdown",
   "metadata": {},
   "source": [
    "### 2. 什么是Kmeas聚类"
   ]
  },
  {
   "cell_type": "markdown",
   "metadata": {},
   "source": [
    "kmeans聚类算法是一种非常经典的方法，用于将数据进行自动的划分，从直观上可以这么理解，假如要对一群人进行聚类，先随便找几个人作为各群的代表，再将他们周围的人归入这几群，再从群中选择新的代表，以此不断的循环往复。\n",
    "\n",
    "\n",
    "它的具体步骤一般是五个步骤：\n",
    "\n",
    "1. 首先需要人为的先给出聚类的数目，这个数字一般称为k，如果说一群人大体可以分为三堆的话，就把k定为3。\n",
    "2. 随机的从数据中选出k个，就认定它们是类中心点，类中心点可以理解为一类人中最典型的代表。\n",
    "3. 计算其它所有数据和这k个类中心点的距离，可以算出每个样本和哪个代表离的最近，就把样本归入那一类中。\n",
    "4. 根据上一步的类，重新计算类中心。\n",
    "5. 重复第3第4步，直到聚类结果无变化或达到最大的迭代次数为止。"
   ]
  },
  {
   "cell_type": "markdown",
   "metadata": {},
   "source": [
    "这里有一个细节上的问题，就是如何计算两个样本之间的距离？"
   ]
  },
  {
   "cell_type": "markdown",
   "metadata": {},
   "source": [
    "\n",
    "最常见的一种距离度量是欧氏距离：\n",
    "$$ d(x,y)^2 = \\sum_{j=1}^{m} (x_j -y_j)^2 = \\lVert x - y \\rVert_2^2 $$\n",
    "也就是两个点的变量之间做减法，再平方后相加，从物理上理解，就是在坐标系上，两个点的直线距离"
   ]
  },
  {
   "cell_type": "markdown",
   "metadata": {},
   "source": [
    "下面我们来尝试使用sklearn模块的聚类函数对iris数据集做一个聚类。"
   ]
  },
  {
   "cell_type": "code",
   "execution_count": 33,
   "metadata": {},
   "outputs": [],
   "source": [
    "from sklearn.cluster import KMeans\n",
    "km = KMeans(n_clusters=3)\n",
    "y_km = km.fit_predict(X)"
   ]
  },
  {
   "cell_type": "markdown",
   "metadata": {},
   "source": [
    "这里使用的是sklearn中的cluster子模块，也就是聚类模块，这里我们使用了KMeans方法。其中重要的参数就是n_clusters，也就是指要聚类的数目，这里我们用的是3。当然聚类模块中除了KMeans以外还有很多其它聚类方法，使用都是类似的。"
   ]
  },
  {
   "cell_type": "code",
   "execution_count": 34,
   "metadata": {},
   "outputs": [
    {
     "data": {
      "image/png": "[encoded data removed]",
      "text/plain": [
       "<Figure size 432x288 with 1 Axes>"
      ]
     },
     "metadata": {},
     "output_type": "display_data"
    }
   ],
   "source": [
    "plt.scatter(X[y_km==0,0], \n",
    "            X[y_km==0,1], \n",
    "            s=50, \n",
    "            c='lightgreen', \n",
    "            marker='s', \n",
    "            label='cluster 1')\n",
    "plt.scatter(X[y_km==1,0], \n",
    "            X[y_km==1,1], \n",
    "            s=50, \n",
    "            c='orange', \n",
    "            marker='o', \n",
    "            label='cluster 2')\n",
    "plt.scatter(X[y_km==2,0], \n",
    "            X[y_km==2,1], \n",
    "            s=50, \n",
    "            c='lightblue', \n",
    "            marker='v', \n",
    "            label='cluster 3')\n",
    "plt.scatter(km.cluster_centers_[:,0], \n",
    "            km.cluster_centers_[:,1], \n",
    "            s=250, \n",
    "            marker='*', \n",
    "            c='red', \n",
    "            label='centroids')\n",
    "plt.legend()\n",
    "plt.show();"
   ]
  },
  {
   "cell_type": "markdown",
   "metadata": {},
   "source": [
    "### 3. 如何实现一个Kmeans算法"
   ]
  },
  {
   "cell_type": "markdown",
   "metadata": {},
   "source": [
    "上面我们直接调用了sklearn模块中的kmeans函数来计算，要真正的理解其内部原理，我们最好是不依赖它，自己来写一个能做聚类的函数代码。"
   ]
  },
  {
   "cell_type": "markdown",
   "metadata": {},
   "source": [
    "首先我们来写一个初始化的函数，get_initial_centroids，这个函数输入的是原始数据，和设置的参数K，输出的是几个随机初始的类中心点。"
   ]
  },
  {
   "cell_type": "code",
   "execution_count": 40,
   "metadata": {},
   "outputs": [],
   "source": [
    "import numpy as np\n",
    "from sklearn.metrics import pairwise_distances\n",
    "\n",
    "\n",
    "def get_initial_centroids(data, k):\n",
    "    n = data.shape[0] # 数据样本有多少条，保存在n中      \n",
    "    # 从n个样本中随机选择k个\n",
    "    rand_indices = np.random.randint(0, n, k)\n",
    "    centroids = data[rand_indices,:]   \n",
    "    return centroids"
   ]
  },
  {
   "cell_type": "code",
   "execution_count": 44,
   "metadata": {},
   "outputs": [
    {
     "name": "stdout",
     "output_type": "stream",
     "text": [
      "[[5.1 3.4]\n",
      " [6.3 2.3]\n",
      " [5.6 3.0]]\n"
     ]
    }
   ],
   "source": [
    "cent = get_initial_centroids(X,3)\n",
    "print(cent)"
   ]
  },
  {
   "cell_type": "markdown",
   "metadata": {},
   "source": [
    "第二个要编写的函数是assign_clusters，它的输入是数据和类中心点，负责输出每个样本应该归入哪个类里面去。"
   ]
  },
  {
   "cell_type": "code",
   "execution_count": 39,
   "metadata": {},
   "outputs": [],
   "source": [
    "def assign_clusters(data, centroids):\n",
    "    # 基于pairwise_distances来计算点和类中心的距离\n",
    "    distances_from_centroids = pairwise_distances(data, centroids)  \n",
    "    # 计算距离的最小值\n",
    "    cluster_assignment = np.argmin(distances_from_centroids, axis=1)  \n",
    "    return cluster_assignment\n"
   ]
  },
  {
   "cell_type": "code",
   "execution_count": 45,
   "metadata": {},
   "outputs": [
    {
     "name": "stdout",
     "output_type": "stream",
     "text": [
      "[0 0 0 0 0 0 0 0 0 0 0 0 0 0 0 0 0 0 0 0 0 0 0 0 0 0 0 0 0 0 0 0 0 0 0 0 0\n",
      " 0 0 0 0 0 0 0 0 0 0 0 0 0 1 2 1 2 1 2 2 2 1 2 2 2 1 2 2 1 2 2 1 2 2 1 1 1\n",
      " 1 1 1 1 2 2 2 2 2 1 2 2 1 1 2 2 2 2 2 2 2 2 2 1 2 2 2 2 1 1 1 1 2 1 1 1 2\n",
      " 1 1 2 2 2 1 1 1 1 1 2 1 1 1 1 1 2 1 1 1 1 1 1 1 1 2 1 2 1 1 1 2 1 1 1 1 1\n",
      " 2 2]\n"
     ]
    }
   ],
   "source": [
    "cluster_assignment = assign_clusters(X,cent)\n",
    "print(cluster_assignment)"
   ]
  },
  {
   "cell_type": "markdown",
   "metadata": {},
   "source": [
    "第三个要编写的函数是revise_centroids，也就是输入数据和当前的归类情况，重新计算类中心。"
   ]
  },
  {
   "cell_type": "code",
   "execution_count": null,
   "metadata": {},
   "outputs": [],
   "source": [
    "def revise_centroids(data, k, cluster_assignment):\n",
    "    new_centroids = []\n",
    "    for i in range(k):\n",
    "        # 遍历所有的类\n",
    "        member_data_points = data[cluster_assignment == i]\n",
    "        # 计算类中各样本特征的平均值\n",
    "        centroid = member_data_points.mean(axis=0)\n",
    "        new_centroids.append(centroid)\n",
    "    new_centroids = np.array(new_centroids)\n",
    "    return new_centroids\n"
   ]
  },
  {
   "cell_type": "code",
   "execution_count": 47,
   "metadata": {},
   "outputs": [
    {
     "data": {
      "text/plain": [
       "array([[5.005999999999999, 3.428000000000001],\n",
       "       [6.707407407407404, 2.9166666666666656],\n",
       "       [5.739130434782608, 2.819565217391305]], dtype=object)"
      ]
     },
     "execution_count": 47,
     "metadata": {},
     "output_type": "execute_result"
    }
   ],
   "source": [
    "revise_centroids(X,3,cluster_assignment)"
   ]
  },
  {
   "cell_type": "markdown",
   "metadata": {},
   "source": [
    "可以观察到，新的类中心已经和之前初始的类中心有所转移。这就是单步计算所需要的所有逻辑，下面我们用一个函数来循环计算这些逻辑，以得到最终结果。"
   ]
  },
  {
   "cell_type": "code",
   "execution_count": 48,
   "metadata": {},
   "outputs": [],
   "source": [
    "def my_kmeans(data, k, maxiter=100):\n",
    "    # 随机初始化\n",
    "    centroids = get_initial_centroids(data, k)\n",
    "    prev_cluster_assignment = None\n",
    "    \n",
    "    for itr in range(maxiter):    #循环迭代            \n",
    "        # 1. 计算每个样本应该归入哪个类里面去\n",
    "        cluster_assignment = assign_clusters(data, centroids)\n",
    "            \n",
    "        # 2. 重新计算类中心\n",
    "        centroids = revise_centroids(data, k, cluster_assignment)\n",
    "            \n",
    "        # 检查是否应该停止，如果前后两次聚类结果完全一样就跳出循环\n",
    "        if prev_cluster_assignment is not None and \\\n",
    "          (prev_cluster_assignment==cluster_assignment).all():\n",
    "            break\n",
    "\n",
    "        prev_cluster_assignment = cluster_assignment[:]\n",
    "        \n",
    "    return centroids, cluster_assignment"
   ]
  },
  {
   "cell_type": "code",
   "execution_count": 49,
   "metadata": {},
   "outputs": [],
   "source": [
    "centers, y_km = my_kmeans(X, 3)"
   ]
  },
  {
   "cell_type": "markdown",
   "metadata": {},
   "source": [
    "centers保存了类中心，而y_km保存了各样本应该属于哪个类别，也就是聚类结果。下面我们还是画在图中。"
   ]
  },
  {
   "cell_type": "code",
   "execution_count": 50,
   "metadata": {},
   "outputs": [
    {
     "data": {
      "image/png": "[encoded data removed]",
      "text/plain": [
       "<Figure size 432x288 with 1 Axes>"
      ]
     },
     "metadata": {},
     "output_type": "display_data"
    }
   ],
   "source": [
    "plt.scatter(X[y_km==0,0], \n",
    "            X[y_km==0,1], \n",
    "            s=50, \n",
    "            c='lightgreen', \n",
    "            marker='s', \n",
    "            label='cluster 1')\n",
    "plt.scatter(X[y_km==1,0], \n",
    "            X[y_km==1,1], \n",
    "            s=50, \n",
    "            c='orange', \n",
    "            marker='o', \n",
    "            label='cluster 2')\n",
    "plt.scatter(X[y_km==2,0], \n",
    "            X[y_km==2,1], \n",
    "            s=50, \n",
    "            c='lightblue', \n",
    "            marker='v', \n",
    "            label='cluster 3')\n",
    "plt.scatter(centers[:,0], \n",
    "            centers[:,1], \n",
    "            s=250, \n",
    "            marker='*', \n",
    "            c='red', \n",
    "            label='centroids')\n",
    "plt.legend()\n",
    "plt.grid()\n",
    "plt.tight_layout()\n",
    "#plt.savefig('./figures/centroids.png', dpi=300)"
   ]
  },
  {
   "cell_type": "markdown",
   "metadata": {},
   "source": [
    "### 练习\n",
    "kmeans并不是万能的聚类方法，我们来看一种情况，在这种情况下kmeans并不能很好的聚类。"
   ]
  },
  {
   "cell_type": "code",
   "execution_count": 54,
   "metadata": {},
   "outputs": [
    {
     "data": {
      "image/png": "[encoded data removed]",
      "text/plain": [
       "<Figure size 432x288 with 1 Axes>"
      ]
     },
     "metadata": {},
     "output_type": "display_data"
    }
   ],
   "source": [
    "# 生成半月形数据\n",
    "# two visible, half-moon-shaped groups consisting of 100 sample points each\n",
    "from sklearn.datasets import make_moons\n",
    "\n",
    "X, y = make_moons(n_samples=200, noise=0.05, random_state=0)\n",
    "plt.scatter(X[:,0], X[:,1])\n",
    "plt.tight_layout()\n"
   ]
  },
  {
   "cell_type": "markdown",
   "metadata": {},
   "source": [
    "可以对比使用两种聚类方法，一种是之前学习到的kmeans方法，另一种是DBSCAN，它是一种基于密度的聚类，有兴趣的同学可以查看帮助学习。"
   ]
  },
  {
   "cell_type": "code",
   "execution_count": 55,
   "metadata": {},
   "outputs": [],
   "source": [
    "from sklearn.cluster import DBSCAN"
   ]
  },
  {
   "cell_type": "code",
   "execution_count": 56,
   "metadata": {},
   "outputs": [
    {
     "data": {
      "image/png": "[encoded data removed]",
      "text/plain": [
       "<Figure size 576x216 with 2 Axes>"
      ]
     },
     "metadata": {},
     "output_type": "display_data"
    }
   ],
   "source": [
    "# complete linkage clustering\n",
    "f, (ax1, ax2) = plt.subplots(1, 2, figsize=(8,3))\n",
    "\n",
    "km = KMeans(n_clusters=2, random_state=0)\n",
    "y_km = km.fit_predict(X)\n",
    "ax1.scatter(X[y_km==0,0], X[y_km==0,1], c='lightblue', marker='o', s=40, label='cluster 1')\n",
    "ax1.scatter(X[y_km==1,0], X[y_km==1,1], c='red', marker='s', s=40, label='cluster 2')\n",
    "ax1.set_title('K-means clustering')\n",
    "\n",
    "db = DBSCAN(eps=0.2, min_samples=5, metric='euclidean')\n",
    "y_db = db.fit_predict(X)\n",
    "ax2.scatter(X[y_db==0,0], X[y_db==0,1], c='lightblue', marker='o', s=40, label='cluster 1')\n",
    "ax2.scatter(X[y_db==1,0], X[y_db==1,1], c='red', marker='s', s=40, label='cluster 2')\n",
    "ax2.set_title('Agglomerative clustering')\n",
    "\n",
    "plt.legend()\n",
    "plt.tight_layout()\n",
    "#plt.savefig('./figures/kmeans_and_ac.png', dpi=300)"
   ]
  },
  {
   "cell_type": "markdown",
   "metadata": {},
   "source": [
    "### 本课小结\n",
    "- 聚类是无监督学习中最常用的一种，它的目的是要把相近的数据聚在一团\n",
    "- 聚类和前面课程中学习的分类不一样，聚类没有标签，分类是有标签的"
   ]
  }
 ],
 "metadata": {
  "kernelspec": {
   "display_name": "Python 3",
   "language": "python",
   "name": "python3"
  },
  "language_info": {
   "codemirror_mode": {
    "name": "ipython",
    "version": 3
   },
   "file_extension": ".py",
   "mimetype": "text/x-python",
   "name": "python",
   "nbconvert_exporter": "python",
   "pygments_lexer": "ipython3",
   "version": "3.6.5"
  }
 },
 "nbformat": 4,
 "nbformat_minor": 2
}
