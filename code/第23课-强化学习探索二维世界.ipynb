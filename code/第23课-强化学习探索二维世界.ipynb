{
 "cells": [
  {
   "cell_type": "markdown",
   "metadata": {},
   "source": [
    "### 环境模块gym"
   ]
  },
  {
   "cell_type": "code",
   "execution_count": 22,
   "metadata": {},
   "outputs": [],
   "source": [
    "import gym\n",
    "import collections\n",
    "import numpy as np"
   ]
  },
  {
   "cell_type": "code",
   "execution_count": 17,
   "metadata": {},
   "outputs": [],
   "source": [
    "env = gym.make('FrozenLake-v1',is_slippery=False,render_mode=\"ansi\")"
   ]
  },
  {
   "cell_type": "code",
   "execution_count": 18,
   "metadata": {},
   "outputs": [
    {
     "data": {
      "text/plain": [
       "(0, {'prob': 1})"
      ]
     },
     "execution_count": 18,
     "metadata": {},
     "output_type": "execute_result"
    }
   ],
   "source": [
    "env.reset()"
   ]
  },
  {
   "cell_type": "code",
   "execution_count": 19,
   "metadata": {},
   "outputs": [
    {
     "name": "stdout",
     "output_type": "stream",
     "text": [
      "\n",
      "\u001b[41mS\u001b[0mFFF\n",
      "FHFH\n",
      "FFFH\n",
      "HFFG\n",
      "\n"
     ]
    }
   ],
   "source": [
    "print(env.render())"
   ]
  },
  {
   "cell_type": "code",
   "execution_count": 20,
   "metadata": {},
   "outputs": [
    {
     "data": {
      "text/plain": [
       "(1, 0.0, False, False, {'prob': 1.0})"
      ]
     },
     "execution_count": 20,
     "metadata": {},
     "output_type": "execute_result"
    }
   ],
   "source": [
    "env.step(2)"
   ]
  },
  {
   "cell_type": "code",
   "execution_count": 21,
   "metadata": {},
   "outputs": [
    {
     "name": "stdout",
     "output_type": "stream",
     "text": [
      "  (Right)\n",
      "S\u001b[41mF\u001b[0mFF\n",
      "FHFH\n",
      "FFFH\n",
      "HFFG\n",
      "\n"
     ]
    }
   ],
   "source": [
    "print(env.render())"
   ]
  },
  {
   "cell_type": "code",
   "execution_count": null,
   "metadata": {},
   "outputs": [],
   "source": []
  },
  {
   "cell_type": "markdown",
   "metadata": {},
   "source": [
    "### 基于Q学习的二维世界"
   ]
  },
  {
   "cell_type": "code",
   "execution_count": 16,
   "metadata": {},
   "outputs": [],
   "source": [
    "GAMMA = 0.5\n",
    "ALPHA = 0.1\n",
    "TEST_EPISODES = 30\n",
    "EPSILON = 0.7"
   ]
  },
  {
   "cell_type": "code",
   "execution_count": 33,
   "metadata": {},
   "outputs": [],
   "source": [
    "class Agent:\n",
    "    def __init__(self):\n",
    "        self.env = gym.make('FrozenLake-v1',is_slippery=False,render_mode=\"ansi\")\n",
    "        self.state = self.env.reset()[0]\n",
    "        self.values = collections.defaultdict(float)\n",
    "\n",
    "    def feedback_env(self):\n",
    "        old_state = self.state\n",
    "        if np.random.uniform() > EPSILON:\n",
    "            action = self.env.action_space.sample()\n",
    "        else:\n",
    "            _, action = self.best_value_and_action(old_state)\n",
    "        new_state, reward, is_done, _ , _ = self.env.step(action)\n",
    "        self.state = self.env.reset()[0] if is_done else new_state\n",
    "        return (old_state, action, reward, new_state)\n",
    "\n",
    "\n",
    "   \n",
    "    def best_value_and_action(self, state):\n",
    "        best_value, best_action = None, None\n",
    "        # 遍历所有的动作\n",
    "        for action in range(self.env.action_space.n):\n",
    "            action_value = self.values[(state, action)]\n",
    "            if best_value is None or best_value < action_value:\n",
    "                best_value = action_value\n",
    "                best_action = action\n",
    "        if  best_value == 0:  \n",
    "            best_action = self.env.action_space.sample()\n",
    "            best_value = self.values[(state, best_action)]\n",
    "        return best_value, best_action\n",
    "    \n",
    "\n",
    "    def value_update(self, s, a, r, next_s):\n",
    "        best_v, _ = self.best_value_and_action(next_s)\n",
    "        new_val = r + GAMMA * best_v\n",
    "        old_val = self.values[(s, a)]\n",
    "        self.values[(s, a)] = old_val * (1-ALPHA) + new_val * ALPHA\n",
    "\n",
    "    def play_episode(self, env):  \n",
    "        total_reward = 0.0\n",
    "        state = env.reset()[0]\n",
    "        while True:\n",
    "            _, action = self.best_value_and_action(state)\n",
    "            new_state, reward, is_done, _ ,_= env.step(action)\n",
    "            total_reward += reward\n",
    "            if is_done:\n",
    "                break\n",
    "            state = new_state\n",
    "        return total_reward"
   ]
  },
  {
   "cell_type": "code",
   "execution_count": 34,
   "metadata": {},
   "outputs": [
    {
     "name": "stdout",
     "output_type": "stream",
     "text": [
      "Best reward updated 0.000 -> 0.033\n",
      "Best reward updated 0.033 -> 0.067\n",
      "Best reward updated 0.067 -> 0.100\n",
      "Best reward updated 0.100 -> 0.133\n",
      "Best reward updated 0.133 -> 0.200\n",
      "Best reward updated 0.200 -> 0.233\n",
      "Best reward updated 0.233 -> 0.300\n",
      "Best reward updated 0.300 -> 0.467\n",
      "Best reward updated 0.467 -> 0.500\n",
      "Best reward updated 0.500 -> 0.533\n",
      "Best reward updated 0.533 -> 0.700\n",
      "Best reward updated 0.700 -> 0.800\n",
      "Best reward updated 0.800 -> 0.900\n",
      "Solved in 948 iterations!\n"
     ]
    }
   ],
   "source": [
    "test_env = gym.make('FrozenLake-v1',is_slippery=False,render_mode=\"ansi\")\n",
    "agent = Agent()\n",
    "\n",
    "iter_no = 0\n",
    "best_reward = 0.0\n",
    "while True:\n",
    "    iter_no += 1\n",
    "    s, a, r, next_s = agent.feedback_env()\n",
    "    agent.value_update(s, a, r, next_s)\n",
    "    reward = 0.0\n",
    "    for i in range(TEST_EPISODES):\n",
    "        reward += agent.play_episode(test_env)\n",
    "    reward /= TEST_EPISODES\n",
    "    if reward > best_reward:\n",
    "        print(\"Best reward updated %.3f -> %.3f\" % (best_reward, reward))\n",
    "        best_reward = reward\n",
    "    if reward > 0.80:\n",
    "        print(\"Solved in %d iterations!\" % iter_no)\n",
    "        break\n"
   ]
  },
  {
   "cell_type": "code",
   "execution_count": 35,
   "metadata": {},
   "outputs": [
    {
     "data": {
      "text/plain": [
       "defaultdict(float,\n",
       "            {(0, 0): 0.0,\n",
       "             (0, 1): 0.0,\n",
       "             (0, 2): 0.0,\n",
       "             (0, 3): 0.0,\n",
       "             (4, 0): 0.0,\n",
       "             (4, 1): 0.0,\n",
       "             (4, 2): 0.0,\n",
       "             (4, 3): 0.0,\n",
       "             (8, 0): 0.0,\n",
       "             (8, 1): 0.0,\n",
       "             (8, 2): 1.2500000000000004e-05,\n",
       "             (8, 3): 0.0,\n",
       "             (9, 0): 0.0,\n",
       "             (9, 1): 0.0,\n",
       "             (9, 2): 0.0015325000000000004,\n",
       "             (9, 3): 0.0,\n",
       "             (13, 0): 0.0,\n",
       "             (13, 1): 0.0,\n",
       "             (13, 2): 0.0,\n",
       "             (13, 3): 0.0,\n",
       "             (14, 0): 0.0,\n",
       "             (14, 1): 0.0,\n",
       "             (14, 2): 0.40951000000000004,\n",
       "             (14, 3): 0.0,\n",
       "             (10, 0): 0.0,\n",
       "             (10, 1): 0.04073,\n",
       "             (10, 2): 0.0,\n",
       "             (10, 3): 0.0,\n",
       "             (6, 0): 0.0,\n",
       "             (6, 1): 0.0013300000000000002,\n",
       "             (6, 2): 0.0,\n",
       "             (6, 3): 0.0,\n",
       "             (2, 0): 0.0,\n",
       "             (2, 1): 9.800000000000002e-05,\n",
       "             (2, 2): 0.0,\n",
       "             (2, 3): 0.0,\n",
       "             (3, 0): 0.0,\n",
       "             (3, 1): 0.0,\n",
       "             (3, 2): 0.0,\n",
       "             (3, 3): 0.0,\n",
       "             (1, 0): 0.0,\n",
       "             (1, 1): 0.0,\n",
       "             (1, 2): 1.7500000000000002e-06,\n",
       "             (1, 3): 0.0,\n",
       "             (12, 0): 0.0,\n",
       "             (12, 1): 0.0,\n",
       "             (12, 2): 0.0,\n",
       "             (12, 3): 0.0,\n",
       "             (11, 0): 0.0,\n",
       "             (11, 1): 0.0,\n",
       "             (11, 2): 0.0,\n",
       "             (11, 3): 0.0,\n",
       "             (5, 0): 0.0,\n",
       "             (5, 1): 0.0,\n",
       "             (5, 2): 0.0,\n",
       "             (5, 3): 0.0,\n",
       "             (7, 0): 0.0,\n",
       "             (7, 1): 0.0,\n",
       "             (7, 2): 0.0,\n",
       "             (7, 3): 0.0,\n",
       "             (15, 0): 0.0,\n",
       "             (15, 1): 0.0,\n",
       "             (15, 2): 0.0,\n",
       "             (15, 3): 0.0})"
      ]
     },
     "execution_count": 35,
     "metadata": {},
     "output_type": "execute_result"
    }
   ],
   "source": [
    "agent.values"
   ]
  }
 ],
 "metadata": {
  "kernelspec": {
   "display_name": "Python 3",
   "language": "python",
   "name": "python3"
  },
  "language_info": {
   "codemirror_mode": {
    "name": "ipython",
    "version": 3
   },
   "file_extension": ".py",
   "mimetype": "text/x-python",
   "name": "python",
   "nbconvert_exporter": "python",
   "pygments_lexer": "ipython3",
   "version": "3.9.12"
  }
 },
 "nbformat": 4,
 "nbformat_minor": 2
}
