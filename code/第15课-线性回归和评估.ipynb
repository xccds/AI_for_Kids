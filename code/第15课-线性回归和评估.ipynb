{
 "cells": [
  {
   "cell_type": "markdown",
   "metadata": {},
   "source": [
    "### 本课提纲\n",
    "- 什么是线性回归\n",
    "- 线性回归的评价\n",
    "- 线性回归的权重如何计算\n",
    "- 练习"
   ]
  },
  {
   "cell_type": "markdown",
   "metadata": {},
   "source": [
    "### 1. 什么是线性回归\n"
   ]
  },
  {
   "cell_type": "markdown",
   "metadata": {},
   "source": [
    "线性回归和逻辑回归很相似，它们的共同点都是采用一个加权求和来汇总输入的数据，区别有两个点：\n",
    "- 逻辑回归有一个sigmoid函数作为激活函数，最终输出一个0到1的概率值，而线性回归是没有这个激活函数的，它直接输出这个加权求和的值。\n",
    "- 逻辑回归的损失函数是交叉熵，而线性回归的损失函数则是平方和损失函数。"
   ]
  },
  {
   "cell_type": "markdown",
   "metadata": {},
   "source": [
    "我们先来直观上理解一下线性回归的作用。我们先人工定义了10个数据点，每个数据点对应的有两个维度变量，一个变量x，另一个变量y，画在图上观察到什么呢。"
   ]
  },
  {
   "cell_type": "code",
   "execution_count": 1,
   "metadata": {},
   "outputs": [],
   "source": [
    "%matplotlib inline \n",
    "import matplotlib.pyplot as plt\n",
    "import numpy as np"
   ]
  },
  {
   "cell_type": "code",
   "execution_count": 2,
   "metadata": {},
   "outputs": [],
   "source": [
    "X = np.array([0.1, 0.2, 0.3, \n",
    "              0.4, 0.5, 0.6, \n",
    "              0.7, 0.8, 0.9, 1]).reshape(-1,1)\n",
    "\n",
    "y = np.array([0.05,0.08,0.1,\n",
    "             0.09,0.13,0.14,\n",
    "             0.17,0.21,0.28,0.27]).reshape(-1,1)"
   ]
  },
  {
   "cell_type": "code",
   "execution_count": 3,
   "metadata": {},
   "outputs": [
    {
     "data": {
      "text/plain": [
       "<matplotlib.collections.PathCollection at 0x1146af4a8>"
      ]
     },
     "execution_count": 3,
     "metadata": {},
     "output_type": "execute_result"
    },
    {
     "data": {
      "image/png": "[encoded data removed]",
      "text/plain": [
       "<Figure size 432x288 with 1 Axes>"
      ]
     },
     "metadata": {},
     "output_type": "display_data"
    }
   ],
   "source": [
    "plt.scatter(X,y)"
   ]
  },
  {
   "cell_type": "markdown",
   "metadata": {},
   "source": [
    "可以看到x和y之间似乎存在着某种关系，x增加，y也会增加，就好像人的身高和体重一样，可能可以用一条斜线来归纳这种关系。所以现在的问题就是说，给定了这10个样本，我们怎么算出那条线？"
   ]
  },
  {
   "cell_type": "code",
   "execution_count": 4,
   "metadata": {},
   "outputs": [],
   "source": [
    "from sklearn.linear_model import LinearRegression"
   ]
  },
  {
   "cell_type": "code",
   "execution_count": 5,
   "metadata": {},
   "outputs": [
    {
     "name": "stdout",
     "output_type": "stream",
     "text": [
      "slope: [0.25333333]\n",
      "Intercept: 0.013\n"
     ]
    }
   ],
   "source": [
    "slr = LinearRegression()\n",
    "slr.fit(X, y)\n",
    "predict_y = slr.predict(X)\n",
    "print('slope:',slr.coef_[0])\n",
    "print('Intercept: %.3f' % slr.intercept_)"
   ]
  },
  {
   "cell_type": "markdown",
   "metadata": {},
   "source": [
    "我们通过LinarRegression这个函数来得到线性回归的模型，这个模型也就是一个加权求和的公式，即：\n",
    "$$y = 0.253*x + 0.013$$"
   ]
  },
  {
   "cell_type": "code",
   "execution_count": 6,
   "metadata": {},
   "outputs": [
    {
     "data": {
      "image/png": "[encoded data removed]",
      "text/plain": [
       "<Figure size 432x288 with 1 Axes>"
      ]
     },
     "metadata": {},
     "output_type": "display_data"
    }
   ],
   "source": [
    "# fit linear features\n",
    "\n",
    "y_predict = slr.predict(X)\n",
    "\n",
    "# plot results\n",
    "plt.scatter(X, y, label='training points')\n",
    "plt.plot(X, y_predict, label='linear fit', linestyle='--')\n",
    "plt.show()"
   ]
  },
  {
   "cell_type": "markdown",
   "metadata": {},
   "source": [
    "然后可以用这个公式得到的预测值，和原本的数据一起画在图上，可以看到这些点和预测值的线非常的接近，可以认为这条线可以代表x和y之间的关系。"
   ]
  },
  {
   "cell_type": "markdown",
   "metadata": {},
   "source": [
    "### 2. 线性回归的评价方式"
   ]
  },
  {
   "cell_type": "markdown",
   "metadata": {},
   "source": [
    "从上图可以观察到，实际的Y值和预测值之间，距离越近，模型的性能越好，也就是点和线之间在Y轴上的距离要很近。那么这个距离是如何计算的呢？"
   ]
  },
  {
   "cell_type": "markdown",
   "metadata": {},
   "source": [
    "这个距离的计算公式是真实值和预测值之间做减法再平方后求均值，称之为MSE。\n",
    "$$ MSE = \\sum_{i=1}^{n} (y-f(x))^2.$$"
   ]
  },
  {
   "cell_type": "markdown",
   "metadata": {},
   "source": [
    "如果用具体的代码来表示就是下面计算"
   ]
  },
  {
   "cell_type": "code",
   "execution_count": 10,
   "metadata": {},
   "outputs": [
    {
     "name": "stdout",
     "output_type": "stream",
     "text": [
      "MSE= 0.00038133333333333346\n"
     ]
    }
   ],
   "source": [
    "mse = np.mean((y-y_predict)**2)\n",
    "print(\"MSE=\",mse)"
   ]
  },
  {
   "cell_type": "markdown",
   "metadata": {},
   "source": [
    "也可以通过sklearn中的函数来直接计算"
   ]
  },
  {
   "cell_type": "code",
   "execution_count": 13,
   "metadata": {},
   "outputs": [
    {
     "name": "stdout",
     "output_type": "stream",
     "text": [
      "MSE train: 0.000381\n"
     ]
    }
   ],
   "source": [
    "from sklearn.metrics import mean_squared_error\n",
    "print('MSE train: %.6f' %mean_squared_error(y, predict_y))\n"
   ]
  },
  {
   "cell_type": "markdown",
   "metadata": {},
   "source": [
    "### 3. 线性回归的权重如何计算"
   ]
  },
  {
   "cell_type": "markdown",
   "metadata": {},
   "source": [
    "和逻辑回归类似，那些权重W也是通过反复试错迭代的思路学习出来的。具体的步骤可以是如下的几个步骤：\n",
    "\n",
    "1.先给W一个随机的赋值，\n",
    "\n",
    "2.计算给定W下的模型预测值\n",
    "\n",
    "3.计算模型预测值和真实目标值之间的差距，我们叫做损失函数，在线性回归这里就是算的MSE\n",
    "\n",
    "4.根据损失函数来对W求导，根据梯度下降算法来修正W\n",
    "\n",
    "每次迭代权重向量以如下方式修正更新：\n",
    "$$ w:= w + eta * (y-f(x))*x$$\n"
   ]
  },
  {
   "cell_type": "code",
   "execution_count": 16,
   "metadata": {},
   "outputs": [],
   "source": [
    "class LinearRegressionGD(object):\n",
    "\n",
    "    def __init__(self, eta=0.1, n_iter=20):\n",
    "        self.eta = eta  # learning rate 学习速率\n",
    "        self.n_iter = n_iter  # 迭代次数\n",
    "\n",
    "    def fit(self, X, y):  # 训练函数\n",
    "        # self.w_ = np.zeros(1, 1 + X.shape[1]) \n",
    "        self.coef_ = np.zeros(shape=(1, X.shape[1]))  # 代表被训练的系数，初始化为 0\n",
    "        self.intercept_ = np.zeros(1)\n",
    "        self.cost_ = []   # 用于保存损失的空list\n",
    "\n",
    "        for i in range(self.n_iter):\n",
    "            output = self.net_input(X)  # 计算预测的Y\n",
    "            errors = y - output  \n",
    "            self.coef_ += self.eta * np.dot(errors.T, X)  # 根据更新规则更新系数，思考一下为什么不是减号？\n",
    "            self.intercept_ += self.eta * errors.sum()  # 更新 bias，相当于x取常数1\n",
    "            cost = (errors**2).sum() / 2.0     # 计算损失\n",
    "            self.cost_.append(cost)  # 记录损失函数的值\n",
    "        return self\n",
    "\n",
    "    def net_input(self, X):   # 给定系数和X计算预测的Y\n",
    "        output = np.dot(X, self.coef_.T) + self.intercept_\n",
    "        return output\n",
    "\n",
    "    def predict(self, X):\n",
    "        return self.net_input(X)"
   ]
  },
  {
   "cell_type": "code",
   "execution_count": 17,
   "metadata": {},
   "outputs": [],
   "source": [
    "slr = LinearRegressionGD(eta=0.1, n_iter=20)\n",
    "slr.fit(X, y);  # 喂入数据进行训练"
   ]
  },
  {
   "cell_type": "code",
   "execution_count": 18,
   "metadata": {},
   "outputs": [
    {
     "data": {
      "image/png": "[encoded data removed]",
      "text/plain": [
       "<Figure size 432x288 with 1 Axes>"
      ]
     },
     "metadata": {},
     "output_type": "display_data"
    }
   ],
   "source": [
    "# cost function\n",
    "plt.plot(range(1, lr.n_iter+1), lr.cost_)\n",
    "plt.ylabel('SSE')\n",
    "plt.xlabel('Epoch')\n",
    "plt.tight_layout()"
   ]
  },
  {
   "cell_type": "markdown",
   "metadata": {},
   "source": [
    "### 练习\n",
    "使用iris数据集来完成一个线性回归"
   ]
  },
  {
   "cell_type": "code",
   "execution_count": 182,
   "metadata": {},
   "outputs": [
    {
     "data": {
      "text/html": [
       "<div>\n",
       "<style scoped>\n",
       "    .dataframe tbody tr th:only-of-type {\n",
       "        vertical-align: middle;\n",
       "    }\n",
       "\n",
       "    .dataframe tbody tr th {\n",
       "        vertical-align: top;\n",
       "    }\n",
       "\n",
       "    .dataframe thead th {\n",
       "        text-align: right;\n",
       "    }\n",
       "</style>\n",
       "<table border=\"1\" class=\"dataframe\">\n",
       "  <thead>\n",
       "    <tr style=\"text-align: right;\">\n",
       "      <th></th>\n",
       "      <th>sepal_length</th>\n",
       "      <th>sepal_width</th>\n",
       "      <th>petal_length</th>\n",
       "      <th>petal_width</th>\n",
       "      <th>species</th>\n",
       "    </tr>\n",
       "  </thead>\n",
       "  <tbody>\n",
       "    <tr>\n",
       "      <th>0</th>\n",
       "      <td>5.1</td>\n",
       "      <td>3.5</td>\n",
       "      <td>1.4</td>\n",
       "      <td>0.2</td>\n",
       "      <td>Setosa</td>\n",
       "    </tr>\n",
       "    <tr>\n",
       "      <th>1</th>\n",
       "      <td>4.9</td>\n",
       "      <td>3.0</td>\n",
       "      <td>1.4</td>\n",
       "      <td>0.2</td>\n",
       "      <td>Setosa</td>\n",
       "    </tr>\n",
       "    <tr>\n",
       "      <th>2</th>\n",
       "      <td>4.7</td>\n",
       "      <td>3.2</td>\n",
       "      <td>1.3</td>\n",
       "      <td>0.2</td>\n",
       "      <td>Setosa</td>\n",
       "    </tr>\n",
       "    <tr>\n",
       "      <th>3</th>\n",
       "      <td>4.6</td>\n",
       "      <td>3.1</td>\n",
       "      <td>1.5</td>\n",
       "      <td>0.2</td>\n",
       "      <td>Setosa</td>\n",
       "    </tr>\n",
       "    <tr>\n",
       "      <th>4</th>\n",
       "      <td>5.0</td>\n",
       "      <td>3.6</td>\n",
       "      <td>1.4</td>\n",
       "      <td>0.2</td>\n",
       "      <td>Setosa</td>\n",
       "    </tr>\n",
       "  </tbody>\n",
       "</table>\n",
       "</div>"
      ],
      "text/plain": [
       "   sepal_length  sepal_width  petal_length  petal_width species\n",
       "0           5.1          3.5           1.4          0.2  Setosa\n",
       "1           4.9          3.0           1.4          0.2  Setosa\n",
       "2           4.7          3.2           1.3          0.2  Setosa\n",
       "3           4.6          3.1           1.5          0.2  Setosa\n",
       "4           5.0          3.6           1.4          0.2  Setosa"
      ]
     },
     "execution_count": 182,
     "metadata": {},
     "output_type": "execute_result"
    }
   ],
   "source": [
    "import pandas as pd\n",
    "\n",
    "df = pd.read_csv('../data/iris.csv')\n",
    "df.head()"
   ]
  },
  {
   "cell_type": "code",
   "execution_count": 183,
   "metadata": {},
   "outputs": [],
   "source": [
    "y = df.iloc[50:150,[2]].values\n",
    "X = df.iloc[50:150,[0,1]].values"
   ]
  },
  {
   "cell_type": "code",
   "execution_count": 184,
   "metadata": {},
   "outputs": [],
   "source": [
    "from sklearn.preprocessing import StandardScaler\n",
    "sc_x = StandardScaler()\n",
    "sc_y = StandardScaler()\n",
    "X_std = sc_x.fit_transform(X)\n",
    "y_std = sc_y.fit_transform(y)"
   ]
  },
  {
   "cell_type": "code",
   "execution_count": 185,
   "metadata": {},
   "outputs": [
    {
     "data": {
      "image/png": "[encoded data removed]",
      "text/plain": [
       "<Figure size 864x288 with 2 Axes>"
      ]
     },
     "metadata": {},
     "output_type": "display_data"
    }
   ],
   "source": [
    "fig, ax = plt.subplots(nrows=1, ncols=2, figsize=(12, 4))\n",
    "ax[0].scatter(X_std[:,0],y_std)\n",
    "ax[1].scatter(X_std[:,1],y_std)\n",
    "plt.show()"
   ]
  },
  {
   "cell_type": "code",
   "execution_count": 186,
   "metadata": {},
   "outputs": [
    {
     "data": {
      "text/plain": [
       "LinearRegression(copy_X=True, fit_intercept=True, n_jobs=1, normalize=False)"
      ]
     },
     "execution_count": 186,
     "metadata": {},
     "output_type": "execute_result"
    }
   ],
   "source": [
    "slr = LinearRegression()\n",
    "slr.fit(X_std, y_std)\n"
   ]
  },
  {
   "cell_type": "code",
   "execution_count": 188,
   "metadata": {},
   "outputs": [],
   "source": [
    "predict_y = slr.predict(X_std)"
   ]
  },
  {
   "cell_type": "code",
   "execution_count": 187,
   "metadata": {},
   "outputs": [
    {
     "name": "stdout",
     "output_type": "stream",
     "text": [
      "slope: [0.77978751 0.08791319]\n",
      "Intercept: 0.000\n"
     ]
    }
   ],
   "source": [
    "print('slope:',slr.coef_[0])\n",
    "print('Intercept: %.3f' % slr.intercept_)"
   ]
  },
  {
   "cell_type": "code",
   "execution_count": 190,
   "metadata": {},
   "outputs": [
    {
     "name": "stdout",
     "output_type": "stream",
     "text": [
      "MSE train: 0.308\n",
      "R^2 train: 0.692\n"
     ]
    }
   ],
   "source": [
    "from sklearn.metrics import mean_squared_error\n",
    "print('MSE train: %.3f' %mean_squared_error(y_std, predict_y))\n"
   ]
  },
  {
   "cell_type": "markdown",
   "metadata": {},
   "source": [
    "### 本课小结\n",
    "- 线性回归也是对输入数据进行加权求和，权重就是需要训练的参数，但它加权求和之后没有激活函数，而是直接输出求和的数值。\n",
    "- 权重的参数也是通过有标签的数据训练来修正得到的，修正的方法就是梯度下降方法。只不过损失函数和逻辑回归中的损失函数不一样。"
   ]
  }
 ],
 "metadata": {
  "kernelspec": {
   "display_name": "Python 3",
   "language": "python",
   "name": "python3"
  },
  "language_info": {
   "codemirror_mode": {
    "name": "ipython",
    "version": 3
   },
   "file_extension": ".py",
   "mimetype": "text/x-python",
   "name": "python",
   "nbconvert_exporter": "python",
   "pygments_lexer": "ipython3",
   "version": "3.6.5"
  }
 },
 "nbformat": 4,
 "nbformat_minor": 2
}
