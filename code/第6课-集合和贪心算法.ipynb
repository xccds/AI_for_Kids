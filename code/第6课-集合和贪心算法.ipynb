{
 "cells": [
  {
   "cell_type": "markdown",
   "metadata": {},
   "source": [
    "### 1. 什么是集合"
   ]
  },
  {
   "cell_type": "code",
   "execution_count": 1,
   "metadata": {},
   "outputs": [],
   "source": [
    "x_list = [1,2,3,3]"
   ]
  },
  {
   "cell_type": "code",
   "execution_count": 2,
   "metadata": {},
   "outputs": [],
   "source": [
    "x_set = set(x_list)"
   ]
  },
  {
   "cell_type": "code",
   "execution_count": 3,
   "metadata": {},
   "outputs": [
    {
     "name": "stdout",
     "output_type": "stream",
     "text": [
      "{1, 2, 3}\n"
     ]
    },
    {
     "data": {
      "text/plain": [
       "set"
      ]
     },
     "execution_count": 3,
     "metadata": {},
     "output_type": "execute_result"
    }
   ],
   "source": [
    "print(x_set)\n",
    "type(x_set)"
   ]
  },
  {
   "cell_type": "code",
   "execution_count": 4,
   "metadata": {},
   "outputs": [
    {
     "name": "stdout",
     "output_type": "stream",
     "text": [
      "{1, 2, 3}\n"
     ]
    }
   ],
   "source": [
    "x_set = {1,2,3,3}\n",
    "print(x_set)"
   ]
  },
  {
   "cell_type": "code",
   "execution_count": 5,
   "metadata": {},
   "outputs": [
    {
     "name": "stdout",
     "output_type": "stream",
     "text": [
      "{2}\n"
     ]
    }
   ],
   "source": [
    "x_set = set()\n",
    "x_set.add(2)\n",
    "print(x_set)"
   ]
  },
  {
   "cell_type": "code",
   "execution_count": 6,
   "metadata": {},
   "outputs": [
    {
     "data": {
      "text/plain": [
       "True"
      ]
     },
     "execution_count": 6,
     "metadata": {},
     "output_type": "execute_result"
    }
   ],
   "source": [
    "2 in x_set"
   ]
  },
  {
   "cell_type": "code",
   "execution_count": 7,
   "metadata": {},
   "outputs": [],
   "source": [
    "x_set = {'one','two',1,2}\n",
    "y_set = {'two',1,'three'}"
   ]
  },
  {
   "cell_type": "code",
   "execution_count": 8,
   "metadata": {},
   "outputs": [
    {
     "data": {
      "text/plain": [
       "{1, 2, 'one', 'three', 'two'}"
      ]
     },
     "execution_count": 8,
     "metadata": {},
     "output_type": "execute_result"
    }
   ],
   "source": [
    "x_set | y_set"
   ]
  },
  {
   "cell_type": "code",
   "execution_count": 9,
   "metadata": {},
   "outputs": [
    {
     "data": {
      "text/plain": [
       "{1, 'two'}"
      ]
     },
     "execution_count": 9,
     "metadata": {},
     "output_type": "execute_result"
    }
   ],
   "source": [
    "x_set & y_set"
   ]
  },
  {
   "cell_type": "code",
   "execution_count": 10,
   "metadata": {},
   "outputs": [
    {
     "data": {
      "text/plain": [
       "True"
      ]
     },
     "execution_count": 10,
     "metadata": {},
     "output_type": "execute_result"
    }
   ],
   "source": [
    "{1,2} <= x_set"
   ]
  },
  {
   "cell_type": "code",
   "execution_count": 11,
   "metadata": {},
   "outputs": [
    {
     "data": {
      "text/plain": [
       "{2, 'one'}"
      ]
     },
     "execution_count": 11,
     "metadata": {},
     "output_type": "execute_result"
    }
   ],
   "source": [
    "x_set - y_set"
   ]
  },
  {
   "cell_type": "code",
   "execution_count": 12,
   "metadata": {},
   "outputs": [
    {
     "name": "stdout",
     "output_type": "stream",
     "text": [
      "{'one', 1, 2, 'three', 'two'}\n"
     ]
    }
   ],
   "source": [
    "x_set.update(y_set)\n",
    "print(x_set)"
   ]
  },
  {
   "cell_type": "markdown",
   "metadata": {},
   "source": [
    "### 2. 组合"
   ]
  },
  {
   "cell_type": "code",
   "execution_count": 14,
   "metadata": {},
   "outputs": [],
   "source": [
    "x_set = {1,2,3,4,5}\n",
    "y_set = x_set.copy()"
   ]
  },
  {
   "cell_type": "code",
   "execution_count": 15,
   "metadata": {},
   "outputs": [
    {
     "name": "stdout",
     "output_type": "stream",
     "text": [
      "1\n",
      "2\n",
      "3\n",
      "4\n",
      "5\n"
     ]
    }
   ],
   "source": [
    "for x in x_set:\n",
    "    print(x)"
   ]
  },
  {
   "cell_type": "code",
   "execution_count": 16,
   "metadata": {},
   "outputs": [
    {
     "name": "stdout",
     "output_type": "stream",
     "text": [
      "1 2\n",
      "1 3\n",
      "1 4\n",
      "1 5\n",
      "2 3\n",
      "2 4\n",
      "2 5\n",
      "3 4\n",
      "3 5\n",
      "4 5\n"
     ]
    }
   ],
   "source": [
    "for x in x_set:\n",
    "    y = y_set.remove(x)\n",
    "    for y in y_set:\n",
    "        print(x,y)"
   ]
  },
  {
   "cell_type": "code",
   "execution_count": 17,
   "metadata": {},
   "outputs": [],
   "source": [
    "def combin(x_set):\n",
    "    output_list = list()\n",
    "    y_set = x_set.copy()\n",
    "    for x in x_set:\n",
    "        y = y_set.remove(x)\n",
    "        for y in y_set:\n",
    "            output_list.append((x,y))\n",
    "    return output_list"
   ]
  },
  {
   "cell_type": "code",
   "execution_count": 18,
   "metadata": {},
   "outputs": [
    {
     "data": {
      "text/plain": [
       "[(1, 2),\n",
       " (1, 3),\n",
       " (1, 4),\n",
       " (1, 5),\n",
       " (2, 3),\n",
       " (2, 4),\n",
       " (2, 5),\n",
       " (3, 4),\n",
       " (3, 5),\n",
       " (4, 5)]"
      ]
     },
     "execution_count": 18,
     "metadata": {},
     "output_type": "execute_result"
    }
   ],
   "source": [
    "combin(x_set)"
   ]
  },
  {
   "cell_type": "code",
   "execution_count": 19,
   "metadata": {},
   "outputs": [
    {
     "data": {
      "text/plain": [
       "[('张', '李'), ('张', '赵'), ('张', '王'), ('李', '赵'), ('李', '王'), ('赵', '王')]"
      ]
     },
     "execution_count": 19,
     "metadata": {},
     "output_type": "execute_result"
    }
   ],
   "source": [
    "x_set={'张','李','王','赵'}\n",
    "combin(x_set)"
   ]
  },
  {
   "cell_type": "code",
   "execution_count": 20,
   "metadata": {},
   "outputs": [],
   "source": [
    "from itertools import combinations"
   ]
  },
  {
   "cell_type": "code",
   "execution_count": 21,
   "metadata": {},
   "outputs": [
    {
     "data": {
      "text/plain": [
       "[('张', '李'), ('张', '赵'), ('张', '王'), ('李', '赵'), ('李', '王'), ('赵', '王')]"
      ]
     },
     "execution_count": 21,
     "metadata": {},
     "output_type": "execute_result"
    }
   ],
   "source": [
    "list(combinations(x_set,2))"
   ]
  },
  {
   "cell_type": "code",
   "execution_count": 22,
   "metadata": {},
   "outputs": [
    {
     "data": {
      "text/plain": [
       "[('张', '李', '赵'), ('张', '李', '王'), ('张', '赵', '王'), ('李', '赵', '王')]"
      ]
     },
     "execution_count": 22,
     "metadata": {},
     "output_type": "execute_result"
    }
   ],
   "source": [
    "list(combinations(x_set,3))"
   ]
  },
  {
   "cell_type": "markdown",
   "metadata": {},
   "source": [
    "### 3. 贪心算法"
   ]
  },
  {
   "cell_type": "code",
   "execution_count": 23,
   "metadata": {},
   "outputs": [],
   "source": [
    "nutrients = set(['a','b','c','d','e','f','g','h'])"
   ]
  },
  {
   "cell_type": "code",
   "execution_count": 24,
   "metadata": {},
   "outputs": [],
   "source": [
    "foods = dict()\n",
    "foods['香蕉'] = set(['a','c'])\n",
    "foods['苹果'] = set(['b','c'])\n",
    "foods['李子'] = set(['a','c','h'])\n",
    "foods['西瓜'] = set(['d','e'])\n",
    "foods['白菜'] = set(['f','h'])\n",
    "foods['胡萝卜'] = set(['d','g'])\n",
    "foods['西红柿'] = set(['c','d','e'])"
   ]
  },
  {
   "cell_type": "code",
   "execution_count": 25,
   "metadata": {},
   "outputs": [
    {
     "data": {
      "text/plain": [
       "{'香蕉': {'a', 'c'},\n",
       " '苹果': {'b', 'c'},\n",
       " '李子': {'a', 'c', 'h'},\n",
       " '西瓜': {'d', 'e'},\n",
       " '白菜': {'f', 'h'},\n",
       " '胡萝卜': {'d', 'g'},\n",
       " '西红柿': {'c', 'd', 'e'}}"
      ]
     },
     "execution_count": 25,
     "metadata": {},
     "output_type": "execute_result"
    }
   ],
   "source": [
    "foods"
   ]
  },
  {
   "cell_type": "code",
   "execution_count": 26,
   "metadata": {},
   "outputs": [],
   "source": [
    "from itertools import combinations"
   ]
  },
  {
   "cell_type": "code",
   "execution_count": 27,
   "metadata": {},
   "outputs": [
    {
     "data": {
      "text/plain": [
       "[('香蕉', '苹果'),\n",
       " ('香蕉', '李子'),\n",
       " ('香蕉', '西瓜'),\n",
       " ('香蕉', '白菜'),\n",
       " ('香蕉', '胡萝卜'),\n",
       " ('香蕉', '西红柿'),\n",
       " ('苹果', '李子'),\n",
       " ('苹果', '西瓜'),\n",
       " ('苹果', '白菜'),\n",
       " ('苹果', '胡萝卜'),\n",
       " ('苹果', '西红柿'),\n",
       " ('李子', '西瓜'),\n",
       " ('李子', '白菜'),\n",
       " ('李子', '胡萝卜'),\n",
       " ('李子', '西红柿'),\n",
       " ('西瓜', '白菜'),\n",
       " ('西瓜', '胡萝卜'),\n",
       " ('西瓜', '西红柿'),\n",
       " ('白菜', '胡萝卜'),\n",
       " ('白菜', '西红柿'),\n",
       " ('胡萝卜', '西红柿')]"
      ]
     },
     "execution_count": 27,
     "metadata": {},
     "output_type": "execute_result"
    }
   ],
   "source": [
    "list(combinations(foods.keys(),2))"
   ]
  },
  {
   "cell_type": "code",
   "execution_count": 30,
   "metadata": {},
   "outputs": [],
   "source": [
    "def brute_force(foods,nutrients,k):\n",
    "    output_list = list()\n",
    "    nutrients_selec = set()\n",
    "    for food_list in combinations(foods.keys(),k): # 外层循环遍历食物的所有K元组\n",
    "        nutrients_selec = set()\n",
    "        for food in food_list: # 内层循环遍历元组中的K种果蔬\n",
    "            nutrients_selec.update(foods[food]) # 将果蔬对应的营养成分加入营养集合\n",
    "        if nutrients <= nutrients_selec: # 如果营养集合满足要求，就将搭配存入结果\n",
    "            output_list.append(food_list)\n",
    "    return output_list\n",
    "        "
   ]
  },
  {
   "cell_type": "code",
   "execution_count": 31,
   "metadata": {},
   "outputs": [
    {
     "name": "stdout",
     "output_type": "stream",
     "text": [
      "5\n",
      "[('香蕉', '苹果', '西瓜', '白菜', '胡萝卜'), ('香蕉', '苹果', '白菜', '胡萝卜', '西红柿'), ('苹果', '李子', '西瓜', '白菜', '胡萝卜'), ('苹果', '李子', '白菜', '胡萝卜', '西红柿')]\n",
      "6\n",
      "[('香蕉', '苹果', '李子', '西瓜', '白菜', '胡萝卜'), ('香蕉', '苹果', '李子', '白菜', '胡萝卜', '西红柿'), ('香蕉', '苹果', '西瓜', '白菜', '胡萝卜', '西红柿'), ('苹果', '李子', '西瓜', '白菜', '胡萝卜', '西红柿')]\n"
     ]
    }
   ],
   "source": [
    "for i in range(len(foods)):\n",
    "    output = brute_force(foods,nutrients,i)\n",
    "    if len(output)>0:\n",
    "        print(i)\n",
    "        print(output)"
   ]
  },
  {
   "cell_type": "code",
   "execution_count": 32,
   "metadata": {},
   "outputs": [],
   "source": [
    "def greedy_func(foods, nutrients):\n",
    "    final_food = set()\n",
    "    while nutrients:\n",
    "        best_food = None\n",
    "        nutrient_covered = set()\n",
    "        for food,nutrient in foods.items(): # 遍历所有的果蔬，求出营养覆盖最多\n",
    "            covered = nutrients & nutrient  # 求交集\n",
    "            if len(covered) > len(nutrient_covered):\n",
    "                best_food = food\n",
    "                nutrient_covered = covered\n",
    "        nutrients = nutrients - nutrient_covered # 将覆盖的营养成份从原来的集合中去除\n",
    "        final_food.add(best_food)  # 将对应的食物加入空集\n",
    "    return final_food"
   ]
  },
  {
   "cell_type": "code",
   "execution_count": 33,
   "metadata": {},
   "outputs": [
    {
     "data": {
      "text/plain": [
       "{'李子', '白菜', '胡萝卜', '苹果', '西瓜'}"
      ]
     },
     "execution_count": 33,
     "metadata": {},
     "output_type": "execute_result"
    }
   ],
   "source": [
    "greedy_func(foods,nutrients)"
   ]
  },
  {
   "cell_type": "markdown",
   "metadata": {},
   "source": [
    "###  练习"
   ]
  },
  {
   "cell_type": "code",
   "execution_count": 34,
   "metadata": {},
   "outputs": [],
   "source": [
    "coins = [1,2,5,10,20,50,100]     #1分，2分，5分，1角，2角，5角，1元\n",
    "coin_cnt = [10,10,10,10,10,10,10] # 存储每种硬币的数量\n",
    "money = 13.2  # 需要换的总额\n",
    "money = money*100\n"
   ]
  },
  {
   "cell_type": "code",
   "execution_count": 35,
   "metadata": {},
   "outputs": [
    {
     "name": "stdout",
     "output_type": "stream",
     "text": [
      "使用了100面额硬币10个\n",
      "使用了50面额硬币6个\n",
      "使用了20面额硬币1个\n",
      "{100: 10, 50: 6, 20: 1}\n"
     ]
    }
   ],
   "source": [
    "change = {}\n",
    "# 要想用的钱币数量最少，那么需要利用所有面值大的钱币，因此从数组的面值大的元素开始遍历\n",
    "i = len(coins)-1\n",
    "while i >= 0: \n",
    "    if money >= coins[i]:\n",
    "        n = int(money / coins[i]) # 需要硬币个数\n",
    "        if n >= coin_cnt[i]: # 需要硬币数量超过能提供的硬币个数\n",
    "            n = coin_cnt[i]  # 更新n\n",
    "        change[coins[i]] = n # 用字典更新\n",
    "        money = money - n * coins[i] # 令总金额动态的改变，\n",
    "        print(\"使用了{x}面额硬币{y}个\".format(x=int(coins[i]), y=n))\n",
    "    i = i-1\n",
    "print(change)\n"
   ]
  }
 ],
 "metadata": {
  "kernelspec": {
   "display_name": "Python 3",
   "language": "python",
   "name": "python3"
  },
  "language_info": {
   "codemirror_mode": {
    "name": "ipython",
    "version": 3
   },
   "file_extension": ".py",
   "mimetype": "text/x-python",
   "name": "python",
   "nbconvert_exporter": "python",
   "pygments_lexer": "ipython3",
   "version": "3.9.12"
  }
 },
 "nbformat": 4,
 "nbformat_minor": 2
}
