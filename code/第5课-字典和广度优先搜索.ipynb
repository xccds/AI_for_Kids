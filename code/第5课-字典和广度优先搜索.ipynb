{
 "cells": [
  {
   "cell_type": "markdown",
   "metadata": {},
   "source": [
    "### 本课提纲：\n",
    "- 什么是字典\n",
    "- 用字典来排序\n",
    "- 广度优先搜索\n",
    "- 练习"
   ]
  },
  {
   "cell_type": "markdown",
   "metadata": {},
   "source": [
    "### 1. 什么是字典"
   ]
  },
  {
   "cell_type": "markdown",
   "metadata": {},
   "source": [
    "在生活中我们常用的一种信息来源是通讯录，通讯录一般是由若干个联系人组成，每个联系人可能有姓名、电话号码等信息组成。上堂课我们学习了列表，如果是用列表如果来表示通讯录这种信息，我们可以使用一个嵌套列表来做。"
   ]
  },
  {
   "cell_type": "code",
   "execution_count": 1,
   "metadata": {},
   "outputs": [
    {
     "name": "stdout",
     "output_type": "stream",
     "text": [
      "[['张三', 135001], ['李四', 135002], ['王五', 135003]]\n"
     ]
    }
   ],
   "source": [
    "contact = [['张三',135001],['李四',135002],['王五',135003]]\n",
    "print(contact)"
   ]
  },
  {
   "cell_type": "markdown",
   "metadata": {},
   "source": [
    "如果要取出张三对应的电话号码，我们观察到张三是位于第一个位置，也就是序号为0的位置上，可以用[0]取出张三的名字和号码，再用[1]取出对应的号码"
   ]
  },
  {
   "cell_type": "code",
   "execution_count": 2,
   "metadata": {},
   "outputs": [
    {
     "data": {
      "text/plain": [
       "135001"
      ]
     },
     "execution_count": 2,
     "metadata": {},
     "output_type": "execute_result"
    }
   ],
   "source": [
    "contact[0][1]"
   ]
  },
  {
   "cell_type": "markdown",
   "metadata": {},
   "source": [
    "如果这个通讯录很庞大，我们无法肉眼观察，可以通过列表解析的方法，搜索到张三的号码。"
   ]
  },
  {
   "cell_type": "code",
   "execution_count": 3,
   "metadata": {},
   "outputs": [
    {
     "data": {
      "text/plain": [
       "[135001]"
      ]
     },
     "execution_count": 3,
     "metadata": {},
     "output_type": "execute_result"
    }
   ],
   "source": [
    "[x[1] for x in contact if x[0]=='张三']"
   ]
  },
  {
   "cell_type": "markdown",
   "metadata": {},
   "source": [
    "用列表来保存和查询通讯录，感觉还是比较麻烦，能不能有更方便的方式呢？是有的。我们可以直接利用python内置的另一种数据类型，字典（dict）。字典就几乎是一个通讯录。"
   ]
  },
  {
   "cell_type": "code",
   "execution_count": 5,
   "metadata": {},
   "outputs": [
    {
     "name": "stdout",
     "output_type": "stream",
     "text": [
      "{'张三': 135001, '李四': 135002, '王五': 135003}\n"
     ]
    },
    {
     "data": {
      "text/plain": [
       "dict"
      ]
     },
     "execution_count": 5,
     "metadata": {},
     "output_type": "execute_result"
    }
   ],
   "source": [
    "contact_dict = {'张三':135001,'李四':135002,'王五':135003}\n",
    "print(contact_dict)\n",
    "type(contact_dict)"
   ]
  },
  {
   "cell_type": "markdown",
   "metadata": {},
   "source": [
    "注意python中字典的定义方式，字典需要用一个大括号将所有内容包起来，上面的字典中有三个元素，元素间需要用逗号间隔开，姓名和号码这一对信息构成一个元素，一般将这种有关联的信息叫做键值对，英文称为key-value，key和value之间用冒号间隔开。用字典来搜索张三的号码就非常简单了。"
   ]
  },
  {
   "cell_type": "code",
   "execution_count": 6,
   "metadata": {},
   "outputs": [
    {
     "data": {
      "text/plain": [
       "135001"
      ]
     },
     "execution_count": 6,
     "metadata": {},
     "output_type": "execute_result"
    }
   ],
   "source": [
    "contact_dict['张三']"
   ]
  },
  {
   "cell_type": "markdown",
   "metadata": {},
   "source": [
    "字典可以做增删改查的四种操作。查询操作上面已经看到了，新增和修改操作都非常简单直接"
   ]
  },
  {
   "cell_type": "code",
   "execution_count": 7,
   "metadata": {},
   "outputs": [
    {
     "name": "stdout",
     "output_type": "stream",
     "text": [
      "{'张三': 135001, '李四': 135002, '王五': 135003, '小明': 135004}\n"
     ]
    }
   ],
   "source": [
    "contact_dict['小明'] = 135004\n",
    "print(contact_dict)"
   ]
  },
  {
   "cell_type": "code",
   "execution_count": 8,
   "metadata": {},
   "outputs": [
    {
     "name": "stdout",
     "output_type": "stream",
     "text": [
      "{'张三': 135001, '李四': 135002, '王五': 135003, '小明': 135010}\n"
     ]
    }
   ],
   "source": [
    "contact_dict['小明'] = 135010\n",
    "print(contact_dict)"
   ]
  },
  {
   "cell_type": "markdown",
   "metadata": {},
   "source": [
    "删除元素是和列表类似，都是使用del命令"
   ]
  },
  {
   "cell_type": "code",
   "execution_count": 85,
   "metadata": {},
   "outputs": [
    {
     "name": "stdout",
     "output_type": "stream",
     "text": [
      "{'李四': 135002, '王五': 135003, '小明': 135010}\n"
     ]
    }
   ],
   "source": [
    "del contact_dict['张三'] \n",
    "print(contact_dict)"
   ]
  },
  {
   "cell_type": "markdown",
   "metadata": {},
   "source": [
    "可以专门取出字典的所有key值或所有value值，将它们转成列表"
   ]
  },
  {
   "cell_type": "code",
   "execution_count": 87,
   "metadata": {},
   "outputs": [
    {
     "data": {
      "text/plain": [
       "['李四', '王五', '小明']"
      ]
     },
     "execution_count": 87,
     "metadata": {},
     "output_type": "execute_result"
    }
   ],
   "source": [
    "list(contact_dict.keys())"
   ]
  },
  {
   "cell_type": "code",
   "execution_count": 88,
   "metadata": {},
   "outputs": [
    {
     "data": {
      "text/plain": [
       "[135002, 135003, 135010]"
      ]
     },
     "execution_count": 88,
     "metadata": {},
     "output_type": "execute_result"
    }
   ],
   "source": [
    "list(contact_dict.values())"
   ]
  },
  {
   "cell_type": "markdown",
   "metadata": {},
   "source": [
    "也可以将键值对一起取出来转成列表，可以观察到，列表中的元素是一对值。"
   ]
  },
  {
   "cell_type": "code",
   "execution_count": 89,
   "metadata": {},
   "outputs": [
    {
     "data": {
      "text/plain": [
       "[('李四', 135002), ('王五', 135003), ('小明', 135010)]"
      ]
     },
     "execution_count": 89,
     "metadata": {},
     "output_type": "execute_result"
    }
   ],
   "source": [
    "list(contact_dict.items())"
   ]
  },
  {
   "cell_type": "markdown",
   "metadata": {},
   "source": [
    "字典的元素也支持循环操作"
   ]
  },
  {
   "cell_type": "code",
   "execution_count": 90,
   "metadata": {},
   "outputs": [
    {
     "name": "stdout",
     "output_type": "stream",
     "text": [
      "李四 135002\n",
      "王五 135003\n",
      "小明 135010\n"
     ]
    }
   ],
   "source": [
    "for k, v in contact_dict.items():\n",
    "    print(k,v)"
   ]
  },
  {
   "cell_type": "markdown",
   "metadata": {},
   "source": [
    "字典本身可以支持字典解析，就类似于列表解析一样，我们能通过这种方式来产生字典"
   ]
  },
  {
   "cell_type": "code",
   "execution_count": 93,
   "metadata": {},
   "outputs": [
    {
     "name": "stdout",
     "output_type": "stream",
     "text": [
      "{'张三': 135001, '李四': 135002, '王五': 135003}\n"
     ]
    }
   ],
   "source": [
    "contact = [['张三',135001],['李四',135002],['王五',135003]]\n",
    "contact_dict = {k:v for k,v in contact}\n",
    "print(contact_dict)"
   ]
  },
  {
   "cell_type": "markdown",
   "metadata": {},
   "source": [
    "而且字典的值可以不只是数字、字符串，它还可以是一个字典，如下面这样。"
   ]
  },
  {
   "cell_type": "code",
   "execution_count": 2,
   "metadata": {},
   "outputs": [
    {
     "name": "stdout",
     "output_type": "stream",
     "text": [
      "{'张三': {'电话': 135001, '性别': '男', '年龄': 20}, '李四': {'电话': 135002, '性别': '男', '年龄': 22}, '王五': {'电话': 135003, '性别': '男', '年龄': 25}}\n"
     ]
    }
   ],
   "source": [
    "contact_1 = {'电话':135001,'性别':'男','年龄':20}\n",
    "contact_2 = {'电话':135002,'性别':'男','年龄':22}\n",
    "contact_3 = {'电话':135003,'性别':'男','年龄':25}\n",
    "contact_dict = {'张三':contact_1,'李四':contact_2,'王五':contact_3}\n",
    "print(contact_dict)"
   ]
  },
  {
   "cell_type": "code",
   "execution_count": 3,
   "metadata": {},
   "outputs": [
    {
     "name": "stdout",
     "output_type": "stream",
     "text": [
      "{'电话': 135001, '性别': '男', '年龄': 20}\n"
     ]
    }
   ],
   "source": [
    "print(contact_dict['张三'])"
   ]
  },
  {
   "cell_type": "markdown",
   "metadata": {},
   "source": [
    "小结：字典（dict）是我们学到的一种新的数据类型，它和列表类似可以存放一系列的数据，不过区别在于它的存放方式是以键值对的形式存放的，它的键可以是常见的字符串、数字，而值可以更为丰富，包括列表和字典。"
   ]
  },
  {
   "cell_type": "markdown",
   "metadata": {},
   "source": [
    "### 2. 字典的排序"
   ]
  },
  {
   "cell_type": "markdown",
   "metadata": {},
   "source": [
    "在上一节，我们是使用列表作为数据类型，实现了单词的计算和排序，我们来试试用字典来实现这种数据存放和排序运算。"
   ]
  },
  {
   "cell_type": "code",
   "execution_count": 4,
   "metadata": {},
   "outputs": [],
   "source": [
    "word_string = '''Last week I went to the theatre.\n",
    "I had a very good seat. \n",
    "The play was very interesting. \n",
    "I did not enjoy it.\n",
    "A young man and a young woman were sitting behind me. \n",
    "They were talking loudly. \n",
    "I got very angry. \n",
    "I could not hear the actors.\n",
    "I turned round. \n",
    "I looked at the man and the woman angrily.\n",
    "They did not pay any attention. \n",
    "In the end, I could not bear it.\n",
    "I turned round again.\n",
    "\"I can't hear a word!\" I said angrily.\n",
    "It's none of your business,\" the young man said rudely.\n",
    "\"This is a private conversation!\"\n",
    "'''"
   ]
  },
  {
   "cell_type": "code",
   "execution_count": 5,
   "metadata": {},
   "outputs": [],
   "source": [
    "text_list = word_string.split()"
   ]
  },
  {
   "cell_type": "code",
   "execution_count": 6,
   "metadata": {},
   "outputs": [],
   "source": [
    "text_list = [w.strip('.,\"!') for w in text_list]"
   ]
  },
  {
   "cell_type": "markdown",
   "metadata": {},
   "source": [
    "上面代码我们和之前一样建立一个大的字符串变量，再进行了切分操作和一个列表解析，将得到的单词列表存在text_list中。然后建立一个空的字典，利用循环遍历单词列表，如果单词不在字典的键中，则新增这个键值对，如果在字典中同将值增加1。"
   ]
  },
  {
   "cell_type": "code",
   "execution_count": 8,
   "metadata": {},
   "outputs": [],
   "source": [
    "word_freq_dict = {}\n",
    "for word in text_list:\n",
    "    if word not in word_freq_dict: #如果单词不在字典的键中\n",
    "        word_freq_dict[word]=1 #新增这个键值对\n",
    "    else:\n",
    "        word_freq_dict[word]=word_freq_dict[word]+1 #将值增加1"
   ]
  },
  {
   "cell_type": "code",
   "execution_count": 9,
   "metadata": {},
   "outputs": [
    {
     "name": "stdout",
     "output_type": "stream",
     "text": [
      "{'Last': 1, 'week': 1, 'I': 11, 'went': 1, 'to': 1, 'the': 6, 'theatre': 1, 'had': 1, 'a': 4, 'very': 3, 'good': 1, 'seat': 1, 'The': 1, 'play': 1, 'was': 1, 'interesting': 1, 'did': 2, 'not': 4, 'enjoy': 1, 'it': 2, 'A': 1, 'young': 3, 'man': 3, 'and': 2, 'woman': 2, 'were': 2, 'sitting': 1, 'behind': 1, 'me': 1, 'They': 2, 'talking': 1, 'loudly': 1, 'got': 1, 'angry': 1, 'could': 2, 'hear': 2, 'actors': 1, 'turned': 2, 'round': 2, 'looked': 1, 'at': 1, 'angrily': 2, 'pay': 1, 'any': 1, 'attention': 1, 'In': 1, 'end': 1, 'bear': 1, 'again': 1, \"can't\": 1, 'word': 1, 'said': 2, \"It's\": 1, 'none': 1, 'of': 1, 'your': 1, 'business': 1, 'rudely': 1, 'This': 1, 'is': 1, 'private': 1, 'conversation': 1}\n"
     ]
    }
   ],
   "source": [
    "print(word_freq_dict)"
   ]
  },
  {
   "cell_type": "markdown",
   "metadata": {},
   "source": [
    "然后我们将这个单词词频字典打印出来，从代码量上可以看到，用字典比用列表更为清晰简单，容易理解。"
   ]
  },
  {
   "cell_type": "code",
   "execution_count": 20,
   "metadata": {
    "scrolled": true
   },
   "outputs": [
    {
     "data": {
      "text/plain": [
       "[('I', 11),\n",
       " ('the', 6),\n",
       " ('a', 4),\n",
       " ('not', 4),\n",
       " ('very', 3),\n",
       " ('young', 3),\n",
       " ('man', 3),\n",
       " ('did', 2),\n",
       " ('it', 2),\n",
       " ('and', 2)]"
      ]
     },
     "execution_count": 20,
     "metadata": {},
     "output_type": "execute_result"
    }
   ],
   "source": [
    "sorted(word_freq_dict.items(),key=lambda x:x[1],reverse=True)[:10]"
   ]
  },
  {
   "cell_type": "markdown",
   "metadata": {},
   "source": [
    "最后我们用内置的sorted函数，对生成的字典进行排序，这里我们放入的排序对象是word_freq_dict的键值对，和上堂课对课程分数的排序类似"
   ]
  },
  {
   "cell_type": "markdown",
   "metadata": {},
   "source": [
    "### 3. 广度优先搜索"
   ]
  },
  {
   "cell_type": "markdown",
   "metadata": {},
   "source": [
    "假设我们有一个朋友圈，我有三个朋友，我的三个朋友分别是小明、小志和小柳，他们分别也有自己的朋友，这个朋友圈的关系我们可以用一个图来表示。"
   ]
  },
  {
   "cell_type": "markdown",
   "metadata": {},
   "source": [
    "假设我们已经建立好了这个图，问题是，我们能不能很快速的查询到，某个人是不是在这个朋友圈中和我构成朋友关系。"
   ]
  },
  {
   "cell_type": "markdown",
   "metadata": {},
   "source": [
    "下面我们先基于字典来建立这个图，以“我”为例，将“我”作为键，然后以“我”的三位朋友建立一个列表，作为值，如下建立这个朋友圈。"
   ]
  },
  {
   "cell_type": "code",
   "execution_count": 1,
   "metadata": {},
   "outputs": [],
   "source": [
    "graph = {}\n",
    "graph['我'] = ['小明','小志','小柳']\n",
    "graph['小志'] = ['大黄','小胖']\n",
    "graph['小明'] = ['亮亮']\n",
    "graph['小柳'] = ['小军']\n",
    "graph['大黄'] = []\n",
    "graph['小胖'] = ['聪聪']\n",
    "graph['亮亮'] = []\n",
    "graph['小军'] = []\n",
    "graph['聪聪'] = []"
   ]
  },
  {
   "cell_type": "markdown",
   "metadata": {},
   "source": [
    "建立好的朋友圈长下面这个样子，也可以把这个图看作一个树，“我”是根节点，而我的三位直接朋友是分枝节点。"
   ]
  },
  {
   "cell_type": "code",
   "execution_count": 2,
   "metadata": {},
   "outputs": [
    {
     "data": {
      "text/plain": [
       "{'我': ['小明', '小志', '小柳'],\n",
       " '小志': ['大黄', '小胖'],\n",
       " '小明': ['亮亮'],\n",
       " '小柳': ['小军'],\n",
       " '大黄': [],\n",
       " '小胖': ['聪聪'],\n",
       " '亮亮': [],\n",
       " '小军': [],\n",
       " '聪聪': []}"
      ]
     },
     "execution_count": 2,
     "metadata": {},
     "output_type": "execute_result"
    }
   ],
   "source": [
    "graph"
   ]
  },
  {
   "cell_type": "markdown",
   "metadata": {},
   "source": [
    "从思路上可以这样来一步步的解决寻找朋友的问题\n",
    "- 首先看我的直接朋友中有没有找到对应的名字\n",
    "- 如果没有的话，再看朋友的朋友中，能不能找到对应的名字\n",
    "- 这样一层层的往外扩，这种思路就叫作广度优先搜索"
   ]
  },
  {
   "cell_type": "code",
   "execution_count": 22,
   "metadata": {},
   "outputs": [],
   "source": [
    "def search(name1,name2):\n",
    "    search_list = [] #用于保存待检查的名字\n",
    "    search_list.extend(graph[name1])\n",
    "    searched = []    #用于保存检查过的名字\n",
    "    while search_list:  #只要待检查名字列表不为空\n",
    "        person = search_list.pop(0)   # 取出列表第一个位置的人名，同时将它从列表中删除\n",
    "        if person not in searched:  # 保证它在之前没有被检查过\n",
    "            if person == name2:   # 如果名字一样就找到了\n",
    "                print('找到了')\n",
    "                return True\n",
    "            else:\n",
    "                search_list.extend(graph[person])  # 如果没找到，将他的朋友也加入到待检查名单列表\n",
    "                searched.append(person)            # 同时将他本人加入已检查列表\n",
    "    print('没找到')\n",
    "    return False  "
   ]
  },
  {
   "cell_type": "markdown",
   "metadata": {},
   "source": [
    "search_list是用于存放待检查名字，每次扩的时候，将名字补充入这个列表中。首先就是放入本人的直接朋友。然后遍历这个列表，如果列表中没有找到name2，就将name2对应的朋友也加入到search_list中。具体逻辑可以参考代码中的注释。"
   ]
  },
  {
   "cell_type": "code",
   "execution_count": 27,
   "metadata": {},
   "outputs": [
    {
     "name": "stdout",
     "output_type": "stream",
     "text": [
      "找到了\n"
     ]
    },
    {
     "data": {
      "text/plain": [
       "True"
      ]
     },
     "execution_count": 27,
     "metadata": {},
     "output_type": "execute_result"
    }
   ],
   "source": [
    "search('我','小军')"
   ]
  },
  {
   "cell_type": "markdown",
   "metadata": {},
   "source": [
    "小结：广度优先搜索是一种从树结构上查询数据的思路，它先查询离根部最近的所有分枝，然后再由分枝往外扩展搜索。"
   ]
  },
  {
   "cell_type": "markdown",
   "metadata": {},
   "source": [
    "### 练习 "
   ]
  },
  {
   "cell_type": "markdown",
   "metadata": {},
   "source": [
    "对成绩单进行排序的问题，在上一课中我们是使用一个嵌套列表来做的成绩单排序，这个练习中我们尝试用字典来完成这个任务。"
   ]
  },
  {
   "cell_type": "code",
   "execution_count": 29,
   "metadata": {},
   "outputs": [],
   "source": [
    "course = [['语文',85],['数学',90],['英语',94],['历史',87],['体育',85],['音乐',98]]"
   ]
  },
  {
   "cell_type": "code",
   "execution_count": 31,
   "metadata": {},
   "outputs": [
    {
     "name": "stdout",
     "output_type": "stream",
     "text": [
      "{'语文': 85, '数学': 90, '英语': 94, '历史': 87, '体育': 85, '音乐': 98}\n"
     ]
    }
   ],
   "source": [
    "course_dict = {k:v for k,v in course}\n",
    "print(course_dict)"
   ]
  },
  {
   "cell_type": "code",
   "execution_count": 38,
   "metadata": {},
   "outputs": [
    {
     "name": "stdout",
     "output_type": "stream",
     "text": [
      "[('语文', 85), ('体育', 85), ('历史', 87), ('数学', 90), ('英语', 94), ('音乐', 98)]\n"
     ]
    }
   ],
   "source": [
    "course_sorted = sorted(course_dict.items(),key=lambda x:x[1])\n",
    "print(course_sorted)"
   ]
  },
  {
   "cell_type": "markdown",
   "metadata": {},
   "source": [
    "对成绩单进行排序后的结果是一个列表，不再是一个字典了，如果要恢复到一个字典可以再运行一下如下代码"
   ]
  },
  {
   "cell_type": "code",
   "execution_count": 41,
   "metadata": {},
   "outputs": [
    {
     "data": {
      "text/plain": [
       "{'语文': 85, '体育': 85, '历史': 87, '数学': 90, '英语': 94, '音乐': 98}"
      ]
     },
     "execution_count": 41,
     "metadata": {},
     "output_type": "execute_result"
    }
   ],
   "source": [
    "{k:v for k,v in course_sorted}"
   ]
  },
  {
   "cell_type": "markdown",
   "metadata": {},
   "source": [
    "注意观察，列表中的元素是一个圆括号括起来的一对值，这种数据类型叫做元组（tuple），这种元组使用起来和列表非常相似。"
   ]
  },
  {
   "cell_type": "code",
   "execution_count": 40,
   "metadata": {},
   "outputs": [
    {
     "data": {
      "text/plain": [
       "tuple"
      ]
     },
     "execution_count": 40,
     "metadata": {},
     "output_type": "execute_result"
    }
   ],
   "source": [
    "type(course_sorted[0])"
   ]
  },
  {
   "cell_type": "markdown",
   "metadata": {},
   "source": [
    "下面我们来看看如何用元组来定义课程成绩，并进行排序。可以看到元组是用圆括号来定义的，它和列表的唯一区别是不能修改其中的元素。"
   ]
  },
  {
   "cell_type": "code",
   "execution_count": 42,
   "metadata": {},
   "outputs": [],
   "source": [
    "course_tuple = (('语文',85),('数学',90),('英语',94),('历史',87),('体育',85),('音乐',98))"
   ]
  },
  {
   "cell_type": "code",
   "execution_count": 43,
   "metadata": {},
   "outputs": [
    {
     "data": {
      "text/plain": [
       "[('语文', 85), ('体育', 85), ('历史', 87), ('数学', 90), ('英语', 94), ('音乐', 98)]"
      ]
     },
     "execution_count": 43,
     "metadata": {},
     "output_type": "execute_result"
    }
   ],
   "source": [
    "sorted(course_tuple,key=lambda x:x[1])"
   ]
  },
  {
   "cell_type": "markdown",
   "metadata": {},
   "source": [
    "### 本课小结：\n",
    "- 字典dict是一种很重要的数据类型，它非常适用于键值对的数据。\n",
    "- 元组tuple和列表很类似，只不过元组一旦定义好了，它其中的元素不能被修改。\n",
    "- 可以用字典来建立一个简单的图，然后用广度优先搜索来找到图中的元素是否存在，广度优先搜索是从图的某个顶点出发，依次搜索访问各个未被访问过的邻居点。然后顺序搜索访问邻居的邻居，由近至远，按层次依次访问。"
   ]
  }
 ],
 "metadata": {
  "kernelspec": {
   "display_name": "Python 3",
   "language": "python",
   "name": "python3"
  },
  "language_info": {
   "codemirror_mode": {
    "name": "ipython",
    "version": 3
   },
   "file_extension": ".py",
   "mimetype": "text/x-python",
   "name": "python",
   "nbconvert_exporter": "python",
   "pygments_lexer": "ipython3",
   "version": "3.6.5"
  }
 },
 "nbformat": 4,
 "nbformat_minor": 2
}
