{
 "cells": [
  {
   "cell_type": "markdown",
   "metadata": {},
   "source": [
    "### 1. 什么是字典"
   ]
  },
  {
   "cell_type": "code",
   "execution_count": 1,
   "metadata": {},
   "outputs": [
    {
     "name": "stdout",
     "output_type": "stream",
     "text": [
      "[['张三', 135001], ['李四', 135002], ['王五', 135003]]\n"
     ]
    }
   ],
   "source": [
    "contact = [['张三',135001],['李四',135002],['王五',135003]]\n",
    "print(contact)"
   ]
  },
  {
   "cell_type": "code",
   "execution_count": 2,
   "metadata": {},
   "outputs": [
    {
     "data": {
      "text/plain": [
       "135001"
      ]
     },
     "execution_count": 2,
     "metadata": {},
     "output_type": "execute_result"
    }
   ],
   "source": [
    "contact[0][1]"
   ]
  },
  {
   "cell_type": "code",
   "execution_count": 3,
   "metadata": {},
   "outputs": [
    {
     "data": {
      "text/plain": [
       "[135001]"
      ]
     },
     "execution_count": 3,
     "metadata": {},
     "output_type": "execute_result"
    }
   ],
   "source": [
    "[x[1] for x in contact if x[0]=='张三']"
   ]
  },
  {
   "cell_type": "code",
   "execution_count": 4,
   "metadata": {},
   "outputs": [
    {
     "name": "stdout",
     "output_type": "stream",
     "text": [
      "{'张三': 135001, '李四': 135002, '王五': 135003}\n"
     ]
    },
    {
     "data": {
      "text/plain": [
       "dict"
      ]
     },
     "execution_count": 4,
     "metadata": {},
     "output_type": "execute_result"
    }
   ],
   "source": [
    "contact_dict = {'张三':135001,'李四':135002,'王五':135003}\n",
    "print(contact_dict)\n",
    "type(contact_dict)"
   ]
  },
  {
   "cell_type": "code",
   "execution_count": 5,
   "metadata": {},
   "outputs": [
    {
     "data": {
      "text/plain": [
       "135001"
      ]
     },
     "execution_count": 5,
     "metadata": {},
     "output_type": "execute_result"
    }
   ],
   "source": [
    "contact_dict['张三']"
   ]
  },
  {
   "cell_type": "code",
   "execution_count": 6,
   "metadata": {},
   "outputs": [
    {
     "name": "stdout",
     "output_type": "stream",
     "text": [
      "{'张三': 135001, '李四': 135002, '王五': 135003, '小明': 135004}\n"
     ]
    }
   ],
   "source": [
    "contact_dict['小明'] = 135004\n",
    "print(contact_dict)"
   ]
  },
  {
   "cell_type": "code",
   "execution_count": 7,
   "metadata": {},
   "outputs": [
    {
     "name": "stdout",
     "output_type": "stream",
     "text": [
      "{'张三': 135001, '李四': 135002, '王五': 135003, '小明': 135010}\n"
     ]
    }
   ],
   "source": [
    "contact_dict['小明'] = 135010\n",
    "print(contact_dict)"
   ]
  },
  {
   "cell_type": "code",
   "execution_count": 8,
   "metadata": {},
   "outputs": [
    {
     "name": "stdout",
     "output_type": "stream",
     "text": [
      "{'李四': 135002, '王五': 135003, '小明': 135010}\n"
     ]
    }
   ],
   "source": [
    "del contact_dict['张三'] \n",
    "print(contact_dict)"
   ]
  },
  {
   "cell_type": "code",
   "execution_count": 9,
   "metadata": {},
   "outputs": [
    {
     "data": {
      "text/plain": [
       "['李四', '王五', '小明']"
      ]
     },
     "execution_count": 9,
     "metadata": {},
     "output_type": "execute_result"
    }
   ],
   "source": [
    "list(contact_dict.keys())"
   ]
  },
  {
   "cell_type": "code",
   "execution_count": 10,
   "metadata": {},
   "outputs": [
    {
     "data": {
      "text/plain": [
       "[135002, 135003, 135010]"
      ]
     },
     "execution_count": 10,
     "metadata": {},
     "output_type": "execute_result"
    }
   ],
   "source": [
    "list(contact_dict.values())"
   ]
  },
  {
   "cell_type": "code",
   "execution_count": 11,
   "metadata": {},
   "outputs": [
    {
     "data": {
      "text/plain": [
       "[('李四', 135002), ('王五', 135003), ('小明', 135010)]"
      ]
     },
     "execution_count": 11,
     "metadata": {},
     "output_type": "execute_result"
    }
   ],
   "source": [
    "list(contact_dict.items())"
   ]
  },
  {
   "cell_type": "code",
   "execution_count": 12,
   "metadata": {},
   "outputs": [
    {
     "name": "stdout",
     "output_type": "stream",
     "text": [
      "李四 135002\n",
      "王五 135003\n",
      "小明 135010\n"
     ]
    }
   ],
   "source": [
    "for k, v in contact_dict.items():\n",
    "    print(k,v)"
   ]
  },
  {
   "cell_type": "code",
   "execution_count": 13,
   "metadata": {},
   "outputs": [
    {
     "name": "stdout",
     "output_type": "stream",
     "text": [
      "{'张三': 135001, '李四': 135002, '王五': 135003}\n"
     ]
    }
   ],
   "source": [
    "contact = [['张三',135001],['李四',135002],['王五',135003]]\n",
    "contact_dict = {k:v for k,v in contact}\n",
    "print(contact_dict)"
   ]
  },
  {
   "cell_type": "code",
   "execution_count": 15,
   "metadata": {},
   "outputs": [
    {
     "name": "stdout",
     "output_type": "stream",
     "text": [
      "{'张三': {'电话': 135001, '性别': '男', '年龄': 20}, '李四': {'电话': 135002, '性别': '男', '年龄': 22}, '王五': {'电话': 135003, '性别': '男', '年龄': 25}}\n"
     ]
    }
   ],
   "source": [
    "contact_1 = {'电话':135001,'性别':'男','年龄':20}\n",
    "contact_2 = {'电话':135002,'性别':'男','年龄':22}\n",
    "contact_3 = {'电话':135003,'性别':'男','年龄':25}\n",
    "contact_dict = {'张三':contact_1,'李四':contact_2,'王五':contact_3}\n",
    "print(contact_dict)"
   ]
  },
  {
   "cell_type": "code",
   "execution_count": 16,
   "metadata": {},
   "outputs": [
    {
     "name": "stdout",
     "output_type": "stream",
     "text": [
      "{'电话': 135001, '性别': '男', '年龄': 20}\n"
     ]
    }
   ],
   "source": [
    "print(contact_dict['张三'])"
   ]
  },
  {
   "cell_type": "markdown",
   "metadata": {},
   "source": [
    "### 2. 字典的排序"
   ]
  },
  {
   "cell_type": "code",
   "execution_count": 17,
   "metadata": {},
   "outputs": [],
   "source": [
    "word_string = '''Last week I went to the theatre.\n",
    "I had a very good seat. \n",
    "The play was very interesting. \n",
    "I did not enjoy it.\n",
    "A young man and a young woman were sitting behind me. \n",
    "They were talking loudly. \n",
    "I got very angry. \n",
    "I could not hear the actors.\n",
    "I turned round. \n",
    "I looked at the man and the woman angrily.\n",
    "They did not pay any attention. \n",
    "In the end, I could not bear it.\n",
    "I turned round again.\n",
    "\"I can't hear a word!\" I said angrily.\n",
    "It's none of your business,\" the young man said rudely.\n",
    "\"This is a private conversation!\"\n",
    "'''"
   ]
  },
  {
   "cell_type": "code",
   "execution_count": 18,
   "metadata": {},
   "outputs": [],
   "source": [
    "text_list = word_string.split()"
   ]
  },
  {
   "cell_type": "code",
   "execution_count": 19,
   "metadata": {},
   "outputs": [],
   "source": [
    "text_list = [w.strip('.,\"!') for w in text_list]"
   ]
  },
  {
   "cell_type": "code",
   "execution_count": 20,
   "metadata": {},
   "outputs": [],
   "source": [
    "word_freq_dict = {}\n",
    "for word in text_list:\n",
    "    if word not in word_freq_dict: #如果单词不在字典的键中\n",
    "        word_freq_dict[word]=1 #新增这个键值对\n",
    "    else:\n",
    "        word_freq_dict[word]=word_freq_dict[word]+1 #将值增加1"
   ]
  },
  {
   "cell_type": "code",
   "execution_count": 21,
   "metadata": {},
   "outputs": [
    {
     "name": "stdout",
     "output_type": "stream",
     "text": [
      "{'Last': 1, 'week': 1, 'I': 11, 'went': 1, 'to': 1, 'the': 6, 'theatre': 1, 'had': 1, 'a': 4, 'very': 3, 'good': 1, 'seat': 1, 'The': 1, 'play': 1, 'was': 1, 'interesting': 1, 'did': 2, 'not': 4, 'enjoy': 1, 'it': 2, 'A': 1, 'young': 3, 'man': 3, 'and': 2, 'woman': 2, 'were': 2, 'sitting': 1, 'behind': 1, 'me': 1, 'They': 2, 'talking': 1, 'loudly': 1, 'got': 1, 'angry': 1, 'could': 2, 'hear': 2, 'actors': 1, 'turned': 2, 'round': 2, 'looked': 1, 'at': 1, 'angrily': 2, 'pay': 1, 'any': 1, 'attention': 1, 'In': 1, 'end': 1, 'bear': 1, 'again': 1, \"can't\": 1, 'word': 1, 'said': 2, \"It's\": 1, 'none': 1, 'of': 1, 'your': 1, 'business': 1, 'rudely': 1, 'This': 1, 'is': 1, 'private': 1, 'conversation': 1}\n"
     ]
    }
   ],
   "source": [
    "print(word_freq_dict)"
   ]
  },
  {
   "cell_type": "code",
   "execution_count": 22,
   "metadata": {
    "scrolled": true
   },
   "outputs": [
    {
     "data": {
      "text/plain": [
       "[('I', 11),\n",
       " ('the', 6),\n",
       " ('a', 4),\n",
       " ('not', 4),\n",
       " ('very', 3),\n",
       " ('young', 3),\n",
       " ('man', 3),\n",
       " ('did', 2),\n",
       " ('it', 2),\n",
       " ('and', 2)]"
      ]
     },
     "execution_count": 22,
     "metadata": {},
     "output_type": "execute_result"
    }
   ],
   "source": [
    "sorted(word_freq_dict.items(),key=lambda x:x[1],reverse=True)[:10]"
   ]
  },
  {
   "cell_type": "markdown",
   "metadata": {},
   "source": [
    "### 3. 广度优先搜索"
   ]
  },
  {
   "cell_type": "code",
   "execution_count": 23,
   "metadata": {},
   "outputs": [],
   "source": [
    "graph = {}\n",
    "graph['我'] = ['小明','小志','小柳']\n",
    "graph['小志'] = ['大黄','小胖']\n",
    "graph['小明'] = ['亮亮']\n",
    "graph['小柳'] = ['小军']\n",
    "graph['大黄'] = []\n",
    "graph['小胖'] = ['聪聪']\n",
    "graph['亮亮'] = []\n",
    "graph['小军'] = []\n",
    "graph['聪聪'] = []"
   ]
  },
  {
   "cell_type": "code",
   "execution_count": 24,
   "metadata": {},
   "outputs": [
    {
     "data": {
      "text/plain": [
       "{'我': ['小明', '小志', '小柳'],\n",
       " '小志': ['大黄', '小胖'],\n",
       " '小明': ['亮亮'],\n",
       " '小柳': ['小军'],\n",
       " '大黄': [],\n",
       " '小胖': ['聪聪'],\n",
       " '亮亮': [],\n",
       " '小军': [],\n",
       " '聪聪': []}"
      ]
     },
     "execution_count": 24,
     "metadata": {},
     "output_type": "execute_result"
    }
   ],
   "source": [
    "graph"
   ]
  },
  {
   "cell_type": "code",
   "execution_count": 25,
   "metadata": {},
   "outputs": [],
   "source": [
    "def search(name1,name2):\n",
    "    search_list = [] #用于保存待检查的名字\n",
    "    search_list.extend(graph[name1])\n",
    "    searched = []    #用于保存检查过的名字\n",
    "    while search_list:  #只要待检查名字列表不为空\n",
    "        person = search_list.pop(0)   # 取出列表第一个位置的人名，同时将它从列表中删除\n",
    "        if person not in searched:  # 保证它在之前没有被检查过\n",
    "            if person == name2:   # 如果名字一样就找到了\n",
    "                print('找到了')\n",
    "                return True\n",
    "            else:\n",
    "                search_list.extend(graph[person])  # 如果没找到，将他的朋友也加入到待检查名单列表\n",
    "                searched.append(person)            # 同时将他本人加入已检查列表\n",
    "    print('没找到')\n",
    "    return False  "
   ]
  },
  {
   "cell_type": "code",
   "execution_count": 26,
   "metadata": {},
   "outputs": [
    {
     "name": "stdout",
     "output_type": "stream",
     "text": [
      "找到了\n"
     ]
    },
    {
     "data": {
      "text/plain": [
       "True"
      ]
     },
     "execution_count": 26,
     "metadata": {},
     "output_type": "execute_result"
    }
   ],
   "source": [
    "search('我','小军')"
   ]
  },
  {
   "cell_type": "markdown",
   "metadata": {},
   "source": [
    "### 练习 "
   ]
  },
  {
   "cell_type": "code",
   "execution_count": 27,
   "metadata": {},
   "outputs": [],
   "source": [
    "course = [['语文',85],['数学',90],['英语',94],['历史',87],['体育',85],['音乐',98]]"
   ]
  },
  {
   "cell_type": "code",
   "execution_count": 28,
   "metadata": {},
   "outputs": [
    {
     "name": "stdout",
     "output_type": "stream",
     "text": [
      "{'语文': 85, '数学': 90, '英语': 94, '历史': 87, '体育': 85, '音乐': 98}\n"
     ]
    }
   ],
   "source": [
    "course_dict = {k:v for k,v in course}\n",
    "print(course_dict)"
   ]
  },
  {
   "cell_type": "code",
   "execution_count": 29,
   "metadata": {},
   "outputs": [
    {
     "name": "stdout",
     "output_type": "stream",
     "text": [
      "[('语文', 85), ('体育', 85), ('历史', 87), ('数学', 90), ('英语', 94), ('音乐', 98)]\n"
     ]
    }
   ],
   "source": [
    "course_sorted = sorted(course_dict.items(),key=lambda x:x[1])\n",
    "print(course_sorted)"
   ]
  },
  {
   "cell_type": "code",
   "execution_count": 30,
   "metadata": {},
   "outputs": [
    {
     "data": {
      "text/plain": [
       "{'语文': 85, '体育': 85, '历史': 87, '数学': 90, '英语': 94, '音乐': 98}"
      ]
     },
     "execution_count": 30,
     "metadata": {},
     "output_type": "execute_result"
    }
   ],
   "source": [
    "{k:v for k,v in course_sorted}"
   ]
  },
  {
   "cell_type": "code",
   "execution_count": 31,
   "metadata": {},
   "outputs": [
    {
     "data": {
      "text/plain": [
       "tuple"
      ]
     },
     "execution_count": 31,
     "metadata": {},
     "output_type": "execute_result"
    }
   ],
   "source": [
    "type(course_sorted[0])"
   ]
  },
  {
   "cell_type": "code",
   "execution_count": 32,
   "metadata": {},
   "outputs": [],
   "source": [
    "course_tuple = (('语文',85),('数学',90),('英语',94),('历史',87),('体育',85),('音乐',98))"
   ]
  },
  {
   "cell_type": "code",
   "execution_count": 33,
   "metadata": {},
   "outputs": [
    {
     "data": {
      "text/plain": [
       "[('语文', 85), ('体育', 85), ('历史', 87), ('数学', 90), ('英语', 94), ('音乐', 98)]"
      ]
     },
     "execution_count": 33,
     "metadata": {},
     "output_type": "execute_result"
    }
   ],
   "source": [
    "sorted(course_tuple,key=lambda x:x[1])"
   ]
  }
 ],
 "metadata": {
  "kernelspec": {
   "display_name": "Python 3",
   "language": "python",
   "name": "python3"
  },
  "language_info": {
   "codemirror_mode": {
    "name": "ipython",
    "version": 3
   },
   "file_extension": ".py",
   "mimetype": "text/x-python",
   "name": "python",
   "nbconvert_exporter": "python",
   "pygments_lexer": "ipython3",
   "version": "3.9.12"
  }
 },
 "nbformat": 4,
 "nbformat_minor": 2
}
