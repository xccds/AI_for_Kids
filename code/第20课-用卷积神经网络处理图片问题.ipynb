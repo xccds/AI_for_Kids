{
 "cells": [
  {
   "cell_type": "markdown",
   "metadata": {},
   "source": [
    "### 本课提纲\n",
    "- 用全连接神经网络判断数字\n",
    "- 用全连接神经网络判断服饰\n",
    "- 卷积神经网络"
   ]
  },
  {
   "cell_type": "markdown",
   "metadata": {},
   "source": [
    "### 1. 用全连接神经网络判断数字"
   ]
  },
  {
   "cell_type": "markdown",
   "metadata": {},
   "source": [
    "在前面的课程中，我们用全连接神经网络建立一个预测模型来预测花的种类，在iris数据中，给定的四个特征都是人工测量计算好的，神经网络将其作为输入特征来汇总计算的。其实神经网络还可以处理更为复杂的工作，例如说，只给出一朵花的图片，能不能直接预测出花的种类呢？这个任务的难点在于，没有告诉计算机特征是什么，需要计算机自己去计算所需要的特征。我们先来看一个简单点的例子，就是给定一个图片，来判断这个图片中的数字是多少。"
   ]
  },
  {
   "cell_type": "markdown",
   "metadata": {},
   "source": [
    "首先仍是加载必要的模块。"
   ]
  },
  {
   "cell_type": "code",
   "execution_count": 3,
   "metadata": {},
   "outputs": [],
   "source": [
    "import torch\n",
    "import torch.nn as nn\n",
    "import torchvision\n",
    "import torchvision.transforms as transforms\n",
    "import matplotlib.pylab as plt\n",
    "%matplotlib inline"
   ]
  },
  {
   "cell_type": "markdown",
   "metadata": {},
   "source": [
    "定义模型的超参数，这里我们输入的图片大小是28\\*28大小的，所以一共包括了784个像素点，也就是784个输入，把这个原始的像素值直接当输入特征。然后我们要输出预测的是从0到9的一共10个数字，所以是一个多分类的问题，具体的讲是10分类。设置的隐层神经元数量是100，循环次数是5次，每个批次的数据是100个，学习率0.001。"
   ]
  },
  {
   "cell_type": "code",
   "execution_count": 4,
   "metadata": {},
   "outputs": [],
   "source": [
    "# Hyper-parameters \n",
    "input_size = 784\n",
    "hidden_size = 100\n",
    "num_classes = 10\n",
    "num_epochs = 5\n",
    "batch_size = 100\n",
    "learning_rate = 0.001"
   ]
  },
  {
   "cell_type": "markdown",
   "metadata": {},
   "source": [
    "读入数据阶段，第一步是构造一个dataset，定义了它的位置和处理步骤。"
   ]
  },
  {
   "cell_type": "code",
   "execution_count": 5,
   "metadata": {},
   "outputs": [],
   "source": [
    "# MNIST dataset \n",
    "train_dataset = torchvision.datasets.MNIST(root='../data/MNIST_data', \n",
    "                                           train=True, \n",
    "                                           transform=transforms.ToTensor(),  \n",
    "                                           download=True)\n",
    "\n",
    "test_dataset = torchvision.datasets.MNIST(root='../data/MNIST_data', \n",
    "                                          train=False, \n",
    "                                          transform=transforms.ToTensor())\n",
    "\n"
   ]
  },
  {
   "cell_type": "markdown",
   "metadata": {},
   "source": [
    "然后再用DataLoader定义数据如何读进来，批次大小，是否进行shuffle等。"
   ]
  },
  {
   "cell_type": "code",
   "execution_count": 6,
   "metadata": {},
   "outputs": [],
   "source": [
    "train_loader = torch.utils.data.DataLoader(dataset=train_dataset, \n",
    "                                           batch_size=batch_size, \n",
    "                                           shuffle=True)\n",
    "\n",
    "test_loader = torch.utils.data.DataLoader(dataset=test_dataset, \n",
    "                                          batch_size=batch_size, \n",
    "                                          shuffle=False)"
   ]
  },
  {
   "cell_type": "markdown",
   "metadata": {},
   "source": [
    "下面我们读入一张图片来试试看。注意train_loader还只是一个迭代器，需要通过一个循环来把数据真正的读进来。"
   ]
  },
  {
   "cell_type": "code",
   "execution_count": 11,
   "metadata": {},
   "outputs": [
    {
     "name": "stdout",
     "output_type": "stream",
     "text": [
      "torch.Size([100, 1, 28, 28])\n",
      "torch.Size([100])\n"
     ]
    },
    {
     "data": {
      "image/png": "[encoded data removed]",
      "text/plain": [
       "<Figure size 432x288 with 1 Axes>"
      ]
     },
     "metadata": {},
     "output_type": "display_data"
    }
   ],
   "source": [
    "for i,(images,labels) in  enumerate(train_loader):\n",
    "    plt.imshow(images[0,0,:,:],cmap='gray');\n",
    "    if i > 1:\n",
    "        print(images.shape)\n",
    "        print(labels.shape)\n",
    "        break"
   ]
  },
  {
   "cell_type": "markdown",
   "metadata": {},
   "source": [
    "然后来定义模型，和之前的一样，我们通过定义一个NeuralNet的类来定义模型内部的处理逻辑。"
   ]
  },
  {
   "cell_type": "code",
   "execution_count": 12,
   "metadata": {},
   "outputs": [],
   "source": [
    "# Fully connected neural network with one hidden layer\n",
    "class NeuralNet(nn.Module):\n",
    "    def __init__(self, input_size, hidden_size, num_classes):\n",
    "        super(NeuralNet, self).__init__()\n",
    "        self.fc1 = nn.Linear(input_size, hidden_size) \n",
    "        self.relu = nn.ReLU()\n",
    "        self.fc2 = nn.Linear(hidden_size, num_classes)  \n",
    "    \n",
    "    def forward(self, x):\n",
    "        out = self.fc1(x)\n",
    "        out = self.relu(out)\n",
    "        out = self.fc2(out)\n",
    "        return out"
   ]
  },
  {
   "cell_type": "code",
   "execution_count": 13,
   "metadata": {},
   "outputs": [],
   "source": [
    "model = NeuralNet(input_size, hidden_size, num_classes)"
   ]
  },
  {
   "cell_type": "markdown",
   "metadata": {},
   "source": [
    "再定义损失函数和优化器。"
   ]
  },
  {
   "cell_type": "code",
   "execution_count": 14,
   "metadata": {},
   "outputs": [],
   "source": [
    "# Loss and optimizer\n",
    "criterion = nn.CrossEntropyLoss()\n",
    "optimizer = torch.optim.Adam(model.parameters(), lr=learning_rate)  \n"
   ]
  },
  {
   "cell_type": "markdown",
   "metadata": {},
   "source": [
    "最后来通过一个循环来训练，循环中包括了数据的读入，模型的前面预测，损失函数的计算，以及关键的参数的优化部分，同时将损失函数打印出来，以便观察。"
   ]
  },
  {
   "cell_type": "code",
   "execution_count": 15,
   "metadata": {},
   "outputs": [
    {
     "name": "stdout",
     "output_type": "stream",
     "text": [
      "Epoch [1/5], Step [100/600], Loss: 0.4890\n",
      "Epoch [1/5], Step [200/600], Loss: 0.3251\n",
      "Epoch [1/5], Step [300/600], Loss: 0.2102\n",
      "Epoch [1/5], Step [400/600], Loss: 0.3010\n",
      "Epoch [1/5], Step [500/600], Loss: 0.2985\n",
      "Epoch [1/5], Step [600/600], Loss: 0.1372\n",
      "Epoch [2/5], Step [100/600], Loss: 0.1911\n",
      "Epoch [2/5], Step [200/600], Loss: 0.2585\n",
      "Epoch [2/5], Step [300/600], Loss: 0.2275\n",
      "Epoch [2/5], Step [400/600], Loss: 0.1556\n",
      "Epoch [2/5], Step [500/600], Loss: 0.1711\n",
      "Epoch [2/5], Step [600/600], Loss: 0.2430\n",
      "Epoch [3/5], Step [100/600], Loss: 0.0881\n",
      "Epoch [3/5], Step [200/600], Loss: 0.1549\n",
      "Epoch [3/5], Step [300/600], Loss: 0.1304\n",
      "Epoch [3/5], Step [400/600], Loss: 0.1202\n",
      "Epoch [3/5], Step [500/600], Loss: 0.1735\n",
      "Epoch [3/5], Step [600/600], Loss: 0.1484\n",
      "Epoch [4/5], Step [100/600], Loss: 0.1397\n",
      "Epoch [4/5], Step [200/600], Loss: 0.1233\n",
      "Epoch [4/5], Step [300/600], Loss: 0.1302\n",
      "Epoch [4/5], Step [400/600], Loss: 0.1807\n",
      "Epoch [4/5], Step [500/600], Loss: 0.1114\n",
      "Epoch [4/5], Step [600/600], Loss: 0.1248\n",
      "Epoch [5/5], Step [100/600], Loss: 0.0450\n",
      "Epoch [5/5], Step [200/600], Loss: 0.0387\n",
      "Epoch [5/5], Step [300/600], Loss: 0.0640\n",
      "Epoch [5/5], Step [400/600], Loss: 0.0906\n",
      "Epoch [5/5], Step [500/600], Loss: 0.1183\n",
      "Epoch [5/5], Step [600/600], Loss: 0.0503\n"
     ]
    }
   ],
   "source": [
    "# Train the model\n",
    "total_step = len(train_loader)\n",
    "for epoch in range(num_epochs):\n",
    "    for i, (images, labels) in enumerate(train_loader):  \n",
    "        images = images.reshape(-1, 28*28)      \n",
    "        # Forward pass\n",
    "        outputs = model(images)\n",
    "        loss = criterion(outputs, labels)\n",
    "        \n",
    "        # Backward and optimize\n",
    "        optimizer.zero_grad()\n",
    "        loss.backward()\n",
    "        optimizer.step()\n",
    "        \n",
    "        if (i+1) % 100 == 0:\n",
    "            print ('Epoch [{}/{}], Step [{}/{}], Loss: {:.4f}' \n",
    "                   .format(epoch+1, num_epochs, i+1, total_step, loss.item()))\n"
   ]
  },
  {
   "cell_type": "markdown",
   "metadata": {},
   "source": [
    "我们在前面课程提到过，通过一个train数据集训练出来的模型，要通过test数据集来评估模型的效果，所以下面的部分是读入test的数据，计算准确率。"
   ]
  },
  {
   "cell_type": "code",
   "execution_count": 16,
   "metadata": {},
   "outputs": [
    {
     "name": "stdout",
     "output_type": "stream",
     "text": [
      "Accuracy of the network on the 10000 test images: 97.18 %\n"
     ]
    }
   ],
   "source": [
    "# In test phase, we don't need to compute gradients (for memory efficiency)\n",
    "with torch.no_grad():\n",
    "    correct = 0\n",
    "    total = 0\n",
    "    for images, labels in test_loader:\n",
    "        images = images.reshape(-1, 28*28)\n",
    "        outputs = model(images)\n",
    "        _, predicted = torch.max(outputs, 1)\n",
    "        total += labels.size(0)\n",
    "        correct += (predicted == labels).sum().item()\n",
    "\n",
    "    print('Accuracy of the network on the 10000 test images: {} %'.format(100 * correct / total))\n"
   ]
  },
  {
   "cell_type": "markdown",
   "metadata": {},
   "source": [
    "### 2.  用全连接神经网络判断服饰类型"
   ]
  },
  {
   "cell_type": "markdown",
   "metadata": {},
   "source": [
    "上面的例子准确率比较高，说明通过图片来判断数字是比较容易的。下面来尝试另一种更为困难的任务，也就是近年来更有趣的一类数据集fasion_mnist，它的每张图片还是28\\*28的大小，不过图片的内容是衣服或是包包这种服饰类的商品，我们来看一下这类数据建模怎么来做。"
   ]
  },
  {
   "cell_type": "markdown",
   "metadata": {},
   "source": [
    "和之前的mnist一样，建立数据加载器，看其中一张图片看看。"
   ]
  },
  {
   "cell_type": "code",
   "execution_count": 19,
   "metadata": {},
   "outputs": [],
   "source": [
    "# MNIST dataset \n",
    "train_dataset = torchvision.datasets.FashionMNIST(root='../data/fasion_mnist', \n",
    "                                           train=True, \n",
    "                                           transform=transforms.ToTensor(),  \n",
    "                                           download=True)\n",
    "\n",
    "test_dataset = torchvision.datasets.FashionMNIST(root='../data/fasion_mnist', \n",
    "                                          train=False, \n",
    "                                          transform=transforms.ToTensor())\n",
    "\n"
   ]
  },
  {
   "cell_type": "code",
   "execution_count": 20,
   "metadata": {},
   "outputs": [],
   "source": [
    "train_loader = torch.utils.data.DataLoader(dataset=train_dataset, \n",
    "                                           batch_size=batch_size, \n",
    "                                           shuffle=True)\n",
    "\n",
    "test_loader = torch.utils.data.DataLoader(dataset=test_dataset, \n",
    "                                          batch_size=batch_size, \n",
    "                                          shuffle=False)"
   ]
  },
  {
   "cell_type": "code",
   "execution_count": 22,
   "metadata": {},
   "outputs": [
    {
     "name": "stdout",
     "output_type": "stream",
     "text": [
      "torch.Size([100, 1, 28, 28])\n",
      "torch.Size([100])\n"
     ]
    },
    {
     "data": {
      "image/png": "[encoded data removed]",
      "text/plain": [
       "<Figure size 432x288 with 1 Axes>"
      ]
     },
     "metadata": {},
     "output_type": "display_data"
    }
   ],
   "source": [
    "for i,(images,labels) in  enumerate(train_loader):\n",
    "    plt.imshow(images[0,0,:,:],cmap='gray');\n",
    "    if i > 1:\n",
    "        print(images.shape)\n",
    "        print(labels.shape)\n",
    "        break"
   ]
  },
  {
   "cell_type": "markdown",
   "metadata": {},
   "source": [
    "定义的模型和之前一样，只不过重新实例化了另一个对象model_fashion"
   ]
  },
  {
   "cell_type": "code",
   "execution_count": 23,
   "metadata": {},
   "outputs": [],
   "source": [
    "model_fashion = NeuralNet(input_size, hidden_size, num_classes)\n",
    "# Loss and optimizer\n",
    "criterion = nn.CrossEntropyLoss()\n",
    "optimizer = torch.optim.Adam(model_fashion.parameters(), lr=learning_rate)  \n"
   ]
  },
  {
   "cell_type": "markdown",
   "metadata": {},
   "source": [
    "仍然是和前面例子类似的，用循环来训练。"
   ]
  },
  {
   "cell_type": "code",
   "execution_count": 24,
   "metadata": {},
   "outputs": [
    {
     "name": "stdout",
     "output_type": "stream",
     "text": [
      "Epoch [1/5], Step [100/600], Loss: 13.1476\n",
      "Epoch [1/5], Step [200/600], Loss: 13.7066\n",
      "Epoch [1/5], Step [300/600], Loss: 14.1717\n",
      "Epoch [1/5], Step [400/600], Loss: 13.8150\n",
      "Epoch [1/5], Step [500/600], Loss: 13.7365\n",
      "Epoch [1/5], Step [600/600], Loss: 12.2478\n",
      "Epoch [2/5], Step [100/600], Loss: 11.5349\n",
      "Epoch [2/5], Step [200/600], Loss: 15.2318\n",
      "Epoch [2/5], Step [300/600], Loss: 14.3791\n",
      "Epoch [2/5], Step [400/600], Loss: 13.6485\n",
      "Epoch [2/5], Step [500/600], Loss: 11.0129\n",
      "Epoch [2/5], Step [600/600], Loss: 13.0348\n",
      "Epoch [3/5], Step [100/600], Loss: 15.1056\n",
      "Epoch [3/5], Step [200/600], Loss: 12.5000\n",
      "Epoch [3/5], Step [300/600], Loss: 11.1531\n",
      "Epoch [3/5], Step [400/600], Loss: 13.3600\n",
      "Epoch [3/5], Step [500/600], Loss: 12.9815\n",
      "Epoch [3/5], Step [600/600], Loss: 11.3262\n",
      "Epoch [4/5], Step [100/600], Loss: 13.1235\n",
      "Epoch [4/5], Step [200/600], Loss: 11.5473\n",
      "Epoch [4/5], Step [300/600], Loss: 12.0653\n",
      "Epoch [4/5], Step [400/600], Loss: 13.2928\n",
      "Epoch [4/5], Step [500/600], Loss: 13.9749\n",
      "Epoch [4/5], Step [600/600], Loss: 11.9461\n",
      "Epoch [5/5], Step [100/600], Loss: 11.1002\n",
      "Epoch [5/5], Step [200/600], Loss: 12.3595\n",
      "Epoch [5/5], Step [300/600], Loss: 13.1775\n",
      "Epoch [5/5], Step [400/600], Loss: 11.8382\n",
      "Epoch [5/5], Step [500/600], Loss: 12.0068\n",
      "Epoch [5/5], Step [600/600], Loss: 12.3299\n"
     ]
    }
   ],
   "source": [
    "# Train the model\n",
    "total_step = len(train_loader)\n",
    "for epoch in range(num_epochs):\n",
    "    for i, (images, labels) in enumerate(train_loader):  \n",
    "        images = images.reshape(-1, 28*28)      \n",
    "        # Forward pass\n",
    "        outputs = model(images)\n",
    "        loss = criterion(outputs, labels)\n",
    "        \n",
    "        # Backward and optimize\n",
    "        optimizer.zero_grad()\n",
    "        loss.backward()\n",
    "        optimizer.step()\n",
    "        \n",
    "        if (i+1) % 100 == 0:\n",
    "            print ('Epoch [{}/{}], Step [{}/{}], Loss: {:.4f}' \n",
    "                   .format(epoch+1, num_epochs, i+1, total_step, loss.item()))"
   ]
  },
  {
   "cell_type": "code",
   "execution_count": 25,
   "metadata": {},
   "outputs": [
    {
     "name": "stdout",
     "output_type": "stream",
     "text": [
      "Accuracy of the network on the 10000 test images: 11.92 %\n"
     ]
    }
   ],
   "source": [
    "# In test phase, we don't need to compute gradients (for memory efficiency)\n",
    "with torch.no_grad():\n",
    "    correct = 0\n",
    "    total = 0\n",
    "    for images, labels in test_loader:\n",
    "        images = images.reshape(-1, 28*28)\n",
    "        outputs = model(images)\n",
    "        _, predicted = torch.max(outputs, 1)\n",
    "        total += labels.size(0)\n",
    "        correct += (predicted == labels).sum().item()\n",
    "\n",
    "    print('Accuracy of the network on the 10000 test images: {} %'.format(100 * correct / total))\n"
   ]
  },
  {
   "cell_type": "markdown",
   "metadata": {},
   "source": [
    "可以看到，在这个数据集中，神经网络的方法就很差了，准确率只有11%多一点。"
   ]
  },
  {
   "cell_type": "markdown",
   "metadata": {},
   "source": [
    "### 3. 用卷积神经网络判断服饰"
   ]
  },
  {
   "cell_type": "markdown",
   "metadata": {},
   "source": [
    "看来普通的神经网络无法很好的判断复杂的图片分类，下面我们使用更先进的一种神经网络，名字叫作卷积神经网络。"
   ]
  },
  {
   "cell_type": "code",
   "execution_count": 28,
   "metadata": {},
   "outputs": [],
   "source": [
    "# Hyper-parameters \n",
    "num_epochs = 5\n",
    "num_classes = 10\n",
    "batch_size = 100\n",
    "learning_rate = 0.001"
   ]
  },
  {
   "cell_type": "markdown",
   "metadata": {},
   "source": [
    "定义模型的计算逻辑，这里面的forward函数中，首先是一个卷积层，再经过relu激活，再过MaxPool池化层"
   ]
  },
  {
   "cell_type": "code",
   "execution_count": 29,
   "metadata": {},
   "outputs": [],
   "source": [
    "# Convolutional neural network (two convolutional layers)\n",
    "class ConvNet(nn.Module):\n",
    "    def __init__(self, num_classes=10):\n",
    "        super(ConvNet, self).__init__()\n",
    "        self.cnn_layer = nn.Sequential(\n",
    "            nn.Conv2d(1, 32, kernel_size=5, stride=1, padding=2),\n",
    "            #nn.BatchNorm2d(16),\n",
    "            nn.ReLU(),\n",
    "            nn.MaxPool2d(kernel_size=2, stride=2))\n",
    "        self.fc = nn.Linear(14*14*32, num_classes)\n",
    "        \n",
    "    def forward(self, x):\n",
    "        out = self.cnn_layer(x)\n",
    "        out = out.reshape(out.size(0), -1)\n",
    "        out = self.fc(out)\n",
    "        return out\n"
   ]
  },
  {
   "cell_type": "code",
   "execution_count": 30,
   "metadata": {},
   "outputs": [],
   "source": [
    "model_fashion_cnn = ConvNet(num_classes)\n",
    "criterion = nn.CrossEntropyLoss()\n",
    "optimizer = torch.optim.Adam(model_fashion_cnn.parameters(), lr=learning_rate)"
   ]
  },
  {
   "cell_type": "code",
   "execution_count": 31,
   "metadata": {},
   "outputs": [
    {
     "name": "stdout",
     "output_type": "stream",
     "text": [
      "Epoch [1/5], Step [100/600], Loss: 0.5589\n",
      "Epoch [1/5], Step [200/600], Loss: 0.3763\n",
      "Epoch [1/5], Step [300/600], Loss: 0.3162\n",
      "Epoch [1/5], Step [400/600], Loss: 0.4692\n",
      "Epoch [1/5], Step [500/600], Loss: 0.3033\n",
      "Epoch [1/5], Step [600/600], Loss: 0.5682\n",
      "Epoch [2/5], Step [100/600], Loss: 0.4172\n",
      "Epoch [2/5], Step [200/600], Loss: 0.2394\n",
      "Epoch [2/5], Step [300/600], Loss: 0.4025\n",
      "Epoch [2/5], Step [400/600], Loss: 0.3059\n",
      "Epoch [2/5], Step [500/600], Loss: 0.2511\n",
      "Epoch [2/5], Step [600/600], Loss: 0.2924\n",
      "Epoch [3/5], Step [100/600], Loss: 0.3527\n",
      "Epoch [3/5], Step [200/600], Loss: 0.1705\n",
      "Epoch [3/5], Step [300/600], Loss: 0.4035\n",
      "Epoch [3/5], Step [400/600], Loss: 0.3289\n",
      "Epoch [3/5], Step [500/600], Loss: 0.3138\n",
      "Epoch [3/5], Step [600/600], Loss: 0.1943\n",
      "Epoch [4/5], Step [100/600], Loss: 0.2992\n",
      "Epoch [4/5], Step [200/600], Loss: 0.1685\n",
      "Epoch [4/5], Step [300/600], Loss: 0.2352\n",
      "Epoch [4/5], Step [400/600], Loss: 0.3416\n",
      "Epoch [4/5], Step [500/600], Loss: 0.2717\n",
      "Epoch [4/5], Step [600/600], Loss: 0.2839\n",
      "Epoch [5/5], Step [100/600], Loss: 0.2686\n",
      "Epoch [5/5], Step [200/600], Loss: 0.2972\n",
      "Epoch [5/5], Step [300/600], Loss: 0.1245\n",
      "Epoch [5/5], Step [400/600], Loss: 0.1621\n",
      "Epoch [5/5], Step [500/600], Loss: 0.1828\n",
      "Epoch [5/5], Step [600/600], Loss: 0.2116\n"
     ]
    }
   ],
   "source": [
    "total_step = len(train_loader)\n",
    "for epoch in range(num_epochs):\n",
    "    for i, (images, labels) in enumerate(train_loader):\n",
    "        \n",
    "        # Forward pass\n",
    "        outputs = model_fashion_cnn(images)\n",
    "        loss = criterion(outputs, labels)\n",
    "        \n",
    "        # Backward and optimize\n",
    "        optimizer.zero_grad()\n",
    "        loss.backward()\n",
    "        optimizer.step()\n",
    "        \n",
    "        if (i+1) % 100 == 0:\n",
    "            print ('Epoch [{}/{}], Step [{}/{}], Loss: {:.4f}' \n",
    "                   .format(epoch+1, num_epochs, i+1, total_step, loss.item()))\n"
   ]
  },
  {
   "cell_type": "code",
   "execution_count": 32,
   "metadata": {},
   "outputs": [
    {
     "name": "stdout",
     "output_type": "stream",
     "text": [
      "Test Accuracy of the model on the 10000 test images: 89.45 %\n"
     ]
    }
   ],
   "source": [
    "with torch.no_grad():\n",
    "    correct = 0\n",
    "    total = 0\n",
    "    for images, labels in test_loader:\n",
    "        outputs = model_fashion_cnn(images)\n",
    "        _, predicted = torch.max(outputs.data, 1)\n",
    "        total += labels.size(0)\n",
    "        correct += (predicted == labels).sum().item()\n",
    "\n",
    "    print('Test Accuracy of the model on the 10000 test images: {} %'.format(100 * correct / total))\n"
   ]
  },
  {
   "cell_type": "markdown",
   "metadata": {},
   "source": [
    "### 本课小结：\n",
    "- 本课学习了神经网络在图片领域的应用，在数字识别上，全连接神经网络效果不错，但是在服饰识别上却效果不佳。\n",
    "- 所以引入了卷积神经网络，它的优点是对图片上的模式识别能力更强，泛化能力更好。"
   ]
  }
 ],
 "metadata": {
  "kernelspec": {
   "display_name": "Python 3",
   "language": "python",
   "name": "python3"
  },
  "language_info": {
   "codemirror_mode": {
    "name": "ipython",
    "version": 3
   },
   "file_extension": ".py",
   "mimetype": "text/x-python",
   "name": "python",
   "nbconvert_exporter": "python",
   "pygments_lexer": "ipython3",
   "version": "3.6.5"
  }
 },
 "nbformat": 4,
 "nbformat_minor": 2
}
