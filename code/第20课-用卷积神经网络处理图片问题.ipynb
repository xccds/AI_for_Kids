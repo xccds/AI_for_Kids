{
 "cells": [
  {
   "cell_type": "markdown",
   "metadata": {},
   "source": [
    "### 1. 用全连接神经网络判断数字"
   ]
  },
  {
   "cell_type": "code",
   "execution_count": 1,
   "metadata": {},
   "outputs": [],
   "source": [
    "import torch\n",
    "import torch.nn as nn\n",
    "import torchvision\n",
    "import torchvision.transforms as transforms\n",
    "import matplotlib.pylab as plt\n",
    "%matplotlib inline"
   ]
  },
  {
   "cell_type": "code",
   "execution_count": 2,
   "metadata": {},
   "outputs": [],
   "source": [
    "\n",
    "input_size = 784\n",
    "hidden_size = 100\n",
    "num_classes = 10\n",
    "num_epochs = 5\n",
    "batch_size = 100\n",
    "learning_rate = 0.001"
   ]
  },
  {
   "cell_type": "code",
   "execution_count": 4,
   "metadata": {},
   "outputs": [],
   "source": [
    "# 加载MNIST数据 \n",
    "train_dataset = torchvision.datasets.MNIST(root='../data/MNIST_data', \n",
    "                                           train=True, \n",
    "                                           transform=transforms.ToTensor(),  \n",
    "                                           download=True)\n",
    "\n",
    "test_dataset = torchvision.datasets.MNIST(root='../data/MNIST_data', \n",
    "                                          train=False, \n",
    "                                          transform=transforms.ToTensor())\n",
    "\n"
   ]
  },
  {
   "cell_type": "code",
   "execution_count": 5,
   "metadata": {},
   "outputs": [],
   "source": [
    "train_loader = torch.utils.data.DataLoader(dataset=train_dataset, \n",
    "                                           batch_size=batch_size, \n",
    "                                           shuffle=True)\n",
    "\n",
    "test_loader = torch.utils.data.DataLoader(dataset=test_dataset, \n",
    "                                          batch_size=batch_size, \n",
    "                                          shuffle=False)"
   ]
  },
  {
   "cell_type": "code",
   "execution_count": 6,
   "metadata": {},
   "outputs": [
    {
     "name": "stdout",
     "output_type": "stream",
     "text": [
      "torch.Size([100, 1, 28, 28])\n",
      "torch.Size([100])\n"
     ]
    },
    {
     "data": {
      "image/png": "[encoded data removed]",
      "text/plain": [
       "<Figure size 432x288 with 1 Axes>"
      ]
     },
     "metadata": {
      "needs_background": "light"
     },
     "output_type": "display_data"
    }
   ],
   "source": [
    "for i,(images,labels) in  enumerate(train_loader):\n",
    "    plt.imshow(images[0,0,:,:],cmap='gray');\n",
    "    if i > 1:\n",
    "        print(images.shape)\n",
    "        print(labels.shape)\n",
    "        break"
   ]
  },
  {
   "cell_type": "code",
   "execution_count": 7,
   "metadata": {},
   "outputs": [],
   "source": [
    "\n",
    "class NeuralNet(nn.Module):\n",
    "    def __init__(self, input_size, hidden_size, num_classes):\n",
    "        super(NeuralNet, self).__init__()\n",
    "        self.fc1 = nn.Linear(input_size, hidden_size) \n",
    "        self.relu = nn.ReLU()\n",
    "        self.fc2 = nn.Linear(hidden_size, num_classes)  \n",
    "    \n",
    "    def forward(self, x):\n",
    "        out = self.fc1(x)\n",
    "        out = self.relu(out)\n",
    "        out = self.fc2(out)\n",
    "        return out"
   ]
  },
  {
   "cell_type": "code",
   "execution_count": 8,
   "metadata": {},
   "outputs": [],
   "source": [
    "model = NeuralNet(input_size, hidden_size, num_classes)"
   ]
  },
  {
   "cell_type": "code",
   "execution_count": 9,
   "metadata": {},
   "outputs": [],
   "source": [
    "# Loss and optimizer\n",
    "criterion = nn.CrossEntropyLoss()\n",
    "optimizer = torch.optim.Adam(model.parameters(), lr=learning_rate)  \n"
   ]
  },
  {
   "cell_type": "code",
   "execution_count": 10,
   "metadata": {},
   "outputs": [
    {
     "name": "stdout",
     "output_type": "stream",
     "text": [
      "Epoch [1/5], Step [100/600], Loss: 0.4234\n",
      "Epoch [1/5], Step [200/600], Loss: 0.3023\n",
      "Epoch [1/5], Step [300/600], Loss: 0.2520\n",
      "Epoch [1/5], Step [400/600], Loss: 0.3481\n",
      "Epoch [1/5], Step [500/600], Loss: 0.3420\n",
      "Epoch [1/5], Step [600/600], Loss: 0.1613\n",
      "Epoch [2/5], Step [100/600], Loss: 0.4105\n",
      "Epoch [2/5], Step [200/600], Loss: 0.2096\n",
      "Epoch [2/5], Step [300/600], Loss: 0.1796\n",
      "Epoch [2/5], Step [400/600], Loss: 0.2246\n",
      "Epoch [2/5], Step [500/600], Loss: 0.1260\n",
      "Epoch [2/5], Step [600/600], Loss: 0.0974\n",
      "Epoch [3/5], Step [100/600], Loss: 0.1663\n",
      "Epoch [3/5], Step [200/600], Loss: 0.0961\n",
      "Epoch [3/5], Step [300/600], Loss: 0.1397\n",
      "Epoch [3/5], Step [400/600], Loss: 0.1200\n",
      "Epoch [3/5], Step [500/600], Loss: 0.2421\n",
      "Epoch [3/5], Step [600/600], Loss: 0.1765\n",
      "Epoch [4/5], Step [100/600], Loss: 0.1747\n",
      "Epoch [4/5], Step [200/600], Loss: 0.1071\n",
      "Epoch [4/5], Step [300/600], Loss: 0.0898\n",
      "Epoch [4/5], Step [400/600], Loss: 0.1309\n",
      "Epoch [4/5], Step [500/600], Loss: 0.0748\n",
      "Epoch [4/5], Step [600/600], Loss: 0.0971\n",
      "Epoch [5/5], Step [100/600], Loss: 0.0772\n",
      "Epoch [5/5], Step [200/600], Loss: 0.0638\n",
      "Epoch [5/5], Step [300/600], Loss: 0.0940\n",
      "Epoch [5/5], Step [400/600], Loss: 0.0462\n",
      "Epoch [5/5], Step [500/600], Loss: 0.1702\n",
      "Epoch [5/5], Step [600/600], Loss: 0.0300\n"
     ]
    }
   ],
   "source": [
    "\n",
    "total_step = len(train_loader)\n",
    "for epoch in range(num_epochs):\n",
    "    for i, (images, labels) in enumerate(train_loader):  \n",
    "        images = images.reshape(-1, 28*28)      \n",
    "\n",
    "        outputs = model(images)\n",
    "        loss = criterion(outputs, labels)\n",
    "        \n",
    "        optimizer.zero_grad()\n",
    "        loss.backward()\n",
    "        optimizer.step()\n",
    "        \n",
    "        if (i+1) % 100 == 0:\n",
    "            print ('Epoch [{}/{}], Step [{}/{}], Loss: {:.4f}' \n",
    "                   .format(epoch+1, num_epochs, i+1, total_step, loss.item()))\n"
   ]
  },
  {
   "cell_type": "code",
   "execution_count": 11,
   "metadata": {},
   "outputs": [
    {
     "name": "stdout",
     "output_type": "stream",
     "text": [
      "Accuracy of the network on the 10000 test images: 97.19 %\n"
     ]
    }
   ],
   "source": [
    "\n",
    "with torch.no_grad():\n",
    "    correct = 0\n",
    "    total = 0\n",
    "    for images, labels in test_loader:\n",
    "        images = images.reshape(-1, 28*28)\n",
    "        outputs = model(images)\n",
    "        _, predicted = torch.max(outputs, 1)\n",
    "        total += labels.size(0)\n",
    "        correct += (predicted == labels).sum().item()\n",
    "\n",
    "    print('Accuracy of the network on the 10000 test images: {} %'.format(100 * correct / total))\n"
   ]
  },
  {
   "cell_type": "markdown",
   "metadata": {},
   "source": [
    "### 2.  用全连接神经网络判断服饰类型"
   ]
  },
  {
   "cell_type": "code",
   "execution_count": 13,
   "metadata": {},
   "outputs": [],
   "source": [
    "# MNIST dataset \n",
    "train_dataset = torchvision.datasets.FashionMNIST(root='../data/fasion_mnist', \n",
    "                                           train=True, \n",
    "                                           transform=transforms.ToTensor(),  \n",
    "                                           download=True)\n",
    "\n",
    "test_dataset = torchvision.datasets.FashionMNIST(root='../data/fasion_mnist', \n",
    "                                          train=False, \n",
    "                                          transform=transforms.ToTensor())\n",
    "\n"
   ]
  },
  {
   "cell_type": "code",
   "execution_count": 14,
   "metadata": {},
   "outputs": [],
   "source": [
    "train_loader = torch.utils.data.DataLoader(dataset=train_dataset, \n",
    "                                           batch_size=batch_size, \n",
    "                                           shuffle=True)\n",
    "\n",
    "test_loader = torch.utils.data.DataLoader(dataset=test_dataset, \n",
    "                                          batch_size=batch_size, \n",
    "                                          shuffle=False)"
   ]
  },
  {
   "cell_type": "code",
   "execution_count": 15,
   "metadata": {},
   "outputs": [
    {
     "name": "stdout",
     "output_type": "stream",
     "text": [
      "torch.Size([100, 1, 28, 28])\n",
      "torch.Size([100])\n"
     ]
    },
    {
     "data": {
      "image/png": "[encoded data removed]",
      "text/plain": [
       "<Figure size 432x288 with 1 Axes>"
      ]
     },
     "metadata": {
      "needs_background": "light"
     },
     "output_type": "display_data"
    }
   ],
   "source": [
    "for i,(images,labels) in  enumerate(train_loader):\n",
    "    plt.imshow(images[0,0,:,:],cmap='gray');\n",
    "    if i > 1:\n",
    "        print(images.shape)\n",
    "        print(labels.shape)\n",
    "        break"
   ]
  },
  {
   "cell_type": "code",
   "execution_count": 16,
   "metadata": {},
   "outputs": [],
   "source": [
    "model_fashion = NeuralNet(input_size, hidden_size, num_classes)\n",
    "\n",
    "criterion = nn.CrossEntropyLoss()\n",
    "optimizer = torch.optim.Adam(model_fashion.parameters(), lr=learning_rate)  \n"
   ]
  },
  {
   "cell_type": "code",
   "execution_count": 17,
   "metadata": {},
   "outputs": [
    {
     "name": "stdout",
     "output_type": "stream",
     "text": [
      "Epoch [1/5], Step [100/600], Loss: 11.9489\n",
      "Epoch [1/5], Step [200/600], Loss: 13.1135\n",
      "Epoch [1/5], Step [300/600], Loss: 13.5063\n",
      "Epoch [1/5], Step [400/600], Loss: 12.8764\n",
      "Epoch [1/5], Step [500/600], Loss: 14.5751\n",
      "Epoch [1/5], Step [600/600], Loss: 12.2308\n",
      "Epoch [2/5], Step [100/600], Loss: 10.4673\n",
      "Epoch [2/5], Step [200/600], Loss: 12.6565\n",
      "Epoch [2/5], Step [300/600], Loss: 12.4745\n",
      "Epoch [2/5], Step [400/600], Loss: 10.6528\n",
      "Epoch [2/5], Step [500/600], Loss: 9.5800\n",
      "Epoch [2/5], Step [600/600], Loss: 11.9939\n",
      "Epoch [3/5], Step [100/600], Loss: 12.0565\n",
      "Epoch [3/5], Step [200/600], Loss: 12.3040\n",
      "Epoch [3/5], Step [300/600], Loss: 10.8829\n",
      "Epoch [3/5], Step [400/600], Loss: 12.0260\n",
      "Epoch [3/5], Step [500/600], Loss: 11.3427\n",
      "Epoch [3/5], Step [600/600], Loss: 14.3680\n",
      "Epoch [4/5], Step [100/600], Loss: 11.5003\n",
      "Epoch [4/5], Step [200/600], Loss: 11.8644\n",
      "Epoch [4/5], Step [300/600], Loss: 13.1873\n",
      "Epoch [4/5], Step [400/600], Loss: 13.0958\n",
      "Epoch [4/5], Step [500/600], Loss: 11.6420\n",
      "Epoch [4/5], Step [600/600], Loss: 12.6640\n",
      "Epoch [5/5], Step [100/600], Loss: 12.1797\n",
      "Epoch [5/5], Step [200/600], Loss: 10.4746\n",
      "Epoch [5/5], Step [300/600], Loss: 11.7386\n",
      "Epoch [5/5], Step [400/600], Loss: 12.4845\n",
      "Epoch [5/5], Step [500/600], Loss: 11.8010\n",
      "Epoch [5/5], Step [600/600], Loss: 13.9974\n"
     ]
    }
   ],
   "source": [
    "\n",
    "total_step = len(train_loader)\n",
    "for epoch in range(num_epochs):\n",
    "    for i, (images, labels) in enumerate(train_loader):  \n",
    "        images = images.reshape(-1, 28*28)      \n",
    "\n",
    "        outputs = model(images)\n",
    "        loss = criterion(outputs, labels)\n",
    "        \n",
    "\n",
    "        optimizer.zero_grad()\n",
    "        loss.backward()\n",
    "        optimizer.step()\n",
    "        \n",
    "        if (i+1) % 100 == 0:\n",
    "            print ('Epoch [{}/{}], Step [{}/{}], Loss: {:.4f}' \n",
    "                   .format(epoch+1, num_epochs, i+1, total_step, loss.item()))"
   ]
  },
  {
   "cell_type": "code",
   "execution_count": 18,
   "metadata": {},
   "outputs": [
    {
     "name": "stdout",
     "output_type": "stream",
     "text": [
      "Accuracy of the network on the 10000 test images: 7.65 %\n"
     ]
    }
   ],
   "source": [
    "\n",
    "with torch.no_grad():\n",
    "    correct = 0\n",
    "    total = 0\n",
    "    for images, labels in test_loader:\n",
    "        images = images.reshape(-1, 28*28)\n",
    "        outputs = model(images)\n",
    "        _, predicted = torch.max(outputs, 1)\n",
    "        total += labels.size(0)\n",
    "        correct += (predicted == labels).sum().item()\n",
    "\n",
    "    print('Accuracy of the network on the 10000 test images: {} %'.format(100 * correct / total))\n"
   ]
  },
  {
   "cell_type": "markdown",
   "metadata": {},
   "source": [
    "### 3. 用卷积神经网络判断服饰"
   ]
  },
  {
   "cell_type": "code",
   "execution_count": 19,
   "metadata": {},
   "outputs": [],
   "source": [
    "\n",
    "num_epochs = 5\n",
    "num_classes = 10\n",
    "batch_size = 100\n",
    "learning_rate = 0.001"
   ]
  },
  {
   "cell_type": "code",
   "execution_count": 20,
   "metadata": {},
   "outputs": [],
   "source": [
    "\n",
    "class ConvNet(nn.Module):\n",
    "    def __init__(self, num_classes=10):\n",
    "        super(ConvNet, self).__init__()\n",
    "        self.cnn_layer = nn.Sequential(\n",
    "            nn.Conv2d(1, 32, kernel_size=5, stride=1, padding=2),\n",
    "            nn.ReLU(),\n",
    "            nn.MaxPool2d(kernel_size=2, stride=2))\n",
    "        self.fc = nn.Linear(14*14*32, num_classes)\n",
    "        \n",
    "    def forward(self, x):\n",
    "        out = self.cnn_layer(x)\n",
    "        out = out.reshape(out.size(0), -1)\n",
    "        out = self.fc(out)\n",
    "        return out\n"
   ]
  },
  {
   "cell_type": "code",
   "execution_count": 21,
   "metadata": {},
   "outputs": [],
   "source": [
    "model_fashion_cnn = ConvNet(num_classes)\n",
    "criterion = nn.CrossEntropyLoss()\n",
    "optimizer = torch.optim.Adam(model_fashion_cnn.parameters(), lr=learning_rate)"
   ]
  },
  {
   "cell_type": "code",
   "execution_count": 22,
   "metadata": {},
   "outputs": [
    {
     "name": "stdout",
     "output_type": "stream",
     "text": [
      "Epoch [1/5], Step [100/600], Loss: 0.4598\n",
      "Epoch [1/5], Step [200/600], Loss: 0.5903\n",
      "Epoch [1/5], Step [300/600], Loss: 0.3828\n",
      "Epoch [1/5], Step [400/600], Loss: 0.4964\n",
      "Epoch [1/5], Step [500/600], Loss: 0.3470\n",
      "Epoch [1/5], Step [600/600], Loss: 0.3416\n",
      "Epoch [2/5], Step [100/600], Loss: 0.3006\n",
      "Epoch [2/5], Step [200/600], Loss: 0.3538\n",
      "Epoch [2/5], Step [300/600], Loss: 0.5296\n",
      "Epoch [2/5], Step [400/600], Loss: 0.2037\n",
      "Epoch [2/5], Step [500/600], Loss: 0.1881\n",
      "Epoch [2/5], Step [600/600], Loss: 0.2037\n",
      "Epoch [3/5], Step [100/600], Loss: 0.3125\n",
      "Epoch [3/5], Step [200/600], Loss: 0.3285\n",
      "Epoch [3/5], Step [300/600], Loss: 0.2498\n",
      "Epoch [3/5], Step [400/600], Loss: 0.2975\n",
      "Epoch [3/5], Step [500/600], Loss: 0.3747\n",
      "Epoch [3/5], Step [600/600], Loss: 0.3266\n",
      "Epoch [4/5], Step [100/600], Loss: 0.3912\n",
      "Epoch [4/5], Step [200/600], Loss: 0.3139\n",
      "Epoch [4/5], Step [300/600], Loss: 0.2289\n",
      "Epoch [4/5], Step [400/600], Loss: 0.2697\n",
      "Epoch [4/5], Step [500/600], Loss: 0.2292\n",
      "Epoch [4/5], Step [600/600], Loss: 0.2842\n",
      "Epoch [5/5], Step [100/600], Loss: 0.3449\n",
      "Epoch [5/5], Step [200/600], Loss: 0.2159\n",
      "Epoch [5/5], Step [300/600], Loss: 0.2130\n",
      "Epoch [5/5], Step [400/600], Loss: 0.2445\n",
      "Epoch [5/5], Step [500/600], Loss: 0.1951\n",
      "Epoch [5/5], Step [600/600], Loss: 0.3480\n"
     ]
    }
   ],
   "source": [
    "total_step = len(train_loader)\n",
    "for epoch in range(num_epochs):\n",
    "    for i, (images, labels) in enumerate(train_loader):\n",
    "        \n",
    "        outputs = model_fashion_cnn(images)\n",
    "        loss = criterion(outputs, labels)\n",
    "        \n",
    "        optimizer.zero_grad()\n",
    "        loss.backward()\n",
    "        optimizer.step()\n",
    "        \n",
    "        if (i+1) % 100 == 0:\n",
    "            print ('Epoch [{}/{}], Step [{}/{}], Loss: {:.4f}' \n",
    "                   .format(epoch+1, num_epochs, i+1, total_step, loss.item()))\n"
   ]
  },
  {
   "cell_type": "code",
   "execution_count": 23,
   "metadata": {},
   "outputs": [
    {
     "name": "stdout",
     "output_type": "stream",
     "text": [
      "Test Accuracy of the model on the 10000 test images: 90.06 %\n"
     ]
    }
   ],
   "source": [
    "with torch.no_grad():\n",
    "    correct = 0\n",
    "    total = 0\n",
    "    for images, labels in test_loader:\n",
    "        outputs = model_fashion_cnn(images)\n",
    "        _, predicted = torch.max(outputs.data, 1)\n",
    "        total += labels.size(0)\n",
    "        correct += (predicted == labels).sum().item()\n",
    "\n",
    "    print('Test Accuracy of the model on the 10000 test images: {} %'.format(100 * correct / total))\n"
   ]
  }
 ],
 "metadata": {
  "kernelspec": {
   "display_name": "Python 3",
   "language": "python",
   "name": "python3"
  },
  "language_info": {
   "codemirror_mode": {
    "name": "ipython",
    "version": 3
   },
   "file_extension": ".py",
   "mimetype": "text/x-python",
   "name": "python",
   "nbconvert_exporter": "python",
   "pygments_lexer": "ipython3",
   "version": "3.9.12"
  }
 },
 "nbformat": 4,
 "nbformat_minor": 2
}
