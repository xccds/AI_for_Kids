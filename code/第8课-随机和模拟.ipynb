{
 "cells": [
  {
   "cell_type": "markdown",
   "metadata": {},
   "source": [
    "### 2. 骰子的模拟"
   ]
  },
  {
   "cell_type": "code",
   "execution_count": 1,
   "metadata": {},
   "outputs": [],
   "source": [
    "import numpy as np\n",
    "import  numpy.random as rd"
   ]
  },
  {
   "cell_type": "code",
   "execution_count": 3,
   "metadata": {},
   "outputs": [
    {
     "data": {
      "text/plain": [
       "5"
      ]
     },
     "execution_count": 3,
     "metadata": {},
     "output_type": "execute_result"
    }
   ],
   "source": [
    "rd.randint(1,7)"
   ]
  },
  {
   "cell_type": "code",
   "execution_count": 4,
   "metadata": {},
   "outputs": [
    {
     "data": {
      "text/plain": [
       "4"
      ]
     },
     "execution_count": 4,
     "metadata": {},
     "output_type": "execute_result"
    }
   ],
   "source": [
    "number = [1,2,3,4,5,6]\n",
    "rd.choice(number)"
   ]
  },
  {
   "cell_type": "code",
   "execution_count": 5,
   "metadata": {},
   "outputs": [
    {
     "data": {
      "text/plain": [
       "array([2, 5, 4, 5, 6, 1, 3, 6, 4, 2])"
      ]
     },
     "execution_count": 5,
     "metadata": {},
     "output_type": "execute_result"
    }
   ],
   "source": [
    "dies = rd.randint(1,7,10)\n",
    "dies"
   ]
  },
  {
   "cell_type": "code",
   "execution_count": 6,
   "metadata": {},
   "outputs": [
    {
     "data": {
      "text/plain": [
       "array([4, 1, 3, 6, 4, 5, 6, 4, 4, 3])"
      ]
     },
     "execution_count": 6,
     "metadata": {},
     "output_type": "execute_result"
    }
   ],
   "source": [
    "number = [1,2,3,4,5,6]\n",
    "dies = rd.choice(number,10)\n",
    "dies"
   ]
  },
  {
   "cell_type": "code",
   "execution_count": 7,
   "metadata": {},
   "outputs": [],
   "source": [
    "dies = rd.randint(1,7,10000)"
   ]
  },
  {
   "cell_type": "code",
   "execution_count": 9,
   "metadata": {},
   "outputs": [],
   "source": [
    "def func_count(x):\n",
    "    result = dict()\n",
    "    number = np.unique(x) # 调用unique函数对x进行去重\n",
    "    for n in number:\n",
    "        result[n] = x[x == n].size # 计算点数n出现了多少次\n",
    "    return result"
   ]
  },
  {
   "cell_type": "code",
   "execution_count": 10,
   "metadata": {},
   "outputs": [
    {
     "data": {
      "text/plain": [
       "{1: 1674, 2: 1703, 3: 1645, 4: 1741, 5: 1633, 6: 1604}"
      ]
     },
     "execution_count": 10,
     "metadata": {},
     "output_type": "execute_result"
    }
   ],
   "source": [
    "func_count(dies)"
   ]
  },
  {
   "cell_type": "code",
   "execution_count": 11,
   "metadata": {},
   "outputs": [],
   "source": [
    "die_1 = rd.randint(1,7,10000)\n",
    "die_2 = rd.randint(1,7,10000)\n",
    "die_sum = die_1 + die_2"
   ]
  },
  {
   "cell_type": "code",
   "execution_count": 12,
   "metadata": {},
   "outputs": [
    {
     "data": {
      "text/plain": [
       "{2: 287,\n",
       " 3: 557,\n",
       " 4: 841,\n",
       " 5: 1116,\n",
       " 6: 1411,\n",
       " 7: 1682,\n",
       " 8: 1382,\n",
       " 9: 1089,\n",
       " 10: 822,\n",
       " 11: 548,\n",
       " 12: 265}"
      ]
     },
     "execution_count": 12,
     "metadata": {},
     "output_type": "execute_result"
    }
   ],
   "source": [
    "func_count(die_sum)"
   ]
  },
  {
   "cell_type": "code",
   "execution_count": 13,
   "metadata": {},
   "outputs": [],
   "source": [
    "def func_prob(x):\n",
    "    result = dict()\n",
    "    number = np.unique(x)\n",
    "    for n in number:\n",
    "        result[n] = x[x == n].size/len(x)\n",
    "    return result"
   ]
  },
  {
   "cell_type": "code",
   "execution_count": 51,
   "metadata": {},
   "outputs": [
    {
     "data": {
      "text/plain": [
       "{2: 0.0262,\n",
       " 3: 0.0578,\n",
       " 4: 0.0799,\n",
       " 5: 0.1121,\n",
       " 6: 0.1398,\n",
       " 7: 0.1618,\n",
       " 8: 0.1467,\n",
       " 9: 0.1082,\n",
       " 10: 0.0844,\n",
       " 11: 0.0563,\n",
       " 12: 0.0268}"
      ]
     },
     "execution_count": 51,
     "metadata": {},
     "output_type": "execute_result"
    }
   ],
   "source": [
    "func_prob(die_sum)"
   ]
  },
  {
   "cell_type": "code",
   "execution_count": 15,
   "metadata": {},
   "outputs": [
    {
     "name": "stdout",
     "output_type": "stream",
     "text": [
      "模拟概率为0.0277\n"
     ]
    }
   ],
   "source": [
    "test_num = 10000\n",
    "die_1 = rd.randint(1,7,test_num) # 用die_1保存第一个骰子掷出的点数\n",
    "die_2 = rd.randint(1,7,test_num) # 用die_2保存第二个骰子掷出的点数\n",
    "result = (die_1 == 5) & (die_2 == 5)  # 用一个逻辑向量来计算两个骰子点数都为5的结果\n",
    "sim_prob = result.sum()/test_num # 把逻辑向量加起来再除以掷的总次数得到的数近似两个骰子同时掷出5点的概率\n",
    "print(\"模拟概率为{x:.4f}\".format(x=sim_prob))"
   ]
  },
  {
   "cell_type": "code",
   "execution_count": 16,
   "metadata": {},
   "outputs": [
    {
     "name": "stdout",
     "output_type": "stream",
     "text": [
      "真实概率为0.0278\n"
     ]
    }
   ],
   "source": [
    "real_prob = (1/6)*(1/6)\n",
    "print(\"真实概率为{x:.4f}\".format(x=real_prob))"
   ]
  },
  {
   "cell_type": "markdown",
   "metadata": {},
   "source": [
    "### 3. 硬币的模拟"
   ]
  },
  {
   "cell_type": "code",
   "execution_count": 17,
   "metadata": {},
   "outputs": [],
   "source": [
    "test_num = 10000\n",
    "coin_1 = rd.randint(0,2,test_num)\n",
    "coin_2 = rd.randint(0,2,test_num)\n",
    "coin_3 = rd.randint(0,2,test_num)"
   ]
  },
  {
   "cell_type": "code",
   "execution_count": 18,
   "metadata": {},
   "outputs": [
    {
     "data": {
      "text/plain": [
       "0.2456"
      ]
     },
     "execution_count": 18,
     "metadata": {},
     "output_type": "execute_result"
    }
   ],
   "source": [
    "result_1 = (coin_1 == 1) & (coin_2 == 1) & (coin_3 == 1)\n",
    "result_2 = (coin_1 == 0) & (coin_2 == 0) & (coin_3 == 0)\n",
    "(result_1.sum()+result_2.sum())/test_num"
   ]
  },
  {
   "cell_type": "code",
   "execution_count": 19,
   "metadata": {},
   "outputs": [],
   "source": [
    "test_num = 10000\n",
    "coin_1 = rd.randint(0,2,test_num)\n",
    "coin_2 = rd.randint(0,2,test_num)\n",
    "result_1 = (coin_1 == 1) & (coin_2 == 1)\n",
    "result_2 = (coin_1 == 0) & (coin_2 == 0)\n",
    "result_3 = ((coin_1 == 0) & (coin_2 == 1)) | ((coin_1 == 1) & (coin_2 == 0))"
   ]
  },
  {
   "cell_type": "code",
   "execution_count": 20,
   "metadata": {},
   "outputs": [
    {
     "name": "stdout",
     "output_type": "stream",
     "text": [
      "2556\n",
      "2478\n",
      "4966\n"
     ]
    }
   ],
   "source": [
    "print(result_1.sum())\n",
    "print(result_2.sum())\n",
    "print(result_3.sum())"
   ]
  },
  {
   "cell_type": "code",
   "execution_count": 21,
   "metadata": {},
   "outputs": [],
   "source": [
    "amt_result = 3*result_1+1*result_2 +(-2)*result_3"
   ]
  },
  {
   "cell_type": "code",
   "execution_count": 22,
   "metadata": {},
   "outputs": [
    {
     "data": {
      "text/plain": [
       "214"
      ]
     },
     "execution_count": 22,
     "metadata": {},
     "output_type": "execute_result"
    }
   ],
   "source": [
    "amt_result.sum()"
   ]
  },
  {
   "cell_type": "code",
   "execution_count": 23,
   "metadata": {},
   "outputs": [
    {
     "data": {
      "text/plain": [
       "-4928"
      ]
     },
     "execution_count": 23,
     "metadata": {},
     "output_type": "execute_result"
    }
   ],
   "source": [
    "test_num = 10000\n",
    "coin_1 = rd.randint(0,2,test_num)\n",
    "coin_2 = np.zeros(test_num)\n",
    "result_1 = (coin_1 == 1) & (coin_2 == 1)\n",
    "result_2 = (coin_1 == 0) & (coin_2 == 0)\n",
    "result_3 = ((coin_1 == 0) & (coin_2 == 1)) | ((coin_1 == 1) & (coin_2 == 0))\n",
    "amt_result = 3*result_1+1*result_2 +(-2)*result_3\n",
    "amt_result.sum()"
   ]
  },
  {
   "cell_type": "markdown",
   "metadata": {},
   "source": [
    "### 练习"
   ]
  },
  {
   "cell_type": "code",
   "execution_count": 24,
   "metadata": {},
   "outputs": [],
   "source": [
    "suit = ['红心','黑桃','方片','草花']\n",
    "number = ['2','3','4','5','6','7','8','9','10','J','Q','K','A']\n",
    "cards = np.array([{'s':s,'n':n} for s in suit for n in number])"
   ]
  },
  {
   "cell_type": "code",
   "execution_count": 25,
   "metadata": {},
   "outputs": [
    {
     "data": {
      "text/plain": [
       "array([{'s': '红心', 'n': '2'}, {'s': '红心', 'n': '3'},\n",
       "       {'s': '红心', 'n': '4'}, {'s': '红心', 'n': '5'}], dtype=object)"
      ]
     },
     "execution_count": 25,
     "metadata": {},
     "output_type": "execute_result"
    }
   ],
   "source": [
    "cards[:4]"
   ]
  },
  {
   "cell_type": "code",
   "execution_count": 26,
   "metadata": {},
   "outputs": [],
   "source": [
    "my_card = rd.choice(cards, 2,replace=False)"
   ]
  },
  {
   "cell_type": "code",
   "execution_count": 27,
   "metadata": {},
   "outputs": [
    {
     "data": {
      "text/plain": [
       "array([{'s': '红心', 'n': 'Q'}, {'s': '黑桃', 'n': 'Q'}], dtype=object)"
      ]
     },
     "execution_count": 27,
     "metadata": {},
     "output_type": "execute_result"
    }
   ],
   "source": [
    "my_card"
   ]
  },
  {
   "cell_type": "code",
   "execution_count": 28,
   "metadata": {},
   "outputs": [],
   "source": [
    "def cards_func():\n",
    "    my_card = rd.choice(cards, 2,replace=False)\n",
    "    is_AA = my_card[0]['n'] == 'A' and my_card[1]['n'] == 'A'\n",
    "    return is_AA"
   ]
  },
  {
   "cell_type": "code",
   "execution_count": 29,
   "metadata": {},
   "outputs": [],
   "source": [
    "test_num = 10000\n",
    "result = np.array([cards_func() for x in range(test_num)])"
   ]
  },
  {
   "cell_type": "code",
   "execution_count": 30,
   "metadata": {},
   "outputs": [
    {
     "name": "stdout",
     "output_type": "stream",
     "text": [
      "模拟概率为0.0049\n"
     ]
    }
   ],
   "source": [
    "sim_prob = result.sum()/test_num\n",
    "print(\"模拟概率为{x:.4f}\".format(x=sim_prob))"
   ]
  },
  {
   "cell_type": "code",
   "execution_count": 31,
   "metadata": {},
   "outputs": [
    {
     "name": "stdout",
     "output_type": "stream",
     "text": [
      "真实概率为0.0045\n"
     ]
    }
   ],
   "source": [
    "real_prob = (4/52)*(3/51)\n",
    "print(\"真实概率为{x:.4f}\".format(x=real_prob))"
   ]
  }
 ],
 "metadata": {
  "kernelspec": {
   "display_name": "Python 3",
   "language": "python",
   "name": "python3"
  },
  "language_info": {
   "codemirror_mode": {
    "name": "ipython",
    "version": 3
   },
   "file_extension": ".py",
   "mimetype": "text/x-python",
   "name": "python",
   "nbconvert_exporter": "python",
   "pygments_lexer": "ipython3",
   "version": "3.9.12"
  }
 },
 "nbformat": 4,
 "nbformat_minor": 2
}
